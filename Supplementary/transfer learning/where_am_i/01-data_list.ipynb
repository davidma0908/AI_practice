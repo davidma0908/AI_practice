{
 "cells": [
  {
   "cell_type": "code",
   "execution_count": 1,
   "metadata": {},
   "outputs": [],
   "source": [
    "import os\n",
    "import cv2\n",
    "import pandas as pd\n",
    "from glob import glob\n",
    "\n",
    "from sklearn.utils import shuffle\n",
    "from sklearn.model_selection import train_test_split\n",
    "\n",
    "from time import time"
   ]
  },
  {
   "cell_type": "markdown",
   "metadata": {},
   "source": [
    "# 基本設定"
   ]
  },
  {
   "cell_type": "code",
   "execution_count": 2,
   "metadata": {},
   "outputs": [],
   "source": [
    "data_dir_path = '/data/examples/may_the_4_be_with_u/where_am_i'"
   ]
  },
  {
   "cell_type": "markdown",
   "metadata": {},
   "source": [
    "# 建立 target labels 清單"
   ]
  },
  {
   "cell_type": "code",
   "execution_count": 3,
   "metadata": {},
   "outputs": [],
   "source": [
    "target_label_file_name = 'mapping.txt'\n",
    "# /data/examples/may_the_4_be_with_u/where_am_i/mid_term_mapping.txt\n",
    "target_label_file_path = '/'.join((data_dir_path, target_label_file_name))\n",
    "\n",
    "with open(target_label_file_path) as f:\n",
    "    all_lines = [line.split(', ') for line in f.read().splitlines()]\n",
    "\n",
    "target_labels = dict()\n",
    "for line in all_lines:\n",
    "    target_class, target_label = line\n",
    "    target_labels[target_class] = target_label"
   ]
  },
  {
   "cell_type": "code",
   "execution_count": 4,
   "metadata": {},
   "outputs": [
    {
     "data": {
      "text/plain": [
       "{'CALsuburb': '9',\n",
       " 'PARoffice': '7',\n",
       " 'bedroom': '12',\n",
       " 'coast': '10',\n",
       " 'forest': '4',\n",
       " 'highway': '14',\n",
       " 'industrial': '2',\n",
       " 'insidecity': '3',\n",
       " 'kitchen': '0',\n",
       " 'livingroom': '5',\n",
       " 'mountain': '8',\n",
       " 'opencountry': '6',\n",
       " 'store': '11',\n",
       " 'street': '1',\n",
       " 'tallbuilding': '13'}"
      ]
     },
     "execution_count": 4,
     "metadata": {},
     "output_type": "execute_result"
    }
   ],
   "source": [
    "target_labels"
   ]
  },
  {
   "cell_type": "markdown",
   "metadata": {},
   "source": [
    "# 建立資料清單"
   ]
  },
  {
   "cell_type": "code",
   "execution_count": 5,
   "metadata": {},
   "outputs": [],
   "source": [
    "# 指定存放 train 資料集的資料夾\n",
    "train_dir = '/'.join((data_dir_path, 'train'))\n",
    "img_path_list = []\n",
    "img_class_list = []\n",
    "for key in target_labels.keys():\n",
    "    for file_path in glob('{}/{}/*.jpg'.format(train_dir, key)):\n",
    "        img_class_list.append(target_labels[key])\n",
    "        img_path_list.append(file_path)\n",
    "\n",
    "data_list = pd.DataFrame({'class': img_class_list, 'path': img_path_list})"
   ]
  },
  {
   "cell_type": "code",
   "execution_count": 6,
   "metadata": {},
   "outputs": [
    {
     "data": {
      "text/html": [
       "<div>\n",
       "<style scoped>\n",
       "    .dataframe tbody tr th:only-of-type {\n",
       "        vertical-align: middle;\n",
       "    }\n",
       "\n",
       "    .dataframe tbody tr th {\n",
       "        vertical-align: top;\n",
       "    }\n",
       "\n",
       "    .dataframe thead th {\n",
       "        text-align: right;\n",
       "    }\n",
       "</style>\n",
       "<table border=\"1\" class=\"dataframe\">\n",
       "  <thead>\n",
       "    <tr style=\"text-align: right;\">\n",
       "      <th></th>\n",
       "      <th>class</th>\n",
       "      <th>path</th>\n",
       "    </tr>\n",
       "  </thead>\n",
       "  <tbody>\n",
       "    <tr>\n",
       "      <th>0</th>\n",
       "      <td>9</td>\n",
       "      <td>/data/examples/may_the_4_be_with_u/where_am_i/...</td>\n",
       "    </tr>\n",
       "    <tr>\n",
       "      <th>1</th>\n",
       "      <td>9</td>\n",
       "      <td>/data/examples/may_the_4_be_with_u/where_am_i/...</td>\n",
       "    </tr>\n",
       "    <tr>\n",
       "      <th>2</th>\n",
       "      <td>9</td>\n",
       "      <td>/data/examples/may_the_4_be_with_u/where_am_i/...</td>\n",
       "    </tr>\n",
       "    <tr>\n",
       "      <th>3</th>\n",
       "      <td>9</td>\n",
       "      <td>/data/examples/may_the_4_be_with_u/where_am_i/...</td>\n",
       "    </tr>\n",
       "    <tr>\n",
       "      <th>4</th>\n",
       "      <td>9</td>\n",
       "      <td>/data/examples/may_the_4_be_with_u/where_am_i/...</td>\n",
       "    </tr>\n",
       "    <tr>\n",
       "      <th>5</th>\n",
       "      <td>9</td>\n",
       "      <td>/data/examples/may_the_4_be_with_u/where_am_i/...</td>\n",
       "    </tr>\n",
       "    <tr>\n",
       "      <th>6</th>\n",
       "      <td>9</td>\n",
       "      <td>/data/examples/may_the_4_be_with_u/where_am_i/...</td>\n",
       "    </tr>\n",
       "    <tr>\n",
       "      <th>7</th>\n",
       "      <td>9</td>\n",
       "      <td>/data/examples/may_the_4_be_with_u/where_am_i/...</td>\n",
       "    </tr>\n",
       "    <tr>\n",
       "      <th>8</th>\n",
       "      <td>9</td>\n",
       "      <td>/data/examples/may_the_4_be_with_u/where_am_i/...</td>\n",
       "    </tr>\n",
       "    <tr>\n",
       "      <th>9</th>\n",
       "      <td>9</td>\n",
       "      <td>/data/examples/may_the_4_be_with_u/where_am_i/...</td>\n",
       "    </tr>\n",
       "  </tbody>\n",
       "</table>\n",
       "</div>"
      ],
      "text/plain": [
       "  class                                               path\n",
       "0     9  /data/examples/may_the_4_be_with_u/where_am_i/...\n",
       "1     9  /data/examples/may_the_4_be_with_u/where_am_i/...\n",
       "2     9  /data/examples/may_the_4_be_with_u/where_am_i/...\n",
       "3     9  /data/examples/may_the_4_be_with_u/where_am_i/...\n",
       "4     9  /data/examples/may_the_4_be_with_u/where_am_i/...\n",
       "5     9  /data/examples/may_the_4_be_with_u/where_am_i/...\n",
       "6     9  /data/examples/may_the_4_be_with_u/where_am_i/...\n",
       "7     9  /data/examples/may_the_4_be_with_u/where_am_i/...\n",
       "8     9  /data/examples/may_the_4_be_with_u/where_am_i/...\n",
       "9     9  /data/examples/may_the_4_be_with_u/where_am_i/..."
      ]
     },
     "execution_count": 6,
     "metadata": {},
     "output_type": "execute_result"
    }
   ],
   "source": [
    "data_list.head(10)"
   ]
  },
  {
   "cell_type": "markdown",
   "metadata": {},
   "source": [
    "## Shuffle and split the list into training set and validation set"
   ]
  },
  {
   "cell_type": "code",
   "execution_count": 7,
   "metadata": {},
   "outputs": [
    {
     "data": {
      "text/html": [
       "<div>\n",
       "<style scoped>\n",
       "    .dataframe tbody tr th:only-of-type {\n",
       "        vertical-align: middle;\n",
       "    }\n",
       "\n",
       "    .dataframe tbody tr th {\n",
       "        vertical-align: top;\n",
       "    }\n",
       "\n",
       "    .dataframe thead th {\n",
       "        text-align: right;\n",
       "    }\n",
       "</style>\n",
       "<table border=\"1\" class=\"dataframe\">\n",
       "  <thead>\n",
       "    <tr style=\"text-align: right;\">\n",
       "      <th></th>\n",
       "      <th>class</th>\n",
       "      <th>path</th>\n",
       "    </tr>\n",
       "  </thead>\n",
       "  <tbody>\n",
       "    <tr>\n",
       "      <th>2570</th>\n",
       "      <td>1</td>\n",
       "      <td>/data/examples/may_the_4_be_with_u/where_am_i/...</td>\n",
       "    </tr>\n",
       "    <tr>\n",
       "      <th>1151</th>\n",
       "      <td>2</td>\n",
       "      <td>/data/examples/may_the_4_be_with_u/where_am_i/...</td>\n",
       "    </tr>\n",
       "    <tr>\n",
       "      <th>226</th>\n",
       "      <td>7</td>\n",
       "      <td>/data/examples/may_the_4_be_with_u/where_am_i/...</td>\n",
       "    </tr>\n",
       "    <tr>\n",
       "      <th>641</th>\n",
       "      <td>4</td>\n",
       "      <td>/data/examples/may_the_4_be_with_u/where_am_i/...</td>\n",
       "    </tr>\n",
       "    <tr>\n",
       "      <th>1825</th>\n",
       "      <td>8</td>\n",
       "      <td>/data/examples/may_the_4_be_with_u/where_am_i/...</td>\n",
       "    </tr>\n",
       "    <tr>\n",
       "      <th>2704</th>\n",
       "      <td>1</td>\n",
       "      <td>/data/examples/may_the_4_be_with_u/where_am_i/...</td>\n",
       "    </tr>\n",
       "    <tr>\n",
       "      <th>953</th>\n",
       "      <td>14</td>\n",
       "      <td>/data/examples/may_the_4_be_with_u/where_am_i/...</td>\n",
       "    </tr>\n",
       "    <tr>\n",
       "      <th>543</th>\n",
       "      <td>10</td>\n",
       "      <td>/data/examples/may_the_4_be_with_u/where_am_i/...</td>\n",
       "    </tr>\n",
       "    <tr>\n",
       "      <th>186</th>\n",
       "      <td>7</td>\n",
       "      <td>/data/examples/may_the_4_be_with_u/where_am_i/...</td>\n",
       "    </tr>\n",
       "    <tr>\n",
       "      <th>2242</th>\n",
       "      <td>6</td>\n",
       "      <td>/data/examples/may_the_4_be_with_u/where_am_i/...</td>\n",
       "    </tr>\n",
       "  </tbody>\n",
       "</table>\n",
       "</div>"
      ],
      "text/plain": [
       "     class                                               path\n",
       "2570     1  /data/examples/may_the_4_be_with_u/where_am_i/...\n",
       "1151     2  /data/examples/may_the_4_be_with_u/where_am_i/...\n",
       "226      7  /data/examples/may_the_4_be_with_u/where_am_i/...\n",
       "641      4  /data/examples/may_the_4_be_with_u/where_am_i/...\n",
       "1825     8  /data/examples/may_the_4_be_with_u/where_am_i/...\n",
       "2704     1  /data/examples/may_the_4_be_with_u/where_am_i/...\n",
       "953     14  /data/examples/may_the_4_be_with_u/where_am_i/...\n",
       "543     10  /data/examples/may_the_4_be_with_u/where_am_i/...\n",
       "186      7  /data/examples/may_the_4_be_with_u/where_am_i/...\n",
       "2242     6  /data/examples/may_the_4_be_with_u/where_am_i/..."
      ]
     },
     "execution_count": 7,
     "metadata": {},
     "output_type": "execute_result"
    }
   ],
   "source": [
    "# 將資料清單隨機打亂\n",
    "rand_seed = int(time())\n",
    "data_list = shuffle(data_list, random_state=rand_seed)\n",
    "data_list.head(10)"
   ]
  },
  {
   "cell_type": "code",
   "execution_count": 8,
   "metadata": {},
   "outputs": [],
   "source": [
    "X = pd.DataFrame(data_list['path'], columns=['path'])\n",
    "y = pd.DataFrame(data_list['class'], columns=['class'])\n",
    "X_train, X_valid, y_train, y_valid = train_test_split(X, y, test_size=0.25)"
   ]
  },
  {
   "cell_type": "markdown",
   "metadata": {},
   "source": [
    "經過 train_test_split 切割出來的 train 及 test 資料，samples 跟 labels 清單的 index 順序是一樣的，可以安心拿來訓練 model。"
   ]
  },
  {
   "cell_type": "code",
   "execution_count": 9,
   "metadata": {},
   "outputs": [
    {
     "name": "stdout",
     "output_type": "stream",
     "text": [
      "Some training samples:\n",
      "----------------------\n",
      "                                                   path\n",
      "757   /data/examples/may_the_4_be_with_u/where_am_i/...\n",
      "2469  /data/examples/may_the_4_be_with_u/where_am_i/...\n",
      "2473  /data/examples/may_the_4_be_with_u/where_am_i/...\n",
      "2262  /data/examples/may_the_4_be_with_u/where_am_i/...\n",
      "684   /data/examples/may_the_4_be_with_u/where_am_i/...\n",
      "\n",
      "Some training labels:\n",
      "---------------------\n",
      "     class\n",
      "757      4\n",
      "2469    11\n",
      "2473    11\n",
      "2262     6\n",
      "684      4\n",
      "\n",
      "Some validation samples:\n",
      "------------------------\n",
      "                                                   path\n",
      "751   /data/examples/may_the_4_be_with_u/where_am_i/...\n",
      "1220  /data/examples/may_the_4_be_with_u/where_am_i/...\n",
      "2885  /data/examples/may_the_4_be_with_u/where_am_i/...\n",
      "1312  /data/examples/may_the_4_be_with_u/where_am_i/...\n",
      "463   /data/examples/may_the_4_be_with_u/where_am_i/...\n",
      "\n",
      "Some validation labels:\n",
      "-----------------------\n",
      "     class\n",
      "751      4\n",
      "1220     2\n",
      "2885    13\n",
      "1312     3\n",
      "463     10\n"
     ]
    }
   ],
   "source": [
    "print('Some training samples:\\n----------------------')\n",
    "print(X_train.head())\n",
    "\n",
    "print('\\nSome training labels:\\n---------------------')\n",
    "print(y_train.head())\n",
    "\n",
    "print('\\nSome validation samples:\\n------------------------')\n",
    "print(X_valid.head())\n",
    "\n",
    "print('\\nSome validation labels:\\n-----------------------')\n",
    "print(y_valid.head())"
   ]
  },
  {
   "cell_type": "markdown",
   "metadata": {},
   "source": [
    "把 DataFrame 存為 .csv 檔"
   ]
  },
  {
   "cell_type": "code",
   "execution_count": 10,
   "metadata": {},
   "outputs": [],
   "source": [
    "# Save to csv\n",
    "X_train.to_csv('X_train.csv', index=False)\n",
    "y_train.to_csv('y_train.csv', index=False)\n",
    "X_valid.to_csv('X_valid.csv', index=False)\n",
    "y_valid.to_csv('y_valid.csv', index=False)"
   ]
  }
 ],
 "metadata": {
  "kernelspec": {
   "display_name": "Python 3",
   "language": "python",
   "name": "python3"
  },
  "language_info": {
   "codemirror_mode": {
    "name": "ipython",
    "version": 3
   },
   "file_extension": ".py",
   "mimetype": "text/x-python",
   "name": "python",
   "nbconvert_exporter": "python",
   "pygments_lexer": "ipython3",
   "version": "3.6.6"
  }
 },
 "nbformat": 4,
 "nbformat_minor": 2
}
