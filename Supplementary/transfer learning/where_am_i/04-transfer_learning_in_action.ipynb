{
 "cells": [
  {
   "cell_type": "markdown",
   "metadata": {},
   "source": [
    "# 以 VGG16 為例，來示範 Transfer Learning 的作法"
   ]
  },
  {
   "cell_type": "code",
   "execution_count": 1,
   "metadata": {},
   "outputs": [
    {
     "name": "stderr",
     "output_type": "stream",
     "text": [
      "Using TensorFlow backend.\n"
     ]
    }
   ],
   "source": [
    "import warnings\n",
    "warnings.filterwarnings('ignore')\n",
    "\n",
    "import keras\n",
    "from keras.preprocessing.image import ImageDataGenerator\n",
    "from keras.models import Sequential, load_model, Model\n",
    "from keras.layers import Dense, Dropout, Activation, Flatten\n",
    "from keras.layers import Conv2D, MaxPooling2D, BatchNormalization\n",
    "from keras.callbacks import EarlyStopping, ModelCheckpoint\n",
    "\n",
    "import matplotlib.pyplot as plt\n",
    "import pandas as pd\n",
    "import numpy as np\n",
    "\n",
    "from utils import load_data, load_test_data\n",
    "from utils import num_classes, epochs, batch_size"
   ]
  },
  {
   "cell_type": "code",
   "execution_count": 2,
   "metadata": {},
   "outputs": [],
   "source": [
    "X_train, y_train, X_valid, y_valid = load_data(Gray2RGB=True, mean_proc='VGG16_ImageNet', img_size=224)"
   ]
  },
  {
   "cell_type": "markdown",
   "metadata": {},
   "source": [
    "## 讀取 pretrain model 可選擇要不要使用它末端的 dense layers\n",
    "\n",
    "* include_top = True，會沿用 pre-trained model 後端的全連接層\n",
    "* include_top = False，只會留 pre-trained model 的 CNN 層"
   ]
  },
  {
   "cell_type": "markdown",
   "metadata": {},
   "source": [
    "## Fine Tuning & Layer Transfer\n",
    "\n",
    "* Fine tuning：不鎖 layers，pre-trained model 的每一層都可以再訓練\n",
    "* Layer transfer：鎖住 pre-trained model 的 layers，只訓練自己額外加的 dense layers\n",
    "\n",
    "實務上 fine tuning 跟 layer transfer 不會分這麼清楚，不一定會全鎖或全不鎖，你可能會留 CNN 的後面幾層是可以訓練的，但鎖住前面幾層做特徵萃取器。"
   ]
  },
  {
   "cell_type": "markdown",
   "metadata": {},
   "source": [
    "# Fine Tuning 實例"
   ]
  },
  {
   "cell_type": "code",
   "execution_count": 3,
   "metadata": {},
   "outputs": [
    {
     "name": "stdout",
     "output_type": "stream",
     "text": [
      "_________________________________________________________________\n",
      "Layer (type)                 Output Shape              Param #   \n",
      "=================================================================\n",
      "input_1 (InputLayer)         (None, 224, 224, 3)       0         \n",
      "_________________________________________________________________\n",
      "block1_conv1 (Conv2D)        (None, 224, 224, 64)      1792      \n",
      "_________________________________________________________________\n",
      "block1_conv2 (Conv2D)        (None, 224, 224, 64)      36928     \n",
      "_________________________________________________________________\n",
      "block1_pool (MaxPooling2D)   (None, 112, 112, 64)      0         \n",
      "_________________________________________________________________\n",
      "block2_conv1 (Conv2D)        (None, 112, 112, 128)     73856     \n",
      "_________________________________________________________________\n",
      "block2_conv2 (Conv2D)        (None, 112, 112, 128)     147584    \n",
      "_________________________________________________________________\n",
      "block2_pool (MaxPooling2D)   (None, 56, 56, 128)       0         \n",
      "_________________________________________________________________\n",
      "block3_conv1 (Conv2D)        (None, 56, 56, 256)       295168    \n",
      "_________________________________________________________________\n",
      "block3_conv2 (Conv2D)        (None, 56, 56, 256)       590080    \n",
      "_________________________________________________________________\n",
      "block3_conv3 (Conv2D)        (None, 56, 56, 256)       590080    \n",
      "_________________________________________________________________\n",
      "block3_pool (MaxPooling2D)   (None, 28, 28, 256)       0         \n",
      "_________________________________________________________________\n",
      "block4_conv1 (Conv2D)        (None, 28, 28, 512)       1180160   \n",
      "_________________________________________________________________\n",
      "block4_conv2 (Conv2D)        (None, 28, 28, 512)       2359808   \n",
      "_________________________________________________________________\n",
      "block4_conv3 (Conv2D)        (None, 28, 28, 512)       2359808   \n",
      "_________________________________________________________________\n",
      "block4_pool (MaxPooling2D)   (None, 14, 14, 512)       0         \n",
      "_________________________________________________________________\n",
      "block5_conv1 (Conv2D)        (None, 14, 14, 512)       2359808   \n",
      "_________________________________________________________________\n",
      "block5_conv2 (Conv2D)        (None, 14, 14, 512)       2359808   \n",
      "_________________________________________________________________\n",
      "block5_conv3 (Conv2D)        (None, 14, 14, 512)       2359808   \n",
      "_________________________________________________________________\n",
      "block5_pool (MaxPooling2D)   (None, 7, 7, 512)         0         \n",
      "_________________________________________________________________\n",
      "flatten_1 (Flatten)          (None, 25088)             0         \n",
      "_________________________________________________________________\n",
      "dropout_1 (Dropout)          (None, 25088)             0         \n",
      "_________________________________________________________________\n",
      "dense_1 (Dense)              (None, 15)                376335    \n",
      "=================================================================\n",
      "Total params: 15,091,023\n",
      "Trainable params: 15,091,023\n",
      "Non-trainable params: 0\n",
      "_________________________________________________________________\n"
     ]
    }
   ],
   "source": [
    "# 此例完全不鎖層，充分的 fine tuning\n",
    "model_name = 'VGG16-Fine-Tune'\n",
    "\n",
    "img_rows, img_cols, img_channel = 224, 224, 3\n",
    "\n",
    "base_model = keras.applications.vgg16.VGG16(weights='imagenet', include_top=False,\n",
    "                                            input_shape=(img_rows, img_cols, img_channel))\n",
    "# for layer in base_model.layers:\n",
    "#     layer.trainable = False\n",
    "\n",
    "x = base_model.output\n",
    "x = Flatten()(x)\n",
    "x = Dropout(0.5)(x)\n",
    "predictions = Dense(num_classes, activation='softmax')(x)\n",
    "model = Model(inputs=base_model.input, outputs=predictions)\n",
    "\n",
    "model.summary()"
   ]
  },
  {
   "cell_type": "code",
   "execution_count": 4,
   "metadata": {},
   "outputs": [
    {
     "name": "stdout",
     "output_type": "stream",
     "text": [
      "Epoch 1/100\n",
      " - 25s - loss: 2.7509 - acc: 0.1301 - val_loss: 2.0086 - val_acc: 0.3788\n",
      "\n",
      "Epoch 00001: val_loss improved from inf to 2.00860, saving model to ./saved_models/VGG16-Fine-Tune.h5\n",
      "Epoch 2/100\n",
      " - 19s - loss: 1.9904 - acc: 0.3446 - val_loss: 1.3038 - val_acc: 0.5529\n",
      "\n",
      "Epoch 00002: val_loss improved from 2.00860 to 1.30381, saving model to ./saved_models/VGG16-Fine-Tune.h5\n",
      "Epoch 3/100\n",
      " - 19s - loss: 1.5041 - acc: 0.4976 - val_loss: 0.9702 - val_acc: 0.6680\n",
      "\n",
      "Epoch 00003: val_loss improved from 1.30381 to 0.97024, saving model to ./saved_models/VGG16-Fine-Tune.h5\n",
      "Epoch 4/100\n",
      " - 19s - loss: 1.2658 - acc: 0.5624 - val_loss: 0.7808 - val_acc: 0.7483\n",
      "\n",
      "Epoch 00004: val_loss improved from 0.97024 to 0.78084, saving model to ./saved_models/VGG16-Fine-Tune.h5\n",
      "Epoch 5/100\n",
      " - 19s - loss: 1.0745 - acc: 0.6313 - val_loss: 0.7263 - val_acc: 0.7497\n",
      "\n",
      "Epoch 00005: val_loss improved from 0.78084 to 0.72625, saving model to ./saved_models/VGG16-Fine-Tune.h5\n",
      "Epoch 6/100\n",
      " - 19s - loss: 0.9627 - acc: 0.6753 - val_loss: 0.6649 - val_acc: 0.7684\n",
      "\n",
      "Epoch 00006: val_loss improved from 0.72625 to 0.66489, saving model to ./saved_models/VGG16-Fine-Tune.h5\n",
      "Epoch 7/100\n",
      " - 19s - loss: 0.8928 - acc: 0.6872 - val_loss: 0.5870 - val_acc: 0.7885\n",
      "\n",
      "Epoch 00007: val_loss improved from 0.66489 to 0.58699, saving model to ./saved_models/VGG16-Fine-Tune.h5\n",
      "Epoch 8/100\n",
      " - 19s - loss: 0.8046 - acc: 0.7275 - val_loss: 0.5410 - val_acc: 0.8086\n",
      "\n",
      "Epoch 00008: val_loss improved from 0.58699 to 0.54103, saving model to ./saved_models/VGG16-Fine-Tune.h5\n",
      "Epoch 9/100\n",
      " - 20s - loss: 0.7119 - acc: 0.7582 - val_loss: 0.5222 - val_acc: 0.8220\n",
      "\n",
      "Epoch 00009: val_loss improved from 0.54103 to 0.52218, saving model to ./saved_models/VGG16-Fine-Tune.h5\n",
      "Epoch 10/100\n",
      " - 19s - loss: 0.6870 - acc: 0.7636 - val_loss: 0.5983 - val_acc: 0.7952\n",
      "\n",
      "Epoch 00010: val_loss did not improve from 0.52218\n",
      "Epoch 11/100\n",
      " - 19s - loss: 0.6370 - acc: 0.7926 - val_loss: 0.5035 - val_acc: 0.8487\n",
      "\n",
      "Epoch 00011: val_loss improved from 0.52218 to 0.50350, saving model to ./saved_models/VGG16-Fine-Tune.h5\n",
      "Epoch 12/100\n",
      " - 19s - loss: 0.5851 - acc: 0.8022 - val_loss: 0.5656 - val_acc: 0.8233\n",
      "\n",
      "Epoch 00012: val_loss did not improve from 0.50350\n",
      "Epoch 13/100\n",
      " - 19s - loss: 0.5489 - acc: 0.8105 - val_loss: 0.5069 - val_acc: 0.8313\n",
      "\n",
      "Epoch 00013: val_loss did not improve from 0.50350\n",
      "Epoch 14/100\n",
      " - 19s - loss: 0.5525 - acc: 0.8056 - val_loss: 0.4756 - val_acc: 0.8474\n",
      "\n",
      "Epoch 00014: val_loss improved from 0.50350 to 0.47556, saving model to ./saved_models/VGG16-Fine-Tune.h5\n",
      "Epoch 15/100\n",
      " - 20s - loss: 0.5061 - acc: 0.8186 - val_loss: 0.4793 - val_acc: 0.8286\n",
      "\n",
      "Epoch 00015: val_loss did not improve from 0.47556\n",
      "Epoch 16/100\n",
      " - 20s - loss: 0.4675 - acc: 0.8451 - val_loss: 0.4848 - val_acc: 0.8420\n",
      "\n",
      "Epoch 00016: val_loss did not improve from 0.47556\n",
      "Epoch 17/100\n",
      " - 19s - loss: 0.4422 - acc: 0.8428 - val_loss: 0.4295 - val_acc: 0.8514\n",
      "\n",
      "Epoch 00017: val_loss improved from 0.47556 to 0.42951, saving model to ./saved_models/VGG16-Fine-Tune.h5\n",
      "Epoch 18/100\n",
      " - 19s - loss: 0.4141 - acc: 0.8620 - val_loss: 0.4257 - val_acc: 0.8661\n",
      "\n",
      "Epoch 00018: val_loss improved from 0.42951 to 0.42574, saving model to ./saved_models/VGG16-Fine-Tune.h5\n",
      "Epoch 19/100\n",
      " - 20s - loss: 0.4139 - acc: 0.8517 - val_loss: 0.3861 - val_acc: 0.8809\n",
      "\n",
      "Epoch 00019: val_loss improved from 0.42574 to 0.38607, saving model to ./saved_models/VGG16-Fine-Tune.h5\n",
      "Epoch 20/100\n",
      " - 19s - loss: 0.4089 - acc: 0.8615 - val_loss: 0.5084 - val_acc: 0.8286\n",
      "\n",
      "Epoch 00020: val_loss did not improve from 0.38607\n",
      "Epoch 21/100\n",
      " - 19s - loss: 0.3526 - acc: 0.8794 - val_loss: 0.4131 - val_acc: 0.8635\n",
      "\n",
      "Epoch 00021: val_loss did not improve from 0.38607\n",
      "Epoch 22/100\n",
      " - 20s - loss: 0.3294 - acc: 0.8811 - val_loss: 0.3922 - val_acc: 0.8688\n",
      "\n",
      "Epoch 00022: val_loss did not improve from 0.38607\n",
      "Epoch 23/100\n",
      " - 19s - loss: 0.3365 - acc: 0.8798 - val_loss: 0.4975 - val_acc: 0.8340\n",
      "\n",
      "Epoch 00023: val_loss did not improve from 0.38607\n",
      "Epoch 24/100\n",
      " - 19s - loss: 0.3165 - acc: 0.8918 - val_loss: 0.4093 - val_acc: 0.8755\n",
      "\n",
      "Epoch 00024: val_loss did not improve from 0.38607\n",
      "Epoch 00024: early stopping\n"
     ]
    }
   ],
   "source": [
    "datagen = ImageDataGenerator(\n",
    "    rotation_range=10,\n",
    "    width_shift_range=0.2,\n",
    "    height_shift_range=0.2,\n",
    "    shear_range=0.2,\n",
    "    zoom_range=0.2,\n",
    "    horizontal_flip=True,\n",
    "    fill_mode='nearest')\n",
    "\n",
    "optimizer = keras.optimizers.Adam(lr=10e-6)\n",
    "\n",
    "model_path = './saved_models/{}.h5'.format(model_name)\n",
    "\n",
    "checkpoint = ModelCheckpoint(model_path, monitor='val_loss', save_best_only=True, verbose=1)\n",
    "earlystop = EarlyStopping(monitor='val_loss', patience=5, verbose=1)\n",
    "\n",
    "model.compile(loss='categorical_crossentropy',\n",
    "              optimizer=optimizer, metrics=['accuracy'])\n",
    "\n",
    "model_history = model.fit_generator(datagen.flow(X_train, y_train, batch_size = batch_size),\n",
    "                                    epochs = epochs,\n",
    "                                    validation_data = (X_valid, y_valid),\n",
    "                                    callbacks = [checkpoint, earlystop],\n",
    "                                    verbose=2)"
   ]
  },
  {
   "cell_type": "code",
   "execution_count": 5,
   "metadata": {},
   "outputs": [
    {
     "data": {
      "image/png": "[encoded data removed]",
      "text/plain": [
       "<Figure size 432x288 with 1 Axes>"
      ]
     },
     "metadata": {
      "needs_background": "light"
     },
     "output_type": "display_data"
    }
   ],
   "source": [
    "training_loss = model_history.history['loss']\n",
    "val_loss = model_history.history['val_loss']\n",
    "\n",
    "plt.plot(training_loss, label=\"training_loss\")\n",
    "plt.plot(val_loss, label=\"validation_loss\")\n",
    "plt.xlabel(\"Epochs\")\n",
    "plt.ylabel(\"Loss\")\n",
    "plt.title(\"Learning Curve\")\n",
    "plt.legend(loc='best')\n",
    "plt.show()"
   ]
  },
  {
   "cell_type": "code",
   "execution_count": 6,
   "metadata": {},
   "outputs": [
    {
     "data": {
      "image/png": "[encoded data removed]",
      "text/plain": [
       "<Figure size 432x288 with 1 Axes>"
      ]
     },
     "metadata": {
      "needs_background": "light"
     },
     "output_type": "display_data"
    }
   ],
   "source": [
    "training_acc = model_history.history['acc']\n",
    "val_acc = model_history.history['val_acc']\n",
    "\n",
    "plt.plot(training_acc, label=\"training_acc\")\n",
    "plt.plot(val_acc, label=\"validation_acc\")\n",
    "plt.xlabel(\"Epochs\")\n",
    "plt.ylabel(\"Acc\")\n",
    "plt.title(\"Learning Curve\")\n",
    "plt.legend(loc='best')\n",
    "plt.show()"
   ]
  },
  {
   "cell_type": "code",
   "execution_count": 7,
   "metadata": {},
   "outputs": [
    {
     "name": "stdout",
     "output_type": "stream",
     "text": [
      "747/747 [==============================] - 2s 3ms/step\n",
      "Validation loss: 0.38607423314687556\n",
      "Validation accuracy: 0.8808567602950407\n"
     ]
    }
   ],
   "source": [
    "model = load_model(model_path)\n",
    "\n",
    "scores = model.evaluate(X_valid, y_valid, verbose=1)\n",
    "print('Validation loss:', scores[0])\n",
    "print('Validation accuracy:', scores[1])"
   ]
  },
  {
   "cell_type": "code",
   "execution_count": 8,
   "metadata": {},
   "outputs": [],
   "source": [
    "X_test, X_id = load_test_data(Gray2RGB=True, mean_proc='VGG16_ImageNet')\n",
    "\n",
    "y_test_pred_prob = model.predict(X_test)\n",
    "y_test_pred = y_test_pred_prob.argmax(axis=-1)\n",
    "y_test_pred_df = pd.DataFrame({'id': np.array(X_id), 'class':y_test_pred}).sort_values(by='id')\n",
    "y_test_pred_df.to_csv('./submissions/{}.csv'.format(model_name), index=False)"
   ]
  },
  {
   "cell_type": "markdown",
   "metadata": {},
   "source": [
    "# Layer Transfer 實例"
   ]
  },
  {
   "cell_type": "code",
   "execution_count": 9,
   "metadata": {},
   "outputs": [
    {
     "name": "stdout",
     "output_type": "stream",
     "text": [
      "_________________________________________________________________\n",
      "Layer (type)                 Output Shape              Param #   \n",
      "=================================================================\n",
      "input_2 (InputLayer)         (None, 224, 224, 3)       0         \n",
      "_________________________________________________________________\n",
      "block1_conv1 (Conv2D)        (None, 224, 224, 64)      1792      \n",
      "_________________________________________________________________\n",
      "block1_conv2 (Conv2D)        (None, 224, 224, 64)      36928     \n",
      "_________________________________________________________________\n",
      "block1_pool (MaxPooling2D)   (None, 112, 112, 64)      0         \n",
      "_________________________________________________________________\n",
      "block2_conv1 (Conv2D)        (None, 112, 112, 128)     73856     \n",
      "_________________________________________________________________\n",
      "block2_conv2 (Conv2D)        (None, 112, 112, 128)     147584    \n",
      "_________________________________________________________________\n",
      "block2_pool (MaxPooling2D)   (None, 56, 56, 128)       0         \n",
      "_________________________________________________________________\n",
      "block3_conv1 (Conv2D)        (None, 56, 56, 256)       295168    \n",
      "_________________________________________________________________\n",
      "block3_conv2 (Conv2D)        (None, 56, 56, 256)       590080    \n",
      "_________________________________________________________________\n",
      "block3_conv3 (Conv2D)        (None, 56, 56, 256)       590080    \n",
      "_________________________________________________________________\n",
      "block3_pool (MaxPooling2D)   (None, 28, 28, 256)       0         \n",
      "_________________________________________________________________\n",
      "block4_conv1 (Conv2D)        (None, 28, 28, 512)       1180160   \n",
      "_________________________________________________________________\n",
      "block4_conv2 (Conv2D)        (None, 28, 28, 512)       2359808   \n",
      "_________________________________________________________________\n",
      "block4_conv3 (Conv2D)        (None, 28, 28, 512)       2359808   \n",
      "_________________________________________________________________\n",
      "block4_pool (MaxPooling2D)   (None, 14, 14, 512)       0         \n",
      "_________________________________________________________________\n",
      "block5_conv1 (Conv2D)        (None, 14, 14, 512)       2359808   \n",
      "_________________________________________________________________\n",
      "block5_conv2 (Conv2D)        (None, 14, 14, 512)       2359808   \n",
      "_________________________________________________________________\n",
      "block5_conv3 (Conv2D)        (None, 14, 14, 512)       2359808   \n",
      "_________________________________________________________________\n",
      "block5_pool (MaxPooling2D)   (None, 7, 7, 512)         0         \n",
      "_________________________________________________________________\n",
      "flatten_2 (Flatten)          (None, 25088)             0         \n",
      "_________________________________________________________________\n",
      "dropout_2 (Dropout)          (None, 25088)             0         \n",
      "_________________________________________________________________\n",
      "dense_2 (Dense)              (None, 15)                376335    \n",
      "=================================================================\n",
      "Total params: 15,091,023\n",
      "Trainable params: 376,335\n",
      "Non-trainable params: 14,714,688\n",
      "_________________________________________________________________\n"
     ]
    }
   ],
   "source": [
    "# 此例的 VGG pre-trained layers 完全鎖住，充分的 layer transfer\n",
    "model_name = 'VGG16-Layer-Transfer'\n",
    "\n",
    "img_rows, img_cols, img_channel = 224, 224, 3\n",
    "\n",
    "base_model = keras.applications.vgg16.VGG16(weights='imagenet',\n",
    "                                            include_top=False, input_shape=(img_rows, img_cols, img_channel))\n",
    "for layer in base_model.layers:\n",
    "    layer.trainable = False\n",
    "\n",
    "x = base_model.output\n",
    "x = Flatten()(x)\n",
    "x = Dropout(0.5)(x)\n",
    "predictions = Dense(num_classes, activation='softmax')(x)\n",
    "model = Model(inputs=base_model.input, outputs=predictions)\n",
    "\n",
    "model.summary()"
   ]
  },
  {
   "cell_type": "code",
   "execution_count": 10,
   "metadata": {},
   "outputs": [
    {
     "name": "stdout",
     "output_type": "stream",
     "text": [
      "Epoch 1/100\n",
      " - 20s - loss: 2.3444 - acc: 0.2468 - val_loss: 1.4634 - val_acc: 0.6292\n",
      "\n",
      "Epoch 00001: val_loss improved from inf to 1.46338, saving model to ./saved_models/VGG16-Layer-Transfer.h5\n",
      "Epoch 2/100\n",
      " - 18s - loss: 1.5494 - acc: 0.4893 - val_loss: 1.0247 - val_acc: 0.7483\n",
      "\n",
      "Epoch 00002: val_loss improved from 1.46338 to 1.02473, saving model to ./saved_models/VGG16-Layer-Transfer.h5\n",
      "Epoch 3/100\n",
      " - 18s - loss: 1.2174 - acc: 0.6117 - val_loss: 0.8335 - val_acc: 0.7979\n",
      "\n",
      "Epoch 00003: val_loss improved from 1.02473 to 0.83347, saving model to ./saved_models/VGG16-Layer-Transfer.h5\n",
      "Epoch 4/100\n",
      " - 18s - loss: 1.0551 - acc: 0.6595 - val_loss: 0.7329 - val_acc: 0.7885\n",
      "\n",
      "Epoch 00004: val_loss improved from 0.83347 to 0.73293, saving model to ./saved_models/VGG16-Layer-Transfer.h5\n",
      "Epoch 5/100\n",
      " - 18s - loss: 0.9126 - acc: 0.7032 - val_loss: 0.6383 - val_acc: 0.8260\n",
      "\n",
      "Epoch 00005: val_loss improved from 0.73293 to 0.63831, saving model to ./saved_models/VGG16-Layer-Transfer.h5\n",
      "Epoch 6/100\n",
      " - 18s - loss: 0.8078 - acc: 0.7334 - val_loss: 0.6043 - val_acc: 0.8273\n",
      "\n",
      "Epoch 00006: val_loss improved from 0.63831 to 0.60429, saving model to ./saved_models/VGG16-Layer-Transfer.h5\n",
      "Epoch 7/100\n",
      " - 18s - loss: 0.7747 - acc: 0.7511 - val_loss: 0.5520 - val_acc: 0.8461\n",
      "\n",
      "Epoch 00007: val_loss improved from 0.60429 to 0.55199, saving model to ./saved_models/VGG16-Layer-Transfer.h5\n",
      "Epoch 8/100\n",
      " - 18s - loss: 0.7295 - acc: 0.7727 - val_loss: 0.5385 - val_acc: 0.8313\n",
      "\n",
      "Epoch 00008: val_loss improved from 0.55199 to 0.53851, saving model to ./saved_models/VGG16-Layer-Transfer.h5\n",
      "Epoch 9/100\n",
      " - 18s - loss: 0.6889 - acc: 0.7757 - val_loss: 0.4938 - val_acc: 0.8554\n",
      "\n",
      "Epoch 00009: val_loss improved from 0.53851 to 0.49382, saving model to ./saved_models/VGG16-Layer-Transfer.h5\n",
      "Epoch 10/100\n",
      " - 18s - loss: 0.6298 - acc: 0.7948 - val_loss: 0.4803 - val_acc: 0.8621\n",
      "\n",
      "Epoch 00010: val_loss improved from 0.49382 to 0.48028, saving model to ./saved_models/VGG16-Layer-Transfer.h5\n",
      "Epoch 11/100\n",
      " - 18s - loss: 0.6046 - acc: 0.8137 - val_loss: 0.4608 - val_acc: 0.8728\n",
      "\n",
      "Epoch 00011: val_loss improved from 0.48028 to 0.46078, saving model to ./saved_models/VGG16-Layer-Transfer.h5\n",
      "Epoch 12/100\n",
      " - 18s - loss: 0.5602 - acc: 0.8248 - val_loss: 0.4622 - val_acc: 0.8527\n",
      "\n",
      "Epoch 00012: val_loss did not improve from 0.46078\n",
      "Epoch 13/100\n",
      " - 18s - loss: 0.5389 - acc: 0.8217 - val_loss: 0.4424 - val_acc: 0.8527\n",
      "\n",
      "Epoch 00013: val_loss improved from 0.46078 to 0.44241, saving model to ./saved_models/VGG16-Layer-Transfer.h5\n",
      "Epoch 14/100\n",
      " - 18s - loss: 0.5323 - acc: 0.8311 - val_loss: 0.4257 - val_acc: 0.8661\n",
      "\n",
      "Epoch 00014: val_loss improved from 0.44241 to 0.42571, saving model to ./saved_models/VGG16-Layer-Transfer.h5\n",
      "Epoch 15/100\n",
      " - 18s - loss: 0.5203 - acc: 0.8280 - val_loss: 0.4315 - val_acc: 0.8568\n",
      "\n",
      "Epoch 00015: val_loss did not improve from 0.42571\n",
      "Epoch 16/100\n",
      " - 18s - loss: 0.5036 - acc: 0.8419 - val_loss: 0.4170 - val_acc: 0.8715\n",
      "\n",
      "Epoch 00016: val_loss improved from 0.42571 to 0.41698, saving model to ./saved_models/VGG16-Layer-Transfer.h5\n",
      "Epoch 17/100\n",
      " - 18s - loss: 0.4788 - acc: 0.8467 - val_loss: 0.4008 - val_acc: 0.8768\n",
      "\n",
      "Epoch 00017: val_loss improved from 0.41698 to 0.40076, saving model to ./saved_models/VGG16-Layer-Transfer.h5\n",
      "Epoch 18/100\n",
      " - 18s - loss: 0.4681 - acc: 0.8539 - val_loss: 0.4015 - val_acc: 0.8742\n",
      "\n",
      "Epoch 00018: val_loss did not improve from 0.40076\n",
      "Epoch 19/100\n",
      " - 18s - loss: 0.4485 - acc: 0.8624 - val_loss: 0.4068 - val_acc: 0.8728\n",
      "\n",
      "Epoch 00019: val_loss did not improve from 0.40076\n",
      "Epoch 20/100\n",
      " - 18s - loss: 0.4369 - acc: 0.8642 - val_loss: 0.3906 - val_acc: 0.8688\n",
      "\n",
      "Epoch 00020: val_loss improved from 0.40076 to 0.39061, saving model to ./saved_models/VGG16-Layer-Transfer.h5\n",
      "Epoch 21/100\n",
      " - 18s - loss: 0.4338 - acc: 0.8597 - val_loss: 0.3975 - val_acc: 0.8822\n",
      "\n",
      "Epoch 00021: val_loss did not improve from 0.39061\n",
      "Epoch 22/100\n",
      " - 18s - loss: 0.4209 - acc: 0.8659 - val_loss: 0.3709 - val_acc: 0.8809\n",
      "\n",
      "Epoch 00022: val_loss improved from 0.39061 to 0.37088, saving model to ./saved_models/VGG16-Layer-Transfer.h5\n",
      "Epoch 23/100\n",
      " - 18s - loss: 0.4130 - acc: 0.8754 - val_loss: 0.3770 - val_acc: 0.8809\n",
      "\n",
      "Epoch 00023: val_loss did not improve from 0.37088\n",
      "Epoch 24/100\n",
      " - 18s - loss: 0.4146 - acc: 0.8660 - val_loss: 0.3858 - val_acc: 0.8701\n",
      "\n",
      "Epoch 00024: val_loss did not improve from 0.37088\n",
      "Epoch 25/100\n",
      " - 18s - loss: 0.3979 - acc: 0.8725 - val_loss: 0.3642 - val_acc: 0.8728\n",
      "\n",
      "Epoch 00025: val_loss improved from 0.37088 to 0.36416, saving model to ./saved_models/VGG16-Layer-Transfer.h5\n",
      "Epoch 26/100\n",
      " - 18s - loss: 0.3872 - acc: 0.8803 - val_loss: 0.3840 - val_acc: 0.8661\n",
      "\n",
      "Epoch 00026: val_loss did not improve from 0.36416\n",
      "Epoch 27/100\n",
      " - 18s - loss: 0.3708 - acc: 0.8785 - val_loss: 0.3825 - val_acc: 0.8768\n",
      "\n",
      "Epoch 00027: val_loss did not improve from 0.36416\n",
      "Epoch 28/100\n",
      " - 18s - loss: 0.3809 - acc: 0.8776 - val_loss: 0.3673 - val_acc: 0.8795\n",
      "\n",
      "Epoch 00028: val_loss did not improve from 0.36416\n",
      "Epoch 29/100\n",
      " - 18s - loss: 0.3661 - acc: 0.8892 - val_loss: 0.3601 - val_acc: 0.8876\n",
      "\n",
      "Epoch 00029: val_loss improved from 0.36416 to 0.36011, saving model to ./saved_models/VGG16-Layer-Transfer.h5\n",
      "Epoch 30/100\n",
      " - 18s - loss: 0.3658 - acc: 0.8771 - val_loss: 0.3709 - val_acc: 0.8795\n",
      "\n",
      "Epoch 00030: val_loss did not improve from 0.36011\n",
      "Epoch 31/100\n",
      " - 18s - loss: 0.3459 - acc: 0.8901 - val_loss: 0.3722 - val_acc: 0.8715\n",
      "\n",
      "Epoch 00031: val_loss did not improve from 0.36011\n",
      "Epoch 32/100\n",
      " - 18s - loss: 0.3555 - acc: 0.8869 - val_loss: 0.3818 - val_acc: 0.8782\n",
      "\n",
      "Epoch 00032: val_loss did not improve from 0.36011\n",
      "Epoch 33/100\n",
      " - 18s - loss: 0.3480 - acc: 0.8887 - val_loss: 0.3644 - val_acc: 0.8849\n",
      "\n",
      "Epoch 00033: val_loss did not improve from 0.36011\n",
      "Epoch 34/100\n",
      " - 18s - loss: 0.3384 - acc: 0.8878 - val_loss: 0.3560 - val_acc: 0.8782\n",
      "\n",
      "Epoch 00034: val_loss improved from 0.36011 to 0.35601, saving model to ./saved_models/VGG16-Layer-Transfer.h5\n",
      "Epoch 35/100\n",
      " - 18s - loss: 0.3513 - acc: 0.8950 - val_loss: 0.3478 - val_acc: 0.8809\n",
      "\n",
      "Epoch 00035: val_loss improved from 0.35601 to 0.34779, saving model to ./saved_models/VGG16-Layer-Transfer.h5\n",
      "Epoch 36/100\n",
      " - 18s - loss: 0.3129 - acc: 0.9039 - val_loss: 0.3629 - val_acc: 0.8782\n",
      "\n",
      "Epoch 00036: val_loss did not improve from 0.34779\n",
      "Epoch 37/100\n",
      " - 19s - loss: 0.3280 - acc: 0.8954 - val_loss: 0.3439 - val_acc: 0.8929\n",
      "\n",
      "Epoch 00037: val_loss improved from 0.34779 to 0.34393, saving model to ./saved_models/VGG16-Layer-Transfer.h5\n",
      "Epoch 38/100\n",
      " - 18s - loss: 0.3178 - acc: 0.9035 - val_loss: 0.3513 - val_acc: 0.8889\n",
      "\n",
      "Epoch 00038: val_loss did not improve from 0.34393\n",
      "Epoch 39/100\n",
      " - 18s - loss: 0.3082 - acc: 0.9021 - val_loss: 0.3420 - val_acc: 0.8862\n",
      "\n",
      "Epoch 00039: val_loss improved from 0.34393 to 0.34205, saving model to ./saved_models/VGG16-Layer-Transfer.h5\n",
      "Epoch 40/100\n",
      " - 18s - loss: 0.3222 - acc: 0.8879 - val_loss: 0.3427 - val_acc: 0.8916\n",
      "\n",
      "Epoch 00040: val_loss did not improve from 0.34205\n",
      "Epoch 41/100\n",
      " - 18s - loss: 0.3036 - acc: 0.9013 - val_loss: 0.3342 - val_acc: 0.8849\n",
      "\n",
      "Epoch 00041: val_loss improved from 0.34205 to 0.33424, saving model to ./saved_models/VGG16-Layer-Transfer.h5\n",
      "Epoch 42/100\n",
      " - 18s - loss: 0.3121 - acc: 0.9003 - val_loss: 0.3410 - val_acc: 0.8835\n",
      "\n",
      "Epoch 00042: val_loss did not improve from 0.33424\n",
      "Epoch 43/100\n",
      " - 18s - loss: 0.2928 - acc: 0.9080 - val_loss: 0.3414 - val_acc: 0.8835\n",
      "\n",
      "Epoch 00043: val_loss did not improve from 0.33424\n",
      "Epoch 44/100\n",
      " - 18s - loss: 0.3074 - acc: 0.8941 - val_loss: 0.3446 - val_acc: 0.8916\n",
      "\n",
      "Epoch 00044: val_loss did not improve from 0.33424\n",
      "Epoch 45/100\n",
      " - 18s - loss: 0.2851 - acc: 0.9084 - val_loss: 0.3583 - val_acc: 0.8835\n",
      "\n",
      "Epoch 00045: val_loss did not improve from 0.33424\n",
      "Epoch 46/100\n",
      " - 19s - loss: 0.2909 - acc: 0.9058 - val_loss: 0.3360 - val_acc: 0.8902\n",
      "\n",
      "Epoch 00046: val_loss did not improve from 0.33424\n",
      "Epoch 00046: early stopping\n"
     ]
    }
   ],
   "source": [
    "datagen = ImageDataGenerator(\n",
    "    rotation_range=10,\n",
    "    width_shift_range=0.2,\n",
    "    height_shift_range=0.2,\n",
    "    shear_range=0.2,\n",
    "    zoom_range=0.2,\n",
    "    horizontal_flip=True,\n",
    "    fill_mode='nearest')\n",
    "\n",
    "optimizer = keras.optimizers.Adam(lr=10e-5)\n",
    "\n",
    "model_path = './saved_models/{}.h5'.format(model_name)\n",
    "\n",
    "checkpoint = ModelCheckpoint(model_path, monitor='val_loss', save_best_only=True, verbose=1)\n",
    "earlystop = EarlyStopping(monitor='val_loss', patience=5, verbose=1)\n",
    "\n",
    "model.compile(loss='categorical_crossentropy',\n",
    "              optimizer=optimizer, metrics=['accuracy'])\n",
    "\n",
    "model_history = model.fit_generator(datagen.flow(X_train, y_train, batch_size = batch_size),\n",
    "                                    epochs = epochs,\n",
    "                                    validation_data = (X_valid, y_valid),\n",
    "                                    callbacks = [checkpoint, earlystop],\n",
    "                                    verbose=2)"
   ]
  },
  {
   "cell_type": "code",
   "execution_count": 11,
   "metadata": {},
   "outputs": [
    {
     "data": {
      "image/png": "[encoded data removed]",
      "text/plain": [
       "<Figure size 432x288 with 1 Axes>"
      ]
     },
     "metadata": {
      "needs_background": "light"
     },
     "output_type": "display_data"
    }
   ],
   "source": [
    "training_loss = model_history.history['loss']\n",
    "val_loss = model_history.history['val_loss']\n",
    "\n",
    "plt.plot(training_loss, label=\"training_loss\")\n",
    "plt.plot(val_loss, label=\"validation_loss\")\n",
    "plt.xlabel(\"Epochs\")\n",
    "plt.ylabel(\"Loss\")\n",
    "plt.title(\"Learning Curve\")\n",
    "plt.legend(loc='best')\n",
    "plt.show()"
   ]
  },
  {
   "cell_type": "code",
   "execution_count": 12,
   "metadata": {},
   "outputs": [
    {
     "data": {
      "image/png": "[encoded data removed]",
      "text/plain": [
       "<Figure size 432x288 with 1 Axes>"
      ]
     },
     "metadata": {
      "needs_background": "light"
     },
     "output_type": "display_data"
    }
   ],
   "source": [
    "training_acc = model_history.history['acc']\n",
    "val_acc = model_history.history['val_acc']\n",
    "\n",
    "plt.plot(training_acc, label=\"training_acc\")\n",
    "plt.plot(val_acc, label=\"validation_acc\")\n",
    "plt.xlabel(\"Epochs\")\n",
    "plt.ylabel(\"Acc\")\n",
    "plt.title(\"Learning Curve\")\n",
    "plt.legend(loc='best')\n",
    "plt.show()"
   ]
  },
  {
   "cell_type": "code",
   "execution_count": 13,
   "metadata": {},
   "outputs": [
    {
     "name": "stdout",
     "output_type": "stream",
     "text": [
      "747/747 [==============================] - 2s 3ms/step\n",
      "Validation loss: 0.33423647751291113\n",
      "Validation accuracy: 0.8848728246318608\n"
     ]
    }
   ],
   "source": [
    "model = load_model(model_path)\n",
    "\n",
    "scores = model.evaluate(X_valid, y_valid, verbose=1)\n",
    "print('Validation loss:', scores[0])\n",
    "print('Validation accuracy:', scores[1])"
   ]
  },
  {
   "cell_type": "code",
   "execution_count": 14,
   "metadata": {},
   "outputs": [],
   "source": [
    "X_test, X_id = load_test_data(Gray2RGB=True, mean_proc='VGG16_ImageNet')\n",
    "\n",
    "y_test_pred_prob = model.predict(X_test)\n",
    "y_test_pred = y_test_pred_prob.argmax(axis=-1)\n",
    "y_test_pred_df = pd.DataFrame({'id': np.array(X_id), 'class':y_test_pred}).sort_values(by='id')\n",
    "y_test_pred_df.to_csv('./submissions/{}.csv'.format(model_name), index=False)"
   ]
  }
 ],
 "metadata": {
  "kernelspec": {
   "display_name": "Python 3",
   "language": "python",
   "name": "python3"
  },
  "language_info": {
   "codemirror_mode": {
    "name": "ipython",
    "version": 3
   },
   "file_extension": ".py",
   "mimetype": "text/x-python",
   "name": "python",
   "nbconvert_exporter": "python",
   "pygments_lexer": "ipython3",
   "version": "3.6.6"
  }
 },
 "nbformat": 4,
 "nbformat_minor": 2
}
