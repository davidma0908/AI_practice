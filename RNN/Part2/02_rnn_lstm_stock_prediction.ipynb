{
 "cells": [
  {
   "cell_type": "markdown",
   "metadata": {},
   "source": [
    "# import package"
   ]
  },
  {
   "cell_type": "markdown",
   "metadata": {},
   "source": [
    "The dataset used in this notebook is Tesla stock history from 2014 to 2017. You can find the .csv file in the project folder."
   ]
  },
  {
   "cell_type": "code",
   "execution_count": null,
   "metadata": {
    "collapsed": true
   },
   "outputs": [],
   "source": [
    "import numpy as np\n",
    "import tensorflow as tf\n",
    "import pandas as pd\n",
    "import matplotlib.pyplot as plt\n",
    "from pprint import pprint\n",
    "from sklearn.preprocessing import StandardScaler\n",
    "%matplotlib inline"
   ]
  },
  {
   "cell_type": "markdown",
   "metadata": {},
   "source": [
    "### Step 0. Loading dataset"
   ]
  },
  {
   "cell_type": "code",
   "execution_count": null,
   "metadata": {
    "collapsed": true
   },
   "outputs": [],
   "source": [
    "tesla_stocks = pd.read_csv('data/tesla_stocks.csv')"
   ]
  },
  {
   "cell_type": "code",
   "execution_count": null,
   "metadata": {},
   "outputs": [],
   "source": [
    "#資料共有六個資訊，日期、開盤、當日最高、當日最低、收盤、成交量\n",
    "tesla_stocks.head()"
   ]
  },
  {
   "cell_type": "code",
   "execution_count": null,
   "metadata": {
    "collapsed": true
   },
   "outputs": [],
   "source": [
    "#簡化預測複雜度，我們只使用收盤價預測\n",
    "data_to_use = tesla_stocks['Close'].values"
   ]
  },
  {
   "cell_type": "code",
   "execution_count": null,
   "metadata": {},
   "outputs": [],
   "source": [
    "#資料共有756天成交紀錄\n",
    "print('Total number of days in the dataset: {}'.format(len(data_to_use)))"
   ]
  },
  {
   "cell_type": "markdown",
   "metadata": {},
   "source": [
    "### Step 1. Data preprocessing"
   ]
  },
  {
   "cell_type": "markdown",
   "metadata": {},
   "source": [
    "#### Step 1.1 Scaling data"
   ]
  },
  {
   "cell_type": "code",
   "execution_count": null,
   "metadata": {
    "collapsed": true
   },
   "outputs": [],
   "source": [
    "#使用sklearn套件將資料標準化(mean = 0, std = 1)\n",
    "scaler = StandardScaler()"
   ]
  },
  {
   "cell_type": "code",
   "execution_count": null,
   "metadata": {
    "collapsed": true
   },
   "outputs": [],
   "source": [
    "scaled_dataset = scaler.fit_transform(data_to_use.reshape(-1, 1))"
   ]
  },
  {
   "cell_type": "code",
   "execution_count": null,
   "metadata": {},
   "outputs": [],
   "source": [
    "print(\"std: \", scaled_dataset.std())\n",
    "print(\"mean: \", scaled_dataset.mean())"
   ]
  },
  {
   "cell_type": "code",
   "execution_count": null,
   "metadata": {
    "scrolled": true
   },
   "outputs": [],
   "source": [
    "tesla_stocks.Date = pd.to_datetime(tesla_stocks.Date)\n",
    "plt.figure(figsize=(12,7), frameon=False, facecolor='brown', edgecolor='blue')\n",
    "plt.title('Scaled TESLA stocks from August 2014 to August 2017')\n",
    "plt.xlabel('Days')\n",
    "plt.ylabel('Scaled value of stocks')\n",
    "plt.plot(tesla_stocks.Date, scaled_dataset, label='Stocks data')\n",
    "plt.legend()\n",
    "plt.show()"
   ]
  },
  {
   "cell_type": "markdown",
   "metadata": {},
   "source": [
    "# Config "
   ]
  },
  {
   "cell_type": "code",
   "execution_count": null,
   "metadata": {},
   "outputs": [],
   "source": [
    "#參數設定\n",
    "learning_rate=0.001\n",
    "batch_size=8\n",
    "epochs = 200\n",
    "hidden_layer_size=512\n",
    "number_of_layers=1\n",
    "dropout=True\n",
    "dropout_rate=0.8\n",
    "number_of_classes=1\n",
    "window_size=7"
   ]
  },
  {
   "cell_type": "code",
   "execution_count": null,
   "metadata": {
    "collapsed": true
   },
   "outputs": [],
   "source": [
    "#抓取window_size的資料作為觀察資料(x), 下一天作為預測資料(y)\n",
    "def window_data(data, window_size):\n",
    "    X = []\n",
    "    y = []\n",
    "    \n",
    "    i = 0\n",
    "    while (i + window_size) <= len(data) - 1:\n",
    "        X.append(data[i:i+window_size])\n",
    "        y.append(data[i+window_size])\n",
    "        \n",
    "        i += 1\n",
    "    assert len(X) ==  len(y)\n",
    "    return X, y"
   ]
  },
  {
   "cell_type": "markdown",
   "metadata": {},
   "source": [
    "#### Step 1.2 Windowing the dataset"
   ]
  },
  {
   "cell_type": "code",
   "execution_count": null,
   "metadata": {
    "collapsed": true
   },
   "outputs": [],
   "source": [
    "X, y = window_data(scaled_dataset, window_size)"
   ]
  },
  {
   "cell_type": "markdown",
   "metadata": {},
   "source": [
    "#### Step 1.3 Creating Training and Testing sets"
   ]
  },
  {
   "cell_type": "code",
   "execution_count": null,
   "metadata": {},
   "outputs": [],
   "source": [
    "#將前700筆作為訓練資料，700~749作為測試資料\n",
    "X_train  = np.array(X[:700])\n",
    "y_train = np.array(y[:700])\n",
    "\n",
    "X_test = np.array(X[700:])\n",
    "y_test = np.array(y[700:])\n",
    "\n",
    "#X shape (700, 7, 1) 700筆資料, 每一筆資料有七個close price\n",
    "#y shape (700, 1) 700筆資料, 每一筆資料有一個close price\n",
    "print(\"X_train size: {}\".format(X_train.shape))\n",
    "print(\"y_train size: {}\".format(y_train.shape))\n",
    "print(\"X_test size: {}\".format(X_test.shape))\n",
    "print(\"y_test size: {}\".format(y_test.shape))"
   ]
  },
  {
   "cell_type": "markdown",
   "metadata": {},
   "source": [
    "### Let's create the RNN"
   ]
  },
  {
   "cell_type": "code",
   "execution_count": null,
   "metadata": {},
   "outputs": [],
   "source": [
    "import tensorflow as tf"
   ]
  },
  {
   "cell_type": "code",
   "execution_count": null,
   "metadata": {
    "collapsed": true
   },
   "outputs": [],
   "source": [
    "#hidden_layer_size 是LSTM內neuron的數量\n",
    "#若想堆疊堆多層LSTM使用tf.contrib.rnn.MultiRNNCell\n",
    "#LSTM起始時init_state內沒有資料，先給初始值0\n",
    "def LSTM_cell(hidden_layer_size, batch_size, number_of_layers, dropout=True, dropout_rate=0.8):\n",
    "    def get_LSTM(hidden_layer_size, dropout, dropout_rate):\n",
    "        layer = tf.contrib.rnn.BasicLSTMCell(hidden_layer_size)\n",
    "\n",
    "        if dropout:\n",
    "            layer = tf.contrib.rnn.DropoutWrapper(layer, output_keep_prob=dropout_rate)\n",
    "            \n",
    "        return layer\n",
    "    \n",
    "    cell = tf.contrib.rnn.MultiRNNCell([get_LSTM(hidden_layer_size, dropout, dropout_rate) for _ in range(number_of_layers)])\n",
    "\n",
    "    init_state = cell.zero_state(batch_size, tf.float32)\n",
    "\n",
    "    return cell, init_state"
   ]
  },
  {
   "cell_type": "code",
   "execution_count": null,
   "metadata": {
    "collapsed": true
   },
   "outputs": [],
   "source": [
    "# outputs_shape (batch_size, timesteps, LSTM_units)\n",
    "# 將lstm_output最後的輸出值再經過一層hidden layer後輸出\n",
    "# 取最後一個時間點LSTM的輸出值[:, -1, :]\n",
    "\n",
    "def output_layer(lstm_output, in_size, out_size):\n",
    "    x = lstm_output[:, -1, :]\n",
    "    output = tf.layers.dense(inputs= x, units= out_size)\n",
    "    return output"
   ]
  },
  {
   "cell_type": "code",
   "execution_count": null,
   "metadata": {
    "collapsed": true
   },
   "outputs": [],
   "source": [
    "# RNN及LSTM會有梯度爆炸的問題，因此若斜率超過+-5則clip到+-5之內\n",
    "def opt_loss(logits, targets, learning_rate):\n",
    "    \n",
    "    loss = tf.reduce_sum(tf.pow(logits - targets, 2))/batch_size\n",
    "    \n",
    "    #Cliping the gradient loss\n",
    "    optimizer = tf.train.AdamOptimizer(learning_rate)\n",
    "    gradients = optimizer.compute_gradients(loss)\n",
    "\n",
    "    capped_gradients = [(tf.clip_by_value(grad, -5, 5), var) for grad, var in gradients if grad is not None]\n",
    "    \n",
    "    train_optimizer = optimizer.apply_gradients(capped_gradients)\n",
    "\n",
    "    \n",
    "    return loss, train_optimizer"
   ]
  },
  {
   "cell_type": "markdown",
   "metadata": {},
   "source": [
    "### Tensorflow- 建立靜態圖 \n",
    "\n",
    "**靜態圖**就像一張計畫圖一樣，定義我們的計算流程。實際運算必須靠 **<span style=\"color:red;\"> Session </span>** 來執行"
   ]
  },
  {
   "cell_type": "code",
   "execution_count": null,
   "metadata": {},
   "outputs": [],
   "source": [
    "main_graph = tf.Graph()\n",
    "sess = tf.Session(graph=main_graph)\n",
    "\n",
    "with main_graph.as_default():\n",
    "    \n",
    "    ##defining placeholders##\n",
    "    with tf.name_scope('input'):\n",
    "        inputs = tf.placeholder(tf.float32, [None, window_size, 1], name='input_data')\n",
    "        targets = tf.placeholder(tf.float32, [None, 1], name='targets')\n",
    "    \n",
    "    ##LSTM layer##\n",
    "    with tf.variable_scope(\"LSTM_layer\"):\n",
    "        cell, init_state = LSTM_cell(hidden_layer_size, tf.shape(inputs)[0], number_of_layers, dropout, dropout_rate) \n",
    "        outputs, states = tf.nn.dynamic_rnn(cell, inputs, initial_state=init_state)\n",
    "    \n",
    "    ##Output layer##   \n",
    "    with tf.variable_scope('output_layer'):\n",
    "        logits = output_layer(outputs, hidden_layer_size, number_of_classes)\n",
    "    \n",
    "    ##loss and optimization##\n",
    "    with tf.name_scope('loss_and_opt'):\n",
    "        loss, opt = opt_loss(logits, targets, learning_rate)\n",
    "    \n",
    "    init = tf.global_variables_initializer()\n",
    "    "
   ]
  },
  {
   "cell_type": "markdown",
   "metadata": {},
   "source": [
    "### Tensorflow- 初始化模型"
   ]
  },
  {
   "cell_type": "code",
   "execution_count": null,
   "metadata": {},
   "outputs": [],
   "source": [
    "#### initialize model ####\n",
    "sess.run(init)"
   ]
  },
  {
   "cell_type": "markdown",
   "metadata": {},
   "source": [
    "### Tensorflow- 實際執行模型訓練"
   ]
  },
  {
   "cell_type": "code",
   "execution_count": null,
   "metadata": {},
   "outputs": [],
   "source": [
    "for i in range(epochs):\n",
    "    ii = 0\n",
    "    epoch_loss = []\n",
    "    while(ii + batch_size) <= len(X_train):\n",
    "        X_batch = X_train[ii:ii+batch_size]\n",
    "        y_batch = y_train[ii:ii+batch_size]\n",
    "        batch_loss, _ = sess.run([loss, opt], feed_dict={inputs:X_batch, targets:y_batch})\n",
    "        epoch_loss.append(batch_loss)\n",
    "        ii += batch_size\n",
    "    if (i % 30) == 0:\n",
    "        print('Epoch {}/{}'.format(i, epochs), ' Current loss: {}'.format(np.mean(epoch_loss)))"
   ]
  },
  {
   "cell_type": "code",
   "execution_count": null,
   "metadata": {},
   "outputs": [],
   "source": [
    "#Training set預測結果\n",
    "training_set_pred = np.array([])\n",
    "for i in range(len(X_train)):\n",
    "    o = sess.run(logits, feed_dict={inputs:X_train[i:i+1]})\n",
    "    training_set_pred = np.append(training_set_pred, o)"
   ]
  },
  {
   "cell_type": "code",
   "execution_count": null,
   "metadata": {
    "collapsed": true
   },
   "outputs": [],
   "source": [
    "#Testing set預測結果\n",
    "testing_set_pred = np.array([])\n",
    "for i in range(len(X_test)):\n",
    "    o = sess.run(logits, feed_dict={inputs:X_test[i:i+1]})\n",
    "    testing_set_pred = np.append(testing_set_pred, o)    "
   ]
  },
  {
   "cell_type": "code",
   "execution_count": null,
   "metadata": {},
   "outputs": [],
   "source": [
    "#把資料放到list裡面準備畫圖\n",
    "#因為我們是用前七天預測第8天股價，故前七天設為None\n",
    "training = [None]*window_size\n",
    "for i in range(len(X_train)):\n",
    "    training.append(training_set_pred[i])\n",
    "testing = [None] * (window_size + len(X_train))\n",
    "testing_loss = 0\n",
    "for i in range(len(X_test)):\n",
    "    testing.append(testing_set_pred[i])\n",
    "    testing_loss += (testing_set_pred[i] - y_test[i])**2\n",
    "    training.append(None)\n",
    "print('testing loss:', testing_loss / len(X_test))"
   ]
  },
  {
   "cell_type": "markdown",
   "metadata": {},
   "source": [
    "### Plotting predictions from the network"
   ]
  },
  {
   "cell_type": "code",
   "execution_count": null,
   "metadata": {},
   "outputs": [],
   "source": [
    "plt.figure(figsize=(16, 7))\n",
    "plt.plot(tesla_stocks.Date, scaled_dataset, label='Original data')\n",
    "plt.plot(tesla_stocks.Date, training, label='Training data')\n",
    "plt.plot(tesla_stocks.Date, testing, label='Testing data')\n",
    "plt.legend()\n",
    "plt.show()"
   ]
  },
  {
   "cell_type": "code",
   "execution_count": null,
   "metadata": {
    "collapsed": true
   },
   "outputs": [],
   "source": [
    "sess.close()"
   ]
  },
  {
   "cell_type": "markdown",
   "metadata": {},
   "source": [
    "## 練習\n",
    "1. 把Open、High、Low、Close跟Volume都當Feature"
   ]
  }
 ],
 "metadata": {
  "anaconda-cloud": {},
  "kernelspec": {
   "display_name": "Python 3",
   "language": "python",
   "name": "python3"
  },
  "language_info": {
   "codemirror_mode": {
    "name": "ipython",
    "version": 3
   },
   "file_extension": ".py",
   "mimetype": "text/x-python",
   "name": "python",
   "nbconvert_exporter": "python",
   "pygments_lexer": "ipython3",
   "version": "3.6.3"
  }
 },
 "nbformat": 4,
 "nbformat_minor": 2
}
