{
 "cells": [
  {
   "cell_type": "markdown",
   "metadata": {},
   "source": [
    "# import package"
   ]
  },
  {
   "cell_type": "code",
   "execution_count": 1,
   "metadata": {},
   "outputs": [
    {
     "name": "stdout",
     "output_type": "stream",
     "text": [
      "Extracting ../RNN/tmp/data/train-images-idx3-ubyte.gz\n",
      "Extracting ../RNN/tmp/data/train-labels-idx1-ubyte.gz\n",
      "Extracting ../RNN/tmp/data/t10k-images-idx3-ubyte.gz\n",
      "Extracting ../RNN/tmp/data/t10k-labels-idx1-ubyte.gz\n"
     ]
    }
   ],
   "source": [
    "''' basic package '''\n",
    "import numpy as np\n",
    "from pprint import pprint\n",
    "import matplotlib.pyplot as plt\n",
    "''' tensorflow package '''\n",
    "import tensorflow as tf\n",
    "from tensorflow.examples.tutorials.mnist import input_data\n",
    "from tensorflow.contrib import rnn\n",
    "mnist = input_data.read_data_sets(\"../RNN/tmp/data/\", one_hot=True)"
   ]
  },
  {
   "cell_type": "code",
   "execution_count": 2,
   "metadata": {},
   "outputs": [
    {
     "name": "stdout",
     "output_type": "stream",
     "text": [
      "Label:  [ 0.  0.  0.  1.  0.  0.  0.  0.  0.  0.]\n",
      "Data shape:  (784,)\n"
     ]
    },
    {
     "data": {
      "text/plain": [
       "<matplotlib.image.AxesImage at 0x7f72b6e85470>"
      ]
     },
     "execution_count": 2,
     "metadata": {},
     "output_type": "execute_result"
    },
    {
     "data": {
      "image/png": "[encoded data removed]",
      "text/plain": [
       "<matplotlib.figure.Figure at 0x7f72b6f13710>"
      ]
     },
     "metadata": {},
     "output_type": "display_data"
    }
   ],
   "source": [
    "#show training data\n",
    "print('Label: ', mnist.train.labels[1])\n",
    "print('Data shape: ', mnist.train.images[1].shape)\n",
    "plt.figure(figsize=(20,10))\n",
    "plt.imshow(mnist.train.images[1].reshape(28, 28), cmap='binary')"
   ]
  },
  {
   "cell_type": "markdown",
   "metadata": {},
   "source": [
    "# Config "
   ]
  },
  {
   "cell_type": "code",
   "execution_count": 3,
   "metadata": {},
   "outputs": [],
   "source": [
    "#define constants\n",
    "#unrolled through 28 time steps\n",
    "time_steps=28\n",
    "#rows of 28 pixels\n",
    "n_input=28\n",
    "#hidden RNN units\n",
    "hidden_layer_size=32\n",
    "#RNN layers\n",
    "number_of_layers=1\n",
    "#Drop\n",
    "dropout=True\n",
    "#Drop rate\n",
    "dropout_rate=0.8\n",
    "#learning rate for adam\n",
    "learning_rate=0.001\n",
    "#mnist is meant to be classified in 10 classes(0-9).\n",
    "n_classes=10\n",
    "#size of batch\n",
    "batch_size=128"
   ]
  },
  {
   "cell_type": "markdown",
   "metadata": {},
   "source": [
    "# Train "
   ]
  },
  {
   "cell_type": "code",
   "execution_count": 4,
   "metadata": {},
   "outputs": [],
   "source": [
    "###RNN cell###\n",
    "# def RNN_cell(hidden_layer_size, X, number_of_layers, dropout=True, dropout_rate=0.8):\n",
    "def RNN_cell(hidden_layer_size, X, number_of_layers, dropout=True, dropout_rate=0.8):    \n",
    "    def get_RNN(hidden_layer_size, dropout, dropout_rate):\n",
    "        layer = tf.contrib.rnn.BasicRNNCell(hidden_layer_size)\n",
    "\n",
    "        if dropout:\n",
    "            layer = tf.contrib.rnn.DropoutWrapper(layer, output_keep_prob=dropout_rate)\n",
    "            \n",
    "        return layer\n",
    "    \n",
    "    cell = tf.contrib.rnn.MultiRNNCell([get_RNN(hidden_layer_size, dropout, dropout_rate) for _ in range(number_of_layers)])\n",
    "\n",
    "    init_state = cell.zero_state(tf.shape(X)[0], tf.float32)\n",
    "    \n",
    "    return cell, init_state\n"
   ]
  },
  {
   "cell_type": "markdown",
   "metadata": {},
   "source": [
    "### Tensorflow- 建立靜態圖 \n",
    "\n",
    "**靜態圖**就像一張計畫圖一樣，定義我們的計算流程。實際運算必須靠 **<span style=\"color:red;\"> Session </span>** 來執行\n"
   ]
  },
  {
   "cell_type": "code",
   "execution_count": 5,
   "metadata": {},
   "outputs": [],
   "source": [
    "import tensorflow as tf"
   ]
  },
  {
   "cell_type": "code",
   "execution_count": 6,
   "metadata": {},
   "outputs": [],
   "source": [
    "main_graph = tf.Graph()\n",
    "sess = tf.Session(graph=main_graph)\n",
    "\n",
    "with main_graph.as_default():\n",
    "    \n",
    "    ##defining placeholders##\n",
    "    with tf.name_scope(\"inputs\"):\n",
    "        X=tf.placeholder(tf.float32,[None,time_steps,n_input], name='X')\n",
    "        y=tf.placeholder(tf.float32,[None,n_classes], name='y')\n",
    "    \n",
    "    ##RNN layer##\n",
    "    with tf.variable_scope(\"RNN_layer\"):\n",
    "        cell, init_state = RNN_cell(hidden_layer_size, X, number_of_layers, dropout, dropout_rate) \n",
    "        outputs, states = tf.nn.dynamic_rnn(cell, X, initial_state=init_state)    \n",
    "    \n",
    "    ##output layer##\n",
    "    with tf.variable_scope(\"output_layer\"):\n",
    "        RNN_last_outputs = outputs[:,-1,:]\n",
    "        prediction = tf.layers.dense(inputs= RNN_last_outputs, units= n_classes)\n",
    "        \n",
    "    ##loss_function##\n",
    "    with tf.name_scope(\"loss\"):\n",
    "        loss=tf.reduce_mean(tf.nn.softmax_cross_entropy_with_logits(logits=prediction,labels=y))\n",
    "    \n",
    "    ##optimization##\n",
    "    with tf.name_scope(\"optimizer\"):\n",
    "        opt=tf.train.AdamOptimizer(learning_rate=learning_rate).minimize(loss)\n",
    "    \n",
    "    ##model evaluation##\n",
    "    with tf.name_scope(\"accuracy\"):\n",
    "        correct_prediction=tf.equal(tf.argmax(prediction,1),tf.argmax(y,1))\n",
    "        accuracy=tf.reduce_mean(tf.cast(correct_prediction,tf.float32))    \n",
    "\n",
    "    init = tf.global_variables_initializer()"
   ]
  },
  {
   "cell_type": "markdown",
   "metadata": {},
   "source": [
    "### Tensorflow- 初始化模型"
   ]
  },
  {
   "cell_type": "code",
   "execution_count": 7,
   "metadata": {},
   "outputs": [],
   "source": [
    "#### initialize model ####\n",
    "sess.run(init)"
   ]
  },
  {
   "cell_type": "markdown",
   "metadata": {},
   "source": [
    "### Tensorflow- 實際執行模型訓練"
   ]
  },
  {
   "cell_type": "code",
   "execution_count": 8,
   "metadata": {},
   "outputs": [
    {
     "name": "stdout",
     "output_type": "stream",
     "text": [
      "For iter  50\n",
      "Accuracy  0.328125      Loss  1.90313\n",
      "__________________\n",
      "For iter  100\n",
      "Accuracy  0.421875      Loss  1.7417\n",
      "__________________\n",
      "For iter  150\n",
      "Accuracy  0.609375      Loss  1.2805\n",
      "__________________\n",
      "For iter  200\n",
      "Accuracy  0.640625      Loss  1.16708\n",
      "__________________\n",
      "For iter  250\n",
      "Accuracy  0.601562      Loss  1.12258\n",
      "__________________\n",
      "For iter  300\n",
      "Accuracy  0.625      Loss  1.00597\n",
      "__________________\n",
      "For iter  350\n",
      "Accuracy  0.664062      Loss  0.999967\n",
      "__________________\n",
      "For iter  400\n",
      "Accuracy  0.71875      Loss  0.892671\n",
      "__________________\n",
      "For iter  450\n",
      "Accuracy  0.703125      Loss  0.910176\n",
      "__________________\n"
     ]
    }
   ],
   "source": [
    "iter=1\n",
    "while iter<500:\n",
    "    batch_X,batch_y=mnist.train.next_batch(batch_size=batch_size)\n",
    "\n",
    "    batch_X=batch_X.reshape((batch_size,time_steps,n_input))\n",
    "\n",
    "    sess.run(opt, feed_dict={X: batch_X, y: batch_y})\n",
    "\n",
    "    if iter %50==0:\n",
    "        acc=sess.run(accuracy,feed_dict={X:batch_X,y:batch_y})\n",
    "        los=sess.run(loss,feed_dict={X:batch_X,y:batch_y})\n",
    "        print(\"For iter \",iter)\n",
    "        print(\"Accuracy \", acc, \"     Loss \", los)\n",
    "        print(\"__________________\")\n",
    "\n",
    "    iter=iter+1"
   ]
  },
  {
   "cell_type": "code",
   "execution_count": 9,
   "metadata": {},
   "outputs": [
    {
     "name": "stdout",
     "output_type": "stream",
     "text": [
      "Testing Accuracy: 0.703125\n"
     ]
    }
   ],
   "source": [
    "#calculating test accuracy\n",
    "test_data = mnist.test.images[:128].reshape((-1, time_steps, n_input))\n",
    "test_label = mnist.test.labels[:128]\n",
    "print(\"Testing Accuracy:\", sess.run(accuracy, feed_dict={X: test_data, y: test_label}))        "
   ]
  },
  {
   "cell_type": "code",
   "execution_count": 10,
   "metadata": {},
   "outputs": [],
   "source": [
    "sess.close()"
   ]
  },
  {
   "cell_type": "markdown",
   "metadata": {},
   "source": [
    "## 練習\n",
    "1. 把RNN cell換成LSTM觀察Accuracy是否會上升? (hint: tf.contrib.rnn.BasicLSTMCell)\n",
    "2. 把RNN cell換成GRU觀察Accuracy是否會上升? (hint: tf.contrib.rnn.GRUCell)\n",
    "3. 比較basic RNN、LSTM與GRU的準確度及訓練時間，並思考原因\n"
   ]
  },
  {
   "cell_type": "markdown",
   "metadata": {},
   "source": [
    "## 進階練習\n",
    "把手寫數字兩張平行輸入到model預測，輸入資料變成time_step = 28, input_data_dimension = 56"
   ]
  },
  {
   "cell_type": "code",
   "execution_count": 11,
   "metadata": {},
   "outputs": [
    {
     "data": {
      "text/plain": [
       "<matplotlib.image.AxesImage at 0x7f72b2d13748>"
      ]
     },
     "execution_count": 11,
     "metadata": {},
     "output_type": "execute_result"
    },
    {
     "data": {
      "image/png": "[encoded data removed]",
      "text/plain": [
       "<matplotlib.figure.Figure at 0x7f72b6e67c50>"
      ]
     },
     "metadata": {},
     "output_type": "display_data"
    }
   ],
   "source": [
    "#show training data\n",
    "plt.figure(figsize=(20,10))\n",
    "img1 = mnist.train.images[0].reshape(28, 28)\n",
    "img2 = mnist.train.images[5].reshape(28, 28)\n",
    "img = np.concatenate((img1,img2),axis=1)  \n",
    "plt.imshow(img, cmap='binary')"
   ]
  },
  {
   "cell_type": "code",
   "execution_count": null,
   "metadata": {},
   "outputs": [],
   "source": []
  }
 ],
 "metadata": {
  "kernelspec": {
   "display_name": "Python 3",
   "language": "python",
   "name": "python3"
  },
  "language_info": {
   "codemirror_mode": {
    "name": "ipython",
    "version": 3
   },
   "file_extension": ".py",
   "mimetype": "text/x-python",
   "name": "python",
   "nbconvert_exporter": "python",
   "pygments_lexer": "ipython3",
   "version": "3.6.3"
  }
 },
 "nbformat": 4,
 "nbformat_minor": 2
}
