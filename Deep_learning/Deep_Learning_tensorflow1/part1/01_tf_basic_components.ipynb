{
 "cells": [
  {
   "cell_type": "markdown",
   "metadata": {},
   "source": [
    "### 首先 當然是要import tensorflow套件"
   ]
  },
  {
   "cell_type": "code",
   "execution_count": 1,
   "metadata": {
    "collapsed": true
   },
   "outputs": [],
   "source": [
    "import tensorflow as tf"
   ]
  },
  {
   "cell_type": "code",
   "execution_count": 2,
   "metadata": {
    "collapsed": true
   },
   "outputs": [],
   "source": [
    "import numpy as np\n",
    "import matplotlib.pyplot as plt"
   ]
  },
  {
   "cell_type": "markdown",
   "metadata": {},
   "source": [
    "# 1. 在開始tensorflow 之前先了解rank的概念"
   ]
  },
  {
   "cell_type": "code",
   "execution_count": 3,
   "metadata": {},
   "outputs": [
    {
     "name": "stdout",
     "output_type": "stream",
     "text": [
      "()\n",
      "(3,)\n",
      "(2, 3)\n",
      "(2, 1, 3)\n"
     ]
    }
   ],
   "source": [
    "# a rank 0 tensor; a scalar with shape [],\n",
    "print(np.array(3.).shape) \n",
    "\n",
    "# a rank 1 tensor; a vector with shape [3]\n",
    "print(np.array([1., 2., 3.]).shape) \n",
    "\n",
    "# a rank 2 tensor; a matrix with shape [2, 3]\n",
    "print(np.array([[1., 2., 3.], [4., 5., 6.]]).shape) \n",
    "\n",
    "# a rank 3 tensor with shape [2, 1, 3]\n",
    "print(np.array([[[1., 2., 3.]], [[7., 8., 9.]]]).shape) "
   ]
  },
  {
   "cell_type": "markdown",
   "metadata": {},
   "source": [
    "### ---try it---\n",
    "請嘗試給a定義不同的陣列，理解.shape的用法"
   ]
  },
  {
   "cell_type": "code",
   "execution_count": null,
   "metadata": {
    "collapsed": true
   },
   "outputs": [],
   "source": [
    "a=   #key in here\n",
    "print(np.array(a).shape) "
   ]
  },
  {
   "cell_type": "markdown",
   "metadata": {},
   "source": [
    "# 2. Tensorflow and Tensor\n",
    "\n"
   ]
  },
  {
   "cell_type": "markdown",
   "metadata": {},
   "source": [
    "### ---try it---\n",
    "Hello Tensorflow\n",
    "- 創出 First Graph 以及 執行 Session\n"
   ]
  },
  {
   "cell_type": "code",
   "execution_count": null,
   "metadata": {
    "collapsed": true
   },
   "outputs": [],
   "source": [
    "#-------------------graph--------------------\n",
    "hello = tf.constant('Hello TensorFlow!')\n",
    "#-------------------sess--------------------\n",
    "with tf.Session() as sess:\n",
    "    print(sess.run(hello))"
   ]
  },
  {
   "cell_type": "markdown",
   "metadata": {},
   "source": [
    "### Tensor(張量)\n",
    "A generlization of vectors and matrices with n-dimensions and various data types"
   ]
  },
  {
   "cell_type": "markdown",
   "metadata": {},
   "source": [
    "### In tensorflow, data vector / matrices are similar to numpy array\n",
    " * constant \n",
    " * placeholder \n",
    " * variable"
   ]
  },
  {
   "cell_type": "markdown",
   "metadata": {},
   "source": [
    "\n",
    "### In tensorflow, we have to convert everything into \"Tensor\" !!\n"
   ]
  },
  {
   "cell_type": "markdown",
   "metadata": {},
   "source": [
    "### Before today's practice, just remember:\n",
    "1. graph = container\n",
    "2. sess = fluid"
   ]
  },
  {
   "cell_type": "markdown",
   "metadata": {},
   "source": [
    "*note: 若將 tensorflow 比喻為工廠, 那 graph 就好比工廠機械設計安裝(設定layer數,每層layer的cell數, dropout rate, activation function, etc...), 當工廠機械都安裝設定完成後，工廠開工就好比 session ，打開機械電源，將原料(dataset)放入設計好的工廠機械(graph)中,並生成產品(output)*"
   ]
  },
  {
   "cell_type": "code",
   "execution_count": null,
   "metadata": {
    "collapsed": true
   },
   "outputs": [],
   "source": [
    "'''在這篇jupyter notebook中，將用以下備註的方式分隔，協助大家在一開始認識graph和Session'''\n",
    "#--------------------------------graph----------------------------------\n",
    "\n",
    "#--------------------------------sess-----------------------------------\n"
   ]
  },
  {
   "cell_type": "markdown",
   "metadata": {},
   "source": [
    "### Constant, Placeholder, and Variables\n",
    "1. constant: Fixed item. The value cannot be changed during training.\n",
    "2. placeholder: We can pass such item to the graph interactively. (commonly used for the input, ground truth label, and other flags)\n",
    "3. variable: Dynamic item. The value can be changed during training. (need to be initialized in each session)"
   ]
  },
  {
   "cell_type": "markdown",
   "metadata": {},
   "source": [
    "### i. constant"
   ]
  },
  {
   "cell_type": "code",
   "execution_count": 4,
   "metadata": {},
   "outputs": [
    {
     "name": "stdout",
     "output_type": "stream",
     "text": [
      "Before sess.run:  Tensor(\"Const:0\", shape=(2, 2), dtype=float32)\n",
      "After sess.run:  [[ 1.  2.]\n",
      " [ 3.  4.]]\n"
     ]
    }
   ],
   "source": [
    "with tf.Session() as sess: # start a session\n",
    "#-------------------graph--------------------\n",
    "# constant: fixed item, rarely used, the value cannot be changed during training\n",
    "    a = tf.constant([[1, 2], [3, 4]], dtype=tf.float32)\n",
    "    print('Before sess.run: ', a)\n",
    "#-------------------sess--------------------\n",
    "    print('After sess.run: ', sess.run(a))"
   ]
  },
  {
   "cell_type": "markdown",
   "metadata": {},
   "source": [
    "### ---try it---\n",
    "請嘗試給h定義不同的類型(e.g. 'hello world', [1,2,3], 123456789,etc...)，理解 tf.constant的用法"
   ]
  },
  {
   "cell_type": "code",
   "execution_count": null,
   "metadata": {
    "collapsed": true
   },
   "outputs": [],
   "source": [
    "h=   #key in here\n",
    "\n",
    "with tf.Session() as sess: # start a session\n",
    "# constant: fixed item, rarely used, the value cannot be changed during training\n",
    "#-------------------graph--------------------\n",
    "    a = tf.constant(h)\n",
    "    print(a)\n",
    "#-------------------sess--------------------\n",
    "    print(sess.run(a))"
   ]
  },
  {
   "cell_type": "markdown",
   "metadata": {},
   "source": [
    "### ii. placeholder"
   ]
  },
  {
   "cell_type": "code",
   "execution_count": 7,
   "metadata": {},
   "outputs": [
    {
     "name": "stdout",
     "output_type": "stream",
     "text": [
      "[ 1.  1.]\n"
     ]
    }
   ],
   "source": [
    "# placeholder: used very often!\n",
    "\n",
    "my_input = np.array([1,1])\n",
    "\n",
    "#-------------------graph--------------------\n",
    "b = tf.placeholder(shape=[2], dtype=tf.float32)\n",
    "#-------------------sess--------------------\n",
    "with tf.Session() as sess:\n",
    "    print(sess.run(b, feed_dict={b: my_input}))\n",
    "    "
   ]
  },
  {
   "cell_type": "markdown",
   "metadata": {},
   "source": [
    "### ---try it---\n",
    "請嘗試給my_input定義不同的類型(e.g. 'hello world', [1,2,3], 123456789,etc...)，並記得對tf.placeholder作相對應的修改(e.g. remove or change shape, change dtype value)，理解 tf.placeholder的用法"
   ]
  },
  {
   "cell_type": "code",
   "execution_count": null,
   "metadata": {
    "collapsed": true
   },
   "outputs": [],
   "source": [
    "my_input = np.array([1,2,3])\n",
    "#-------------------graph--------------------\n",
    "b = tf.placeholder(shape=[3], dtype=tf.float32)\n",
    "#-------------------sess--------------------\n",
    "with tf.Session() as sess:\n",
    "    print(sess.run(b, feed_dict={b: my_input}))"
   ]
  },
  {
   "cell_type": "markdown",
   "metadata": {},
   "source": [
    "### iii. Variable"
   ]
  },
  {
   "cell_type": "code",
   "execution_count": 8,
   "metadata": {},
   "outputs": [
    {
     "name": "stdout",
     "output_type": "stream",
     "text": [
      "[[ 1.  2.]\n",
      " [ 3.  4.]]\n"
     ]
    }
   ],
   "source": [
    "# variable: we alwayes use this. the value can be changed during training\n",
    "#-------------------graph--------------------\n",
    "c = tf.Variable([[1, 2], [3, 4]], dtype=tf.float32)\n",
    "# initial variables: \n",
    "init = tf.global_variables_initializer()\n",
    "#-------------------sess--------------------\n",
    "with tf.Session() as sess:\n",
    "    sess.run(init)\n",
    "    print(sess.run(c))"
   ]
  },
  {
   "cell_type": "markdown",
   "metadata": {},
   "source": [
    "### ---try it---\n",
    "請嘗試給c定義不同的類型(e.g. 'hello world', [1,2,3], 123456789,etc...)，並記得對dtype作相對應的修改(e.g. remove or change shape, change dtype value)，理解 tf.variable的用法"
   ]
  },
  {
   "cell_type": "code",
   "execution_count": null,
   "metadata": {
    "collapsed": true
   },
   "outputs": [],
   "source": [
    "#-------------------graph--------------------\n",
    "c = tf.Variable('''key in here''', dtype='''key in here''')\n",
    "# initial variables: \n",
    "init = tf.global_variables_initializer()\n",
    "#-------------------sess--------------------\n",
    "with tf.Session() as sess:\n",
    "    sess.run(init)\n",
    "    print(sess.run(c))"
   ]
  },
  {
   "cell_type": "markdown",
   "metadata": {},
   "source": [
    "# 3. Simple operation examples"
   ]
  },
  {
   "cell_type": "markdown",
   "metadata": {},
   "source": [
    "### example 1\n",
    "矩陣乘法 矩陣元素對應相乘 與 相加 "
   ]
  },
  {
   "cell_type": "code",
   "execution_count": 9,
   "metadata": {},
   "outputs": [
    {
     "name": "stdout",
     "output_type": "stream",
     "text": [
      "[[ 19.  22.]\n",
      " [ 43.  50.]]\n",
      "---\n",
      "[[  5.  12.]\n",
      " [ 21.  32.]]\n",
      "---\n",
      "[[  6.   8.]\n",
      " [ 10.  12.]]\n"
     ]
    }
   ],
   "source": [
    "#-------------------graph--------------------\n",
    "x1 = tf.Variable([[1,2], \n",
    "                  [3,4]], dtype= tf.float32)\n",
    "x2 = tf.Variable([[5,6], \n",
    "                  [7,8]], dtype= tf.float32)\n",
    "\n",
    "mat_mul_ops = tf.matmul(x1, x2) # np.dot\n",
    "element_wise_mul_ops = tf.multiply(x1, x2) # element-wise mul\n",
    "add_ops = tf.add(x1, x2)\n",
    "\n",
    "init = tf.global_variables_initializer()\n",
    "#-------------------sess--------------------\n",
    "with tf.Session() as sess:\n",
    "    sess.run(init)\n",
    "    res1, res2, res3 = sess.run([mat_mul_ops, element_wise_mul_ops, add_ops])\n",
    "    print(res1)\n",
    "    print(\"---\")\n",
    "    print(res2)\n",
    "    print(\"---\")\n",
    "    print(res3)"
   ]
  },
  {
   "cell_type": "markdown",
   "metadata": {},
   "source": [
    "### ---try it---\n",
    "1. 嘗試在上面cell內輸入不同shape的x1與x2陣列，觀察output的變化，熟悉tf.matmul、 tf.multipy、tf.add function的功能\n",
    "2. 嘗試換成tf.subtract、 tf.div 並瞭解這兩個function的功能，同時熟悉tensorflow架構"
   ]
  },
  {
   "cell_type": "code",
   "execution_count": null,
   "metadata": {
    "collapsed": true
   },
   "outputs": [],
   "source": [
    "#-------------------graph--------------------\n",
    "x1 = tf.Variable([[4,2], \n",
    "                  [3,4]], dtype= tf.float32)\n",
    "x2 = tf.Variable([[5,6], \n",
    "                  [7,8]], dtype= tf.float32)\n",
    "\n",
    "\n",
    "'''key in the code here'''\n",
    "\n",
    "\n",
    "init = tf.global_variables_initializer()\n",
    "#-------------------sess--------------------\n",
    "with tf.Session() as sess:\n",
    "    sess.run(init)\n",
    "\n",
    "    res1, res2 = sess.run('''key in the code here''')\n",
    "    print(res1)\n",
    "    print(\"---\")\n",
    "    print(res2)\n",
    "    print(\"---\")"
   ]
  },
  {
   "cell_type": "markdown",
   "metadata": {},
   "source": [
    "### example 2\n",
    "對行/ 列/ 矩陣內所有元素取 sum/ mean"
   ]
  },
  {
   "cell_type": "code",
   "execution_count": 10,
   "metadata": {},
   "outputs": [
    {
     "name": "stdout",
     "output_type": "stream",
     "text": [
      "[[ 1.  2.]\n",
      " [ 3.  4.]]\n",
      "---\n",
      "[ 4.  6.]\n",
      "[ 3.  7.]\n",
      "10.0\n",
      "[ 2.  3.]\n",
      "[ 1.5  3.5]\n",
      "2.5\n"
     ]
    }
   ],
   "source": [
    "#-------------------graph--------------------\n",
    "take_sum_1 = tf.reduce_sum(x1, axis=0) # cf. np.sum\n",
    "take_sum_2 = tf.reduce_sum(x1, axis=1)\n",
    "take_sum_3 = tf.reduce_sum(x1)\n",
    "take_mean_1 = tf.reduce_mean(x1, axis = 0) # cf. np.mean\n",
    "take_mean_2 = tf.reduce_mean(x1, axis = 1)\n",
    "take_mean_3 = tf.reduce_mean(x1)\n",
    "\n",
    "#-------------------sess--------------------\n",
    "with tf.Session() as sess:\n",
    "    sess.run(tf.global_variables_initializer())\n",
    "    print(sess.run(x1))\n",
    "    print('---')\n",
    "    print(sess.run(take_sum_1))\n",
    "    print(sess.run(take_sum_2))\n",
    "    print(sess.run(take_sum_3))\n",
    "    print(sess.run(take_mean_1))\n",
    "    print(sess.run(take_mean_2))\n",
    "    print(sess.run(take_mean_3))"
   ]
  },
  {
   "cell_type": "markdown",
   "metadata": {},
   "source": [
    "### example 3"
   ]
  },
  {
   "cell_type": "markdown",
   "metadata": {},
   "source": [
    "### 在正式開始 example 3前先讓我們嘗試一下\n",
    "### ---try it---\n",
    "1. 嘗試將x1與x2前的variable換成constant，看結果會不會報錯呢\n",
    "2. 嘗試在換成constant後後面多加一行x1 = tf.constant([[0,0], [0,0]], dtype= tf.float32)，看結果會不會報錯呢"
   ]
  },
  {
   "cell_type": "markdown",
   "metadata": {},
   "source": [
    "#### 很明顯應該是都能正常執行的，在第一個範例中，因為我們只有去讀取這兩個陣列，但並沒有做更動，所以不會報錯\n",
    "#### 而在第二個範例中，雖然我們對x1做了改變，但也是將x1指向另一個tf.constant，而不是改變tf.constant的內容，所以也並不會報錯\n",
    "#### 那麼variable到底跟constant差在哪，在甚麼地方會被活用呢，讓我們往下看到tf.assign"
   ]
  },
  {
   "cell_type": "markdown",
   "metadata": {},
   "source": [
    "#### 正式開始example 3\n",
    "重複加一並且列出來"
   ]
  },
  {
   "cell_type": "code",
   "execution_count": 11,
   "metadata": {},
   "outputs": [
    {
     "name": "stdout",
     "output_type": "stream",
     "text": [
      "1\n",
      "2\n",
      "3\n",
      "4\n",
      "5\n",
      "6\n",
      "7\n",
      "8\n",
      "9\n",
      "10\n"
     ]
    }
   ],
   "source": [
    "#-------------------graph--------------------\n",
    "index_counter = tf.Variable(0)\n",
    "one = tf.constant(1)\n",
    "\n",
    "new_index = tf.add(index_counter, one)\n",
    "update_ops = tf.assign(index_counter, new_index) # You have to apply \"assign\" on a variable to make its value changed.\n",
    "\n",
    "init = tf.global_variables_initializer()\n",
    "#-------------------sess--------------------\n",
    "with tf.Session() as sess:\n",
    "    sess.run(init)\n",
    "    for _ in np.arange(10):\n",
    "        sess.run(update_ops)\n",
    "        print(sess.run(index_counter))"
   ]
  },
  {
   "cell_type": "markdown",
   "metadata": {},
   "source": [
    "在這邊我們會將所計算出來的new_index存回index_counter，讓他能不斷的往上累加，這時就會發揮variable的用途"
   ]
  },
  {
   "cell_type": "markdown",
   "metadata": {},
   "source": [
    "### ---try it---\n",
    "1. try error，將example 3的index_counter換成constant，看結果如何\n",
    "2. 嘗試將x1重複對x2做矩陣相乘並輸出10次，熟悉tf.assign的用法\n"
   ]
  },
  {
   "cell_type": "code",
   "execution_count": null,
   "metadata": {
    "collapsed": true
   },
   "outputs": [],
   "source": [
    "# -------------------graph--------------------\n",
    "x1 = tf.Variable([[1,2], \n",
    "                  [3,4]], dtype= tf.float32)\n",
    "x2 = tf.Variable([[5,6], \n",
    "                  [7,8]], dtype= tf.float32)\n",
    "\n",
    "mat_mul_ops = tf.matmul('''key in the code here''') # np.dot\n",
    "'''key in the code here'''\n",
    "\n",
    "init = tf.global_variables_initializer()\n",
    "#-------------------sess--------------------\n",
    "with tf.Session() as sess:\n",
    "    sess.run(init)\n",
    "    res1 = sess.run(['''key in the code here'''])\n",
    "    print(res1)\n",
    "    print(\"---\")"
   ]
  },
  {
   "cell_type": "markdown",
   "metadata": {},
   "source": [
    "# 4. A linear regression example\n",
    "### 我們在這裡用以下方程式\n",
    "$ y = ax + b ,a=3,b=10 $\n",
    "### 加上一個隨機變數做我們的資料樣本，\n",
    "### 並用tensorflow寫出一個linear regression function，在不跟模型說a和b實際值的情況下，讓它自己去預測出 a = \"3\" 和 b = \"10\""
   ]
  },
  {
   "cell_type": "code",
   "execution_count": 14,
   "metadata": {},
   "outputs": [
    {
     "name": "stdout",
     "output_type": "stream",
     "text": [
      "----------資料散布圖----------\n"
     ]
    },
    {
     "data": {
      "image/png": "[encoded data removed]",
      "text/plain": [
       "<matplotlib.figure.Figure at 0x7ff3d847c4a8>"
      ]
     },
     "metadata": {},
     "output_type": "display_data"
    },
    {
     "name": "stdout",
     "output_type": "stream",
     "text": [
      "----------開始預測----------\n",
      "step: 0, weight: 0.982047 bias: 2.41815\n",
      "step: 25, weight: 4.26046 bias: 9.76733\n",
      "step: 50, weight: 3.89699 bias: 9.96821\n",
      "step: 75, weight: 3.63584 bias: 10.1082\n",
      "step: 100, weight: 3.44949 bias: 10.208\n",
      "step: 125, weight: 3.31653 bias: 10.2793\n",
      "step: 150, weight: 3.22165 bias: 10.3301\n",
      "step: 175, weight: 3.15396 bias: 10.3664\n",
      "step: 200, weight: 3.10565 bias: 10.3923\n",
      "step: 225, weight: 3.07118 bias: 10.4108\n",
      "step: 250, weight: 3.04659 bias: 10.424\n",
      "step: 275, weight: 3.02904 bias: 10.4334\n",
      "step: 300, weight: 3.01652 bias: 10.4401\n",
      "step: 325, weight: 3.00758 bias: 10.4449\n",
      "step: 350, weight: 3.00121 bias: 10.4483\n",
      "step: 375, weight: 2.99666 bias: 10.4507\n",
      "step: 400, weight: 2.99341 bias: 10.4525\n",
      "step: 425, weight: 2.9911 bias: 10.4537\n",
      "step: 450, weight: 2.98945 bias: 10.4546\n",
      "step: 475, weight: 2.98827 bias: 10.4552\n",
      "----------實際值，預測值對照圖----------\n"
     ]
    },
    {
     "data": {
      "image/png": "[encoded data removed]",
      "text/plain": [
       "<matplotlib.figure.Figure at 0x7ff3d8780198>"
      ]
     },
     "metadata": {},
     "output_type": "display_data"
    },
    {
     "name": "stdout",
     "output_type": "stream",
     "text": [
      "----------預測圖----------\n"
     ]
    },
    {
     "data": {
      "image/png": "[encoded data removed]",
      "text/plain": [
       "<matplotlib.figure.Figure at 0x7ff3d845e8d0>"
      ]
     },
     "metadata": {},
     "output_type": "display_data"
    }
   ],
   "source": [
    "\n",
    "#模擬生成一組符合題目的dataset\n",
    "x_in = np.linspace(0, 1, 100)\n",
    "y_true = (3 * x_in) + 10 + np.random.rand(len(x_in))\n",
    "print(\"----------資料散布圖----------\")\n",
    "plt.plot(x_in, y_true, 'b.')\n",
    "plt.show()\n",
    "\n",
    "\n",
    "# ------------------------------------graph-----------------------------------------\n",
    "tf.reset_default_graph()#確保每次都是重新使用新的 graph (因為前面還有其他範例，執行時也可以幫忙清掉之前留下來的graph)\n",
    "\n",
    "## build the regression fomula\n",
    "w1 = tf.Variable(tf.random_uniform([1], -1.0, 1.0), dtype= tf.float32) #w1先以-1~1的隨機值做起始值\n",
    "b1 = tf.Variable(tf.zeros([1])) #b1以0做起始值\n",
    "\n",
    "y_pred = (w1 * x_in) + b1\n",
    "loss = tf.reduce_mean(tf.square(y_pred - y_true)) #建立loss的計算方法\n",
    "\n",
    "optim = tf.train.GradientDescentOptimizer(0.1) #建立最佳化算法\n",
    "train_ops = optim.minimize(loss) #將loss的計算function丟入最佳化算法function中\n",
    "\n",
    "\n",
    "init = tf.global_variables_initializer()\n",
    "\n",
    "#--------------------------------------sess--------------------------------------------\n",
    "## train the model\n",
    "sess = tf.Session()\n",
    "print(\"----------開始預測----------\")\n",
    "sess.run(init)\n",
    "\n",
    "for step in np.arange(500):\n",
    "    sess.run(train_ops)\n",
    "    if step % 25 == 0:\n",
    "        print('step: ' + str(step) + ', weight: ' + str(sess.run(w1)[0]) + ' bias: ' + str(sess.run(b1)[0]) )\n",
    "               \n",
    "y_out = sess.run(y_pred)\n",
    "#--------------------------------------plot---------------------------------------------\n",
    "print(\"----------實際值，預測值對照圖----------\")\n",
    "plt.plot(y_true, y_out, 'r.')\n",
    "plt.show()\n",
    "print(\"----------預測圖----------\")\n",
    "plt.plot(x_in, y_true, 'b.')\n",
    "plt.plot(x_in, y_out, 'r.')\n",
    "plt.show()\n",
    "\n",
    "sess.close()"
   ]
  },
  {
   "cell_type": "markdown",
   "metadata": {},
   "source": [
    "## Exercise\n",
    "### 請依照上面的 case, 計算 $y = 2x^2 + 3x + c$\n",
    "設定 x_in = np.linspace(0, 1, 100)\n"
   ]
  },
  {
   "cell_type": "code",
   "execution_count": null,
   "metadata": {
    "collapsed": true
   },
   "outputs": [],
   "source": []
  }
 ],
 "metadata": {
  "anaconda-cloud": {},
  "kernelspec": {
   "display_name": "Python 3",
   "language": "python",
   "name": "python3"
  },
  "language_info": {
   "codemirror_mode": {
    "name": "ipython",
    "version": 3
   },
   "file_extension": ".py",
   "mimetype": "text/x-python",
   "name": "python",
   "nbconvert_exporter": "python",
   "pygments_lexer": "ipython3",
   "version": "3.6.3"
  }
 },
 "nbformat": 4,
 "nbformat_minor": 2
}
