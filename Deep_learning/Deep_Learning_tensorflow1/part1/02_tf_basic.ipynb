{
 "cells": [
  {
   "cell_type": "markdown",
   "metadata": {},
   "source": [
    "# Here, we decide to learn tensorflow from a simple example directly!"
   ]
  },
  {
   "cell_type": "markdown",
   "metadata": {},
   "source": [
    "## General writing flow\n",
    "1. import required libraries\n",
    "2. load data and do some data pre-processing\n",
    "3. split your data into training and validation set\n",
    "4. build the network\n",
    "5. train the model and record/monitoring the performance"
   ]
  },
  {
   "cell_type": "markdown",
   "metadata": {},
   "source": [
    "## 1. Import required libries and set some parameters "
   ]
  },
  {
   "cell_type": "code",
   "execution_count": 1,
   "metadata": {
    "collapsed": true
   },
   "outputs": [],
   "source": [
    "from sklearn.model_selection import train_test_split\n",
    "from sklearn.utils import shuffle\n",
    "import numpy as np\n",
    "import os\n",
    "\n",
    "from tqdm import tqdm\n",
    "import matplotlib.pyplot as plt"
   ]
  },
  {
   "cell_type": "code",
   "execution_count": 2,
   "metadata": {},
   "outputs": [
    {
     "data": {
      "text/plain": [
       "'或者你可以將以上參數換成下面的呈現方式'"
      ]
     },
     "execution_count": 2,
     "metadata": {},
     "output_type": "execute_result"
    }
   ],
   "source": [
    "'''設定參數'''\n",
    "batch_size =32\n",
    "epochs = 100\n",
    "lr = 0.001\n",
    "train_ratio= 0.9\n",
    "\n",
    "'''或者你可以將以上參數換成下面的呈現方式'''\n",
    "# import argparse\n",
    "# parser = argparse.ArgumentParser()\n",
    "# parser.add_argument('--batch_size', default = 32, type = int)\n",
    "# parser.add_argument('--epochs', default = 100, type = int)\n",
    "# parser.add_argument('--lr', default = 0.001, type = float)\n",
    "# parser.add_argument('--train_ratio', default = 0.9, type = float)\n",
    "# FLAGS = parser.parse_args([]) # if not jupyter notebook, remove []"
   ]
  },
  {
   "cell_type": "code",
   "execution_count": 3,
   "metadata": {
    "collapsed": true
   },
   "outputs": [],
   "source": [
    "# You should always set visible devices before importing tensorflow\n",
    "#os.environ['CUDA_VISIBLE_DEVICES'] = str(FLAGS.gpu_id)\n",
    "import tensorflow as tf"
   ]
  },
  {
   "cell_type": "markdown",
   "metadata": {},
   "source": [
    "## 2. Load data and do some pre-processing\n",
    "We use MNIST HERE (with sklearn 8x8 version rather than use tensorflow 28x28 version)"
   ]
  },
  {
   "cell_type": "code",
   "execution_count": 4,
   "metadata": {
    "collapsed": true
   },
   "outputs": [],
   "source": [
    "from sklearn.datasets import load_digits\n",
    "# -----------------------------load data----------------------------------------\n",
    "digits = load_digits()\n",
    "x_, y_ = digits.data, digits.target\n",
    "\n",
    "# -----------------------do data pre-processing--------------------------------- \n",
    "#---------one way of normalization--------\n",
    "x_ = x_ / x_.max() \n",
    "\n",
    "\n",
    "#---------將資料做One-Hot Encoding---------\n",
    "y_one_hot = np.zeros((len(y_), 10))  \n",
    "y_one_hot[np.arange(len(y_)), y_] = 1\n",
    "\n",
    "# "
   ]
  },
  {
   "cell_type": "markdown",
   "metadata": {},
   "source": [
    "## 3. Split your data into training and validation sets"
   ]
  },
  {
   "cell_type": "code",
   "execution_count": 5,
   "metadata": {},
   "outputs": [
    {
     "name": "stdout",
     "output_type": "stream",
     "text": [
      "training set data dimension\n",
      "(1536, 64)\n",
      "(1536, 10)\n",
      "-----------\n",
      "training set: 1536\n",
      "validation set: 171\n",
      "testing set: 90\n"
     ]
    }
   ],
   "source": [
    "#----------------------------資料training set, testing set 分割---------------------------------------\n",
    "x_train, x_test, y_train, y_test = train_test_split(x_, \n",
    "                                                    y_one_hot, \n",
    "                                                    test_size = 0.05, \n",
    "                                                    stratify  = y_)\n",
    "#資料training set, validation set 分割\n",
    "x_train, x_valid, y_train, y_valid = train_test_split(x_train, \n",
    "                                                      y_train, \n",
    "                                                      test_size = 1.0 - train_ratio,\n",
    "                                                      stratify = y_train.argmax(axis = 1))\n",
    "#------------------------------------檢查資料---------------------------------------------------------\n",
    "print(\"training set data dimension\")\n",
    "print(x_train.shape)\n",
    "print(y_train.shape)\n",
    "print(\"-----------\")\n",
    "print(\"training set: %i\" % len(x_train))\n",
    "print(\"validation set: %i\" % len(x_valid))\n",
    "print(\"testing set: %i\" % len(x_test))"
   ]
  },
  {
   "cell_type": "markdown",
   "metadata": {},
   "source": [
    "# 以下有兩種方法去搭建network"
   ]
  },
  {
   "cell_type": "markdown",
   "metadata": {},
   "source": [
    "## $\\star$ (法一) $\\star$ \n",
    "## 4a.Build the network with low-level tensor elements"
   ]
  },
  {
   "cell_type": "code",
   "execution_count": 10,
   "metadata": {
    "collapsed": true
   },
   "outputs": [],
   "source": [
    "# ------------------------------------------graph------------------------------------------------\n",
    "tf.reset_default_graph() # clean graph\n",
    "\n",
    "#------------Declare the input node (Input layer)---------------\n",
    "with tf.name_scope('input'):\n",
    "    x_input = tf.placeholder(shape = (None,x_train.shape[1]), \n",
    "                             name = 'x_input',\n",
    "                             dtype=tf.float32)\n",
    "    y_out = tf.placeholder(shape = (None, y_train.shape[1]), \n",
    "                           name = 'y_label',\n",
    "                           dtype=tf.float32)\n",
    "#-----------------------hidden layer----------------------------    \n",
    "with tf.variable_scope('hidden_layer'):\n",
    "    w1 = tf.get_variable('weight1', \n",
    "                         shape= [x_train.shape[1], 25], \n",
    "                         dtype=tf.float32, \n",
    "                         initializer=tf.truncated_normal_initializer(stddev=0.1))\n",
    "    b1 = tf.get_variable('bias1', \n",
    "                         shape= [25], \n",
    "                         dtype=tf.float32, \n",
    "                         initializer=tf.constant_initializer(0.0))  \n",
    "    x_h1 = tf.nn.relu(tf.add(tf.matmul(x_input, w1), b1))\n",
    "#-----------------------output layer----------------------------    \n",
    "with tf.variable_scope('output_layer'):\n",
    "    w2 = tf.get_variable('weight2',\n",
    "                         shape=[25, y_train.shape[1]],\n",
    "                         dtype=tf.float32,\n",
    "                         initializer=tf.truncated_normal_initializer(stddev=0.1))\n",
    "    b2 = tf.get_variable('bias2', \n",
    "                         shape=[y_train.shape[1]], \n",
    "                         dtype=tf.float32, \n",
    "                         initializer=tf.constant_initializer(0.0))\n",
    "    output = tf.add(tf.matmul(x_h1, w2), b2)\n",
    "\n",
    "#-----------------------lost function(cross entropy)-------------\n",
    "with tf.name_scope('cross_entropy'):\n",
    "    loss = tf.reduce_mean(tf.nn.softmax_cross_entropy_with_logits(logits=output, labels=y_out))\n",
    "#-----------------------accuracy---------------------------------    \n",
    "with tf.name_scope('accuracy'):\n",
    "    correct_prediction = tf.equal(tf.argmax(tf.nn.softmax(output),1), tf.argmax(y_out,1)) #如果答案對則回傳truth\n",
    "    compute_acc = tf.reduce_mean(tf.cast(correct_prediction, tf.float32)) #將回傳的truth/false轉乘1/0並計算平均(計算正確率)\n",
    "#-----------------------optimizer---------------------------------\n",
    "with tf.name_scope('train'):\n",
    "    #使用adam做optimization最小化loss funciotn(不斷取微分並逼近local min)\n",
    "    train_step = tf.train.AdamOptimizer(learning_rate=lr).minimize(loss)"
   ]
  },
  {
   "cell_type": "markdown",
   "metadata": {},
   "source": [
    "## 5a. Train the model and collect the performance"
   ]
  },
  {
   "cell_type": "code",
   "execution_count": 11,
   "metadata": {},
   "outputs": [
    {
     "name": "stderr",
     "output_type": "stream",
     "text": [
      "100%|██████████| 100/100 [00:11<00:00,  8.67it/s]\n"
     ]
    },
    {
     "name": "stdout",
     "output_type": "stream",
     "text": [
      "--- training done ---\n",
      "testing accuracy: 0.94\n"
     ]
    },
    {
     "data": {
      "image/png": "[encoded data removed]",
      "text/plain": [
       "<matplotlib.figure.Figure at 0x7f0bd4431240>"
      ]
     },
     "metadata": {},
     "output_type": "display_data"
    },
    {
     "data": {
      "image/png": "[encoded data removed]",
      "text/plain": [
       "<matplotlib.figure.Figure at 0x7f0bd17e6d68>"
      ]
     },
     "metadata": {},
     "output_type": "display_data"
    }
   ],
   "source": [
    "train_loss_list, valid_loss_list = [], []\n",
    "train_acc_list, valid_acc_list = [], []\n",
    "#-------------------------------------------------------sess-------------------------------------------------------\n",
    "with tf.Session() as sess:\n",
    "    # we have to initalize all variables (e.g. weights/biases) at beginning.\n",
    "    sess.run([tf.global_variables_initializer()])\n",
    "    # writer = tf.summary.FileWriter(\"./graph/\", sess.graph)\n",
    "    for i in tqdm(range(epochs)):\n",
    "        # get batch \n",
    "        total_batch = int(np.floor(len(x_train) / batch_size)) \n",
    "        # 透過batch size 與資料量計算有幾個batch， just drop out last few samples ...\n",
    "        \n",
    "        train_loss_collector, train_acc_collector = [], []\n",
    "        for j in np.arange(total_batch):\n",
    "            #-------------------------------取一個batch 的資料-------------------------------------\n",
    "            batch_idx_start = j * batch_size\n",
    "            batch_idx_stop = (j+1) * batch_size\n",
    "\n",
    "            x_batch = x_train[batch_idx_start : batch_idx_stop] \n",
    "            y_batch = y_train[batch_idx_start : batch_idx_stop]\n",
    "            #------------------------------------------------------------------------------------\n",
    "            this_loss, this_acc, _ = sess.run([loss, compute_acc, train_step], \n",
    "                                    feed_dict = {x_input: x_batch,\n",
    "                                                 y_out: y_batch})\n",
    "            # run上一個cell最後三個tensor得到loss值,正確率,和一次優化(得到新的weight 和biases)\n",
    "            train_loss_collector.append(this_loss) #記錄每個batch的loss\n",
    "            train_acc_collector.append(this_acc)   #記錄每個batch的acc\n",
    "            \n",
    "        # do validation at the end of each epoch(run完一個epoch後，計算一下validation acc 與 validation loss)\n",
    "        valid_acc, valid_loss = sess.run([compute_acc, loss],\n",
    "                                         feed_dict = {x_input: x_valid,\n",
    "                                                      y_out : y_valid})\n",
    "        valid_loss_list.append(valid_loss) #記錄validation loss\n",
    "        valid_acc_list.append(valid_acc)   #記錄validation acc\n",
    "        train_loss_list.append(np.mean(train_loss_collector)) #記錄每個epoch 平均 loss\n",
    "        train_acc_list.append(np.mean(train_acc_collector))   #記錄每個epoch 平均 acc\n",
    "\n",
    "        # at the end of each epoch, shuffle the data 重新排列資料並進入下一個i(epochs)\n",
    "        x_train, y_train = shuffle(x_train, y_train)\n",
    "    # At the end of the training, do testing set\n",
    "    test_acc, test_loss = sess.run([compute_acc, loss],\n",
    "                                    feed_dict = {x_input: x_test,\n",
    "                                                 y_out : y_test})\n",
    "print('--- training done ---')\n",
    "print('testing accuracy: %.2f' % test_acc)\n",
    "#------------------------------------------------------plot----------------------------------------------------------\n",
    "plt.plot(np.arange(len(train_loss_list)), train_loss_list, 'b', label = 'train')\n",
    "plt.plot(np.arange(len(valid_loss_list)), valid_loss_list, 'r', label = 'valid')\n",
    "plt.legend()\n",
    "plt.title(\"Loss\")\n",
    "plt.show()\n",
    "\n",
    "plt.plot(np.arange(len(train_acc_list)), train_acc_list, 'b', label = 'train')\n",
    "plt.plot(np.arange(len(valid_acc_list)), valid_acc_list, 'r', label = 'valid')\n",
    "plt.legend(loc = 4)\n",
    "plt.title(\"Accuracy\")\n",
    "plt.show()"
   ]
  },
  {
   "cell_type": "markdown",
   "metadata": {},
   "source": [
    "## $\\star$ (法二) $\\star$\n",
    "## 4b. Build the network with \"layer\" "
   ]
  },
  {
   "cell_type": "code",
   "execution_count": 12,
   "metadata": {
    "collapsed": true
   },
   "outputs": [],
   "source": [
    "# ------------------------------------graph-----------------------------------------\n",
    "tf.reset_default_graph() # clean graph\n",
    "# Declare the input node\n",
    "with tf.name_scope('input'):\n",
    "    x_input = tf.placeholder(shape = (None,x_train.shape[1]), \n",
    "                             name = 'x_input',\n",
    "                             dtype=tf.float32)\n",
    "    y_out = tf.placeholder(shape = (None, y_train.shape[1]), \n",
    "                           name = 'y_label',\n",
    "                           dtype=tf.float32)\n",
    "\n",
    "# --------------------Declare the network structure----------------------------\n",
    "\"\"\"---------與上面不一樣的地方(將一個layer的所有程式用一個內建function取代)----------\"\"\"\n",
    "with tf.variable_scope('hidden_layer'):\n",
    "    x_h1 = tf.layers.dense(inputs= x_input, units= 25, activation=tf.nn.relu)\n",
    "\n",
    "\n",
    "with tf.variable_scope('output_layer'):\n",
    "    output = tf.layers.dense(x_h1, 10)\n",
    "'''---------------------------------------------------------------------------'''\n",
    "with tf.name_scope('cross_entropy'):\n",
    "    loss = tf.reduce_mean(tf.nn.softmax_cross_entropy_with_logits(logits=output, labels=y_out))\n",
    "    \n",
    "with tf.name_scope('accuracy'):\n",
    "    correct_prediction = tf.equal(tf.argmax(tf.nn.softmax(output),1), tf.argmax(y_out,1))\n",
    "    compute_acc = tf.reduce_mean(tf.cast(correct_prediction, tf.float32))\n",
    "\n",
    "with tf.name_scope('train'):\n",
    "    train_step = tf.train.AdamOptimizer(learning_rate=lr).minimize(loss)"
   ]
  },
  {
   "cell_type": "markdown",
   "metadata": {},
   "source": [
    "## 5b. Train the model and collect the performance"
   ]
  },
  {
   "cell_type": "code",
   "execution_count": 13,
   "metadata": {},
   "outputs": [
    {
     "name": "stderr",
     "output_type": "stream",
     "text": [
      "100%|██████████| 100/100 [00:10<00:00,  9.20it/s]\n"
     ]
    },
    {
     "name": "stdout",
     "output_type": "stream",
     "text": [
      "--- training done ---\n",
      "testing accuracy: 0.98\n"
     ]
    },
    {
     "data": {
      "image/png": "[encoded data removed]",
      "text/plain": [
       "<matplotlib.figure.Figure at 0x7f0bd1532828>"
      ]
     },
     "metadata": {},
     "output_type": "display_data"
    },
    {
     "data": {
      "image/png": "[encoded data removed]",
      "text/plain": [
       "<matplotlib.figure.Figure at 0x7f0bd1507f60>"
      ]
     },
     "metadata": {},
     "output_type": "display_data"
    }
   ],
   "source": [
    "train_loss_list, valid_loss_list = [], []\n",
    "train_acc_list, valid_acc_list = [], []\n",
    "#--------------------------------------sess--------------------------------------------\n",
    "with tf.Session() as sess:\n",
    "    # we have to initalize all variables (e.g. weights/biases) at the begin\n",
    "    sess.run([tf.global_variables_initializer()])\n",
    "    \n",
    "    for i in tqdm(range(epochs)):\n",
    "        # get batch \n",
    "        total_batch = int(np.floor(len(x_train) / batch_size)) # just drop out last few samples...\n",
    "        \n",
    "        train_loss_collector, train_acc_collector = [], []\n",
    "        for j in np.arange(total_batch):\n",
    "            batch_idx_start = j * batch_size\n",
    "            batch_idx_stop = (j+1) * batch_size\n",
    "\n",
    "            x_batch = x_train[batch_idx_start : batch_idx_stop]\n",
    "            y_batch = y_train[batch_idx_start : batch_idx_stop]\n",
    "            \n",
    "            this_loss, this_acc, _ = sess.run([loss, compute_acc,train_step],\n",
    "                                    feed_dict = {x_input: x_batch,\n",
    "                                                 y_out: y_batch})\n",
    "            train_loss_collector.append(this_loss)\n",
    "            train_acc_collector.append(this_acc)\n",
    "            \n",
    "        # do validation at the end of each epoch\n",
    "        valid_acc, valid_loss = sess.run([compute_acc, loss],\n",
    "                                         feed_dict = {x_input: x_valid,\n",
    "                                                      y_out : y_valid})\n",
    "        valid_loss_list.append(valid_loss)\n",
    "        valid_acc_list.append(valid_acc)\n",
    "        train_loss_list.append(np.mean(train_loss_collector))\n",
    "        train_acc_list.append(np.mean(train_acc_collector))\n",
    "\n",
    "        # at the end of each epoch, shuffle the data\n",
    "        x_train, y_train = shuffle(x_train, y_train)\n",
    "    # At the end of the training, do testing set\n",
    "    test_acc, test_loss = sess.run([compute_acc, loss],\n",
    "                                    feed_dict = {x_input: x_test,\n",
    "                                                 y_out : y_test})\n",
    "print('--- training done ---')\n",
    "print('testing accuracy: %.2f' % test_acc)\n",
    "#--------------------------------------plot---------------------------------------------\n",
    "plt.plot(np.arange(len(train_loss_list)), train_loss_list, 'b', label = 'train')\n",
    "plt.plot(np.arange(len(valid_loss_list)), valid_loss_list, 'r', label = 'valid')\n",
    "plt.legend()\n",
    "plt.title(\"Loss\")\n",
    "plt.show()\n",
    "\n",
    "plt.plot(np.arange(len(train_acc_list)), train_acc_list, 'b', label = 'train')\n",
    "plt.plot(np.arange(len(valid_acc_list)), valid_acc_list, 'r', label = 'valid')\n",
    "plt.legend(loc = 4)\n",
    "plt.title(\"Accuracy\")\n",
    "plt.show()"
   ]
  },
  {
   "cell_type": "markdown",
   "metadata": {},
   "source": [
    "## Exercise1: \n",
    "用自訂義的 variables and bias 做成 3 個 hidden layer (25, 25, 25) 的 Neural netowrk\n",
    "\n",
    "## Exercise2: \n",
    "用 tf.layers 做成 3 個 hidden layer (25, 25, 25) 的 Neural netowrk\n"
   ]
  },
  {
   "cell_type": "code",
   "execution_count": null,
   "metadata": {
    "collapsed": true
   },
   "outputs": [],
   "source": []
  }
 ],
 "metadata": {
  "anaconda-cloud": {},
  "kernelspec": {
   "display_name": "Python 3",
   "language": "python",
   "name": "python3"
  },
  "language_info": {
   "codemirror_mode": {
    "name": "ipython",
    "version": 3
   },
   "file_extension": ".py",
   "mimetype": "text/x-python",
   "name": "python",
   "nbconvert_exporter": "python",
   "pygments_lexer": "ipython3",
   "version": "3.6.3"
  }
 },
 "nbformat": 4,
 "nbformat_minor": 2
}
