{
 "cells": [
  {
   "cell_type": "markdown",
   "metadata": {},
   "source": [
    "# stochastic gradient descent"
   ]
  },
  {
   "cell_type": "markdown",
   "metadata": {},
   "source": [
    "## 前面的程式都和上個範例--\"數字手寫辨識\"一樣"
   ]
  },
  {
   "cell_type": "code",
   "execution_count": 1,
   "metadata": {},
   "outputs": [],
   "source": [
    "import numpy as np\n",
    "import matplotlib.pyplot as plt\n",
    "from sklearn.utils import shuffle\n",
    "%matplotlib inline"
   ]
  },
  {
   "cell_type": "code",
   "execution_count": 2,
   "metadata": {},
   "outputs": [],
   "source": [
    "# Define activation(sigmoid)_layer functions\n",
    "class sigmoid_layer():\n",
    "    def __init__(self):\n",
    "        self.out = None #這裡的out就是影片與上面方程式中的a\n",
    "    def forward(self, x):\n",
    "        out = 1 / (1 + np.exp(-x))\n",
    "        self.out = out  #記錄在class中作計算backward備用\n",
    "        \n",
    "        return out\n",
    "    def backward(self, dout):\n",
    "        dx = dout * (1.0 - self.out) * self.out # dL/da * da/dz = dL/da * y * (1-y)\n",
    "        \n",
    "        return dx\n",
    "# Define affine_layer functions    \n",
    "class affine_layer():\n",
    "    def __init__(self, W, b):\n",
    "        self.W = W\n",
    "        self.b = b\n",
    "        self.x = None\n",
    "        self.original_x_shape = None\n",
    "        self.dW =None\n",
    "        self.db = None\n",
    "        \n",
    "    def forward(self, x):\n",
    "        self.original_x_shape = x.shape\n",
    "        x = x.reshape(x.shape[0], -1)\n",
    "        \n",
    "        self.x = x #記錄在class中作計算backward備用\n",
    "        out = np.dot(self.x, self.W) + self.b\n",
    "        \n",
    "        return out\n",
    "    \n",
    "    def backward(self, dout):\n",
    "        dx = np.dot(dout, self.W.T)\n",
    "        \n",
    "        self.dW = np.dot(self.x.T, dout)\n",
    "        self.db = np.sum(dout, axis = 0)\n",
    "        dx = dx.reshape(*self.original_x_shape)\n",
    "        \n",
    "        return dx\n",
    "    \n",
    "def softmax(x):\n",
    "    if x.ndim == 2:\n",
    "        x = x.T # Transpose it\n",
    "        x = x - np.max(x, axis=0)\n",
    "        y = np.exp(x) / np.sum(np.exp(x), axis=0)\n",
    "        return y.T \n",
    "    return np.exp(x) / np.sum(np.exp(x))\n",
    "\n",
    "# define cross_entropy\n",
    "def cross_entropy(y, t):\n",
    "    if y.ndim == 1:\n",
    "        t = t.reshape(1, t.size)\n",
    "        y = y.reshape(1, y.size)\n",
    "        \n",
    "    if t.size == y.size:\n",
    "        t = t.argmax(axis=1)\n",
    "             \n",
    "    batch_size = y.shape[0]\n",
    "    return -np.sum(np.log(y[np.arange(batch_size), t] + 1e-7)) / batch_size\n",
    "\n",
    "class softmax_with_crossentropy():\n",
    "    def __init__(self):\n",
    "        self.loss = None\n",
    "        self.y = None # softmax output\n",
    "        self.t = None # target (ground-truth)\n",
    "        \n",
    "    def forward(self, x, t):\n",
    "        self.t = t\n",
    "        self.y = softmax(x)#將predict後的結果餵入最後的softmax作為最後的預測(y_pred)\n",
    "        self.loss = cross_entropy(self.y, self.t)\n",
    "        \n",
    "        return self.loss\n",
    "    def backward(self, dout = 1):\n",
    "        batch_size = self.t.shape[0]\n",
    "        dx = (self.y - self.t) / batch_size #以predict 與 truth的差值除以batch size, \n",
    "                                            #作為bp的起點(事實上就是Loss func對最後一步z的偏微分)\n",
    "        \n",
    "        return dx"
   ]
  },
  {
   "cell_type": "code",
   "execution_count": 3,
   "metadata": {},
   "outputs": [],
   "source": [
    "from collections import OrderedDict # this is a built-in function -- dictionary with order\n",
    "\n",
    "#ordereddic和一般dict差別的參考範例：https://blog.csdn.net/liangguohuan/article/details/7088304\n",
    "\n",
    "class Two_layerNet_bp:\n",
    "    def __init__(self, \n",
    "                 input_size, \n",
    "                 hidden_size, \n",
    "                 output_size, \n",
    "                 weight_init_std = 0.01):\n",
    "        #------------------------------定義好要用的陣列---------------------------------\n",
    "        self.params = {}#用dict存放所有陣列\n",
    "        self.params['w1'] = weight_init_std * np.random.randn(input_size, hidden_size) #以亂數作為w的起始值\n",
    "        self.params['b1'] = np.zeros(hidden_size) #以0作為b的起始值\n",
    "        self.params['w2'] = weight_init_std * np.random.randn(hidden_size, output_size) #以亂數作為w的起始值\n",
    "        self.params['b2'] = np.zeros(output_size) #以0作為b的起始值\n",
    "        \n",
    "        #------------------------------build network---------------------------------\n",
    "        self.layers = OrderedDict()#用ordereddic存放所有layers\n",
    "        self.layers['affine_1'] = affine_layer(self.params['w1'], self.params['b1'])\n",
    "        self.layers['sigmoid_1'] = sigmoid_layer()\n",
    "        self.layers['affine_2'] = affine_layer(self.params['w2'], self.params['b2'])\n",
    "        # output layer\n",
    "        self.lastlayer = softmax_with_crossentropy()\n",
    "    #---------------------predict----------------------    \n",
    "    def predict(self, x):\n",
    "        # forward\n",
    "        for layer in self.layers.values(): #從第一層開始,將最初的x餵進layer,並將輸出當作下一層layer的input持續做到倒數第二層(不包含最後的softmax層)，得到output\n",
    "            x = layer.forward(x) \n",
    "        \n",
    "        return x\n",
    "#--------------------------lost function(with cross entropy)---------------              \n",
    "    def loss(self, x, y_true):\n",
    "        y_pred = self.predict(x) #調用上面的predict function\n",
    "        return self.lastlayer.forward(y_pred, y_true)#仔細看到上個cell最後一個class \"softmax_with_crossentropy()\"的\"forward\"，\n",
    "                                                    #除了計算softmax、cross_entropy也將計算結果、y_pred、y_true記錄在softmax_with_crossentropy()內,\n",
    "                                                    #在調用backward時就不用再餵入y_pred,y_true\n",
    "#----------------------------------accuracy--------------------------------       \n",
    "    def compute_acc(self, x, y_true):\n",
    "        y_pred = self.predict(x)\n",
    "        # take argmax\n",
    "        y_pred = y_pred.argmax(axis = 1) \n",
    "        y_true = y_true.argmax(axis = 1)\n",
    "        \n",
    "        acc = np.sum(y_pred == y_true) / len(y_true)\n",
    "        return acc\n",
    "#-----------------------------optimizer(gradient)---------------------------\n",
    "    def gradient(self, x, t):\n",
    "        # forward path\n",
    "        self.loss(x, t) #這步回頭看function就會了解，除了做了loss，也做loss前的predict，另外predict同時各層affine layer 的input \"x\"、\n",
    "                        #optimizer(cross)的input \"t\" and \"y\"、activation function layer的output \"out\"與也會記錄在分別的class中,\n",
    "                        #而各層affine layer的x就是'partial(z)/partial(w)'，所以不用覺得似乎少了許多步驟\n",
    "        \n",
    "        # backward\n",
    "        dout = 1\n",
    "        dout = self.lastlayer.backward(dout)\n",
    "        \n",
    "        layers = list(self.layers.values())\n",
    "        layers.reverse() #將layers反過來準備開始backward\n",
    "        for layer in layers:#backward 開始!!!!\n",
    "            dout = layer.backward(dout)#分別計算dw、db並各自記錄在自己的layer中\n",
    "        \n",
    "        # gradient init and setting\n",
    "        grads = {}\n",
    "        grads['w1'] = self.layers['affine_1'].dW\n",
    "        grads['b1'] = self.layers['affine_1'].db\n",
    "        grads['w2'] = self.layers['affine_2'].dW\n",
    "        grads['b2'] = self.layers['affine_2'].db\n",
    "        \n",
    "        return grads"
   ]
  },
  {
   "cell_type": "markdown",
   "metadata": {},
   "source": [
    "## 在這邊與上個範例開始有點不同，我們將導入batch size的觀念!\n",
    "## 現在我們先嘗試一般的gradient descent(batch size=training size)(看完所有資料一遍才更新一次參數)"
   ]
  },
  {
   "cell_type": "code",
   "execution_count": 4,
   "metadata": {},
   "outputs": [
    {
     "name": "stderr",
     "output_type": "stream",
     "text": [
      "100%|██████████| 5/5 [00:00<00:00, 133.49it/s]"
     ]
    },
    {
     "name": "stdout",
     "output_type": "stream",
     "text": [
      "總共費時： 0.04054856300354004\n"
     ]
    },
    {
     "name": "stderr",
     "output_type": "stream",
     "text": [
      "\n"
     ]
    }
   ],
   "source": [
    "from sklearn.datasets import load_digits\n",
    "from sklearn.model_selection import train_test_split\n",
    "from tqdm import tqdm\n",
    "import time\n",
    "\n",
    "'''-----------------------------------資料前處理---------------------------------------------'''\n",
    "digits = load_digits()\n",
    "x_, y_ = digits.data, digits.target\n",
    "\n",
    "\n",
    "#---------將資料做One-Hot Encoding---------\n",
    "y_one_hot = np.zeros((len(y_), 10))\n",
    "y_one_hot[np.arange(len(y_)), y_] = 1 \n",
    "#---------one way of normalization--------\n",
    "x_ = x_ / x_.max() # normailze it to 0 - 1 標準化\n",
    "\n",
    "#----------------------------資料training set, testing set 分割---------------------------------------\n",
    "x_train, x_test, y_train, y_test = train_test_split(x_, y_one_hot, test_size = 0.1, stratify = y_)\n",
    "'''--------------------------------建立List準備存過程中的ass與loss變化----------------------------'''\n",
    "# define training settings ------------\n",
    "train_loss_list = []\n",
    "train_acc_list = []\n",
    "test_acc_list = []\n",
    "datatimes_acc_list=[]\n",
    "datatimes_loss_list=[]\n",
    "'''-----------------------------------參數設定與創建新模型--------------------------------------------'''\n",
    "epochs = 5\n",
    "train_size = x_train.shape[0] # numbers of training samples\n",
    "bz = train_size # batch size\n",
    "lr = 0.1 # learning rate\n",
    "\n",
    "network = Two_layerNet_bp(input_size=64, hidden_size=25, output_size=10)\n",
    "'''-----------------------------------start_training---------------------------------------------'''\n",
    "starttime=time.time()\n",
    "k=0\n",
    "for i in tqdm(range(epochs)):\n",
    "    x_train, y_train = shuffle(x_train, y_train)\n",
    "    total_batch = int(train_size / bz)\n",
    "    for j in np.arange(total_batch):\n",
    "        #-------------------------------取一個batch 的資料-------------------------------------\n",
    "        batch_idx_start = j * bz\n",
    "        batch_idx_stop = (j+1) * bz\n",
    "\n",
    "        x_batch = x_train[batch_idx_start : batch_idx_stop] \n",
    "        y_batch = y_train[batch_idx_start : batch_idx_stop]\n",
    "        #------------------------------------------------------------------------------------\n",
    "    \n",
    "    \n",
    "        grad = network.gradient(x_batch, y_batch) # already contain a feed-forward processing in this step\n",
    "        k=k+bz\n",
    "        \n",
    "        for key in (\"w1\", \"b1\", \"w2\", \"b2\"):\n",
    "            network.params[key] -= lr * grad[key]\n",
    "\n",
    "        this_loss = network.loss(x_batch, y_batch)\n",
    "        train_loss_list.append(this_loss)\n",
    "        datatimes_loss_list.append(k)\n",
    "       #每執行5 batch紀錄一次 \n",
    "        if j % 5 == 0:\n",
    "            # compute accuracy for every 50 updates\n",
    "            train_acc = network.compute_acc(x_train, y_train)\n",
    "            test_acc = network.compute_acc(x_test, y_test)\n",
    "\n",
    "            train_acc_list.append(train_acc)\n",
    "            test_acc_list.append(test_acc)\n",
    "            datatimes_acc_list.append(k)\n",
    "timerange=time.time()-starttime        \n",
    "print('總共費時：',timerange)  \n",
    "   "
   ]
  },
  {
   "cell_type": "markdown",
   "metadata": {},
   "source": [
    "## 現在我們再來嘗試stochastic gradient descent(batch size=1)(看完一筆資料就更新一次參數)"
   ]
  },
  {
   "cell_type": "code",
   "execution_count": 5,
   "metadata": {},
   "outputs": [
    {
     "name": "stderr",
     "output_type": "stream",
     "text": [
      "100%|██████████| 5/5 [00:04<00:00,  1.23it/s]"
     ]
    },
    {
     "name": "stdout",
     "output_type": "stream",
     "text": [
      "總共費時： 4.073269844055176\n"
     ]
    },
    {
     "name": "stderr",
     "output_type": "stream",
     "text": [
      "\n"
     ]
    }
   ],
   "source": [
    "\n",
    "'''--------------------------------建立List準備用來存過程中的acc與loss變化-------------------------'''\n",
    "# define training settings ------------\n",
    "train_loss_list2 = []\n",
    "train_acc_list2 = []\n",
    "test_acc_list2 = []\n",
    "datatimes_acc_list2=[]\n",
    "datatimes_loss_list2=[]\n",
    "'''-----------------------------------參數設定與創建新模型--------------------------------------------'''\n",
    "epochs = 5\n",
    "train_size = x_train.shape[0] # numbers of training samples\n",
    "bz = 1 # batch size\n",
    "lr = 0.1 # learning rate\n",
    "\n",
    "network = Two_layerNet_bp(input_size=64, hidden_size=25, output_size=10)\n",
    "'''-----------------------------------start_training---------------------------------------------'''\n",
    "starttime=time.time()\n",
    "k=0\n",
    "for i in tqdm(range(epochs)):\n",
    "    x_train, y_train = shuffle(x_train, y_train)\n",
    "    total_batch = int(train_size / bz)\n",
    "    for j in np.arange(total_batch):\n",
    "        #-------------------------------取一個batch 的資料-------------------------------------\n",
    "        batch_idx_start = j * bz\n",
    "        batch_idx_stop = (j+1) * bz\n",
    "\n",
    "        x_batch = x_train[batch_idx_start : batch_idx_stop] \n",
    "        y_batch = y_train[batch_idx_start : batch_idx_stop]\n",
    "        #------------------------------------------------------------------------------------\n",
    "    \n",
    "    \n",
    "        grad = network.gradient(x_batch, y_batch) # already contain a feed-forward processing in this step\n",
    "        k=k+bz#記錄現在總共已經看過幾筆資料了\n",
    "        for key in (\"w1\", \"b1\", \"w2\", \"b2\"):\n",
    "            network.params[key] -= lr * grad[key]\n",
    "\n",
    "        this_loss = network.loss(x_batch, y_batch)\n",
    "        train_loss_list2.append(this_loss)\n",
    "        datatimes_loss_list2.append(k)\n",
    "       #每執行5 batch紀錄一次acc\n",
    "        if j % 5 == 0:\n",
    "            \n",
    "            train_acc = network.compute_acc(x_train, y_train)\n",
    "            test_acc = network.compute_acc(x_test, y_test)\n",
    "\n",
    "            train_acc_list2.append(train_acc)\n",
    "            test_acc_list2.append(test_acc)\n",
    "            datatimes_acc_list2.append(k)\n",
    "timerange=time.time()-starttime        \n",
    "print('總共費時：',timerange)  "
   ]
  },
  {
   "cell_type": "markdown",
   "metadata": {},
   "source": [
    "## 畫圖比較"
   ]
  },
  {
   "cell_type": "code",
   "execution_count": 6,
   "metadata": {},
   "outputs": [
    {
     "name": "stdout",
     "output_type": "stream",
     "text": [
      "loss趨勢圖，x座標是看過單筆資料的次數，y軸是loss值\n"
     ]
    },
    {
     "data": {
      "image/png": "[encoded data removed]",
      "text/plain": [
       "<matplotlib.figure.Figure at 0x7f1cb3e39550>"
      ]
     },
     "metadata": {},
     "output_type": "display_data"
    },
    {
     "name": "stdout",
     "output_type": "stream",
     "text": [
      "acc趨勢圖，x座標是看過單筆資料的次數，y軸是正確率\n"
     ]
    },
    {
     "data": {
      "image/png": "[encoded data removed]",
      "text/plain": [
       "<matplotlib.figure.Figure at 0x7f1d32aa53c8>"
      ]
     },
     "metadata": {},
     "output_type": "display_data"
    }
   ],
   "source": [
    "  '''-----------------------------------圖形化---------------------------------------------'''  \n",
    "#------------------------------------------------------plot------------------------------------------------------\n",
    "#print(\"Train accuarcy, Test accuracy | \" + str(train_acc) + \", \" + str(test_acc))\n",
    "    \n",
    "#lose圖\n",
    "print('loss趨勢圖，x座標是看過單筆資料的次數，y軸是loss值')\n",
    "plt.plot(datatimes_loss_list2, train_loss_list2,'r-', label = 'training loss with sgd')\n",
    "plt.plot(datatimes_loss_list, train_loss_list,'b-',label = 'training loss')\n",
    "plt.legend(bbox_to_anchor=(1.05, 1), loc=2, borderaxespad=0.)\n",
    "plt.show()\n",
    "print('acc趨勢圖，x座標是看過單筆資料的次數，y軸是正確率')\n",
    "plt.plot(datatimes_acc_list, train_acc_list,'b-',  label = 'training accuracy')\n",
    "plt.plot(datatimes_acc_list2, train_acc_list2,'r-',  label = 'training accuracy with sgd')\n",
    "plt.plot(datatimes_acc_list, test_acc_list, label = 'validation accuracy')\n",
    "plt.plot(datatimes_acc_list2, test_acc_list2 , label = 'validation accuracy with sgd')\n",
    "plt.legend(bbox_to_anchor=(1.05, 1), loc=2, borderaxespad=0.)\n",
    "plt.show()"
   ]
  },
  {
   "cell_type": "markdown",
   "metadata": {},
   "source": [
    "## Exercise\n",
    "分別試著完成以下動作\n",
    "\n",
    "1. 試著加大epoch，觀察loss和acc的變化\n",
    "2. 試著改變batch size並比較執行結果與執行時間\n",
    "3. 試著透過切換立足點，目前範例是限制在看相同次數的情況下我們得到的結果，可以嘗試改變成限制在相同運行時間下，比較最後得到的acc和loss"
   ]
  }
 ],
 "metadata": {
  "anaconda-cloud": {},
  "kernelspec": {
   "display_name": "Python 3",
   "language": "python",
   "name": "python3"
  },
  "language_info": {
   "codemirror_mode": {
    "name": "ipython",
    "version": 3
   },
   "file_extension": ".py",
   "mimetype": "text/x-python",
   "name": "python",
   "nbconvert_exporter": "python",
   "pygments_lexer": "ipython3",
   "version": "3.6.3"
  }
 },
 "nbformat": 4,
 "nbformat_minor": 2
}
