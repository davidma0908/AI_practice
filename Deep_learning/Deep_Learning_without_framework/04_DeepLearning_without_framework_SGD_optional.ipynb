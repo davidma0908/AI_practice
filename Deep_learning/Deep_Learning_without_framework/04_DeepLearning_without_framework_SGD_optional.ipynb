{
 "cells": [
  {
   "cell_type": "code",
   "execution_count": 1,
   "metadata": {},
   "outputs": [],
   "source": [
    "import numpy as np\n",
    "import matplotlib.pyplot as plt\n",
    "from time import time"
   ]
  },
  {
   "cell_type": "markdown",
   "metadata": {},
   "source": [
    "# Stochastic gradient descent: Using linear regression as an example"
   ]
  },
  {
   "cell_type": "code",
   "execution_count": 2,
   "metadata": {},
   "outputs": [],
   "source": [
    "x_data = [338., 333., 328., 207., 226., 25., 179., 60., 208., 606.]\n",
    "y_data = [640., 633., 619., 393., 428., 27., 193., 66., 226., 1591.]\n",
    "#Our goal: y_data = b + w.x_data"
   ]
  },
  {
   "cell_type": "code",
   "execution_count": 3,
   "metadata": {},
   "outputs": [],
   "source": [
    "x = np.arange(-200, -100, 1) #bias\n",
    "y = np.arange(-5, 5, 0.1) #weights\n",
    "#len(x)=100, len(y)=100"
   ]
  },
  {
   "cell_type": "code",
   "execution_count": 4,
   "metadata": {},
   "outputs": [],
   "source": [
    "#Construct the error map\n",
    "Z = np.zeros((len(x), len(y)))\n",
    "X, Y = np.meshgrid(x, y)\n",
    "for i in range(len(x)):\n",
    "    for j in range(len(y)):\n",
    "        b = x[i]\n",
    "        w = y[j]\n",
    "        Z[j][i] = 0\n",
    "        for n in range(len(x_data)):\n",
    "            Z[j][i] += (y_data[n]- b- w*x_data[n])**2\n",
    "        Z[j][i] = Z[j][i]/len(x_data)    "
   ]
  },
  {
   "cell_type": "markdown",
   "metadata": {},
   "source": [
    "## i. Usual gradient descent"
   ]
  },
  {
   "cell_type": "code",
   "execution_count": 5,
   "metadata": {},
   "outputs": [],
   "source": [
    "b = -120 #initial b\n",
    "w = -4 #initial w\n",
    "#lr = 0.0000001 (too slow)\n",
    "lr = 1\n",
    "iteration = 700000\n",
    "timerange=0.2"
   ]
  },
  {
   "cell_type": "code",
   "execution_count": 6,
   "metadata": {},
   "outputs": [],
   "source": [
    "#Store initial values for plotting\n",
    "b_history = [b]\n",
    "w_history = [w]\n",
    "\n",
    "#Gradient descent is too slow; use Adagrad!!\n",
    "lr_b = 0.0\n",
    "lr_w = 0.0"
   ]
  },
  {
   "cell_type": "code",
   "execution_count": 7,
   "metadata": {},
   "outputs": [
    {
     "name": "stdout",
     "output_type": "stream",
     "text": [
      "總共跑了 10331 回，總共費時： 0.20005297660827637\n"
     ]
    }
   ],
   "source": [
    "#Iterations\n",
    "starttime=time()\n",
    "j=0\n",
    "for i in range(iteration):\n",
    "    b_grad = 0.0\n",
    "    w_grad = 0.0\n",
    "    for n in range(len(x_data)):\n",
    "        b_grad -= 2.0*(y_data[n]-b - w*x_data[n])*1.0\n",
    "        w_grad -= 2.0*(y_data[n]-b - w*x_data[n])*x_data[n]\n",
    "    #update lr\n",
    "    lr_b += b_grad**2\n",
    "    lr_w += w_grad**2\n",
    "    #update parameters\n",
    "    b -= lr/np.sqrt(lr_b)*b_grad\n",
    "    w -= lr/np.sqrt(lr_w)*w_grad\n",
    "    #store\n",
    "    b_history.append(b)\n",
    "    w_history.append(w)\n",
    "    j=j+1\n",
    "    if time()-starttime>timerange:\n",
    "        break\n",
    "timerange=time()-starttime        \n",
    "print('總共跑了',j,'回，總共費時：',timerange)  "
   ]
  },
  {
   "cell_type": "code",
   "execution_count": 8,
   "metadata": {},
   "outputs": [
    {
     "data": {
      "image/png": "[encoded data removed]",
      "text/plain": [
       "<matplotlib.figure.Figure at 0x7f7c42a125f8>"
      ]
     },
     "metadata": {},
     "output_type": "display_data"
    }
   ],
   "source": [
    "#plot the figure\n",
    "plt.contourf(x, y, Z, 50, alpha=0.5, cmap = plt.get_cmap('jet'))\n",
    "plt.plot([-188.4], [2.67], 'x', ms =12, markeredgewidth=3, color = 'orange')\n",
    "plt.plot(b_history, w_history, 'o-', ms =3, lw= 1.5, color = 'black')\n",
    "plt.xlim(-200,-100)\n",
    "plt.ylim(-5,5)\n",
    "plt.xlabel(r'$b$', fontsize = 16)\n",
    "plt.ylabel(r'$w$', fontsize = 16)\n",
    "plt.show()"
   ]
  },
  {
   "cell_type": "markdown",
   "metadata": {},
   "source": [
    "## ii. Stochastic gradient descent [batch size << len(x_data)]"
   ]
  },
  {
   "cell_type": "code",
   "execution_count": 9,
   "metadata": {},
   "outputs": [],
   "source": [
    "b = -120 #initial b\n",
    "w = -4 #initial w\n",
    "#lr = 0.0000001 (too slow)\n",
    "lr = 1\n",
    "iteration = 700000\n",
    "timerange=0.2"
   ]
  },
  {
   "cell_type": "code",
   "execution_count": 10,
   "metadata": {},
   "outputs": [],
   "source": [
    "#Store initial values for plotting\n",
    "b_history2 = [b]\n",
    "w_history2 = [w]\n",
    "\n",
    "#GD too slow; again use Adagrad!! \n",
    "lr_b = 0.0\n",
    "lr_w = 0.0"
   ]
  },
  {
   "cell_type": "code",
   "execution_count": 11,
   "metadata": {},
   "outputs": [
    {
     "name": "stdout",
     "output_type": "stream",
     "text": [
      "總共跑了 3946 回，總共費時： 0.2001028060913086\n"
     ]
    }
   ],
   "source": [
    "#Iterations; use extreme (crazy?) stochastic gradient descent, i.e., batch size=1!!\n",
    "starttime=time()\n",
    "j=0\n",
    "for i in range(iteration):\n",
    "    b_grad = 0.0\n",
    "    w_grad = 0.0\n",
    "    for n in range(len(x_data)):\n",
    "        b_grad = -2.0*(y_data[n]-b - w*x_data[n])*1.0\n",
    "        w_grad = -2.0*(y_data[n]-b - w*x_data[n])*x_data[n]\n",
    "        #update lr\n",
    "        lr_b += b_grad**2\n",
    "        lr_w += w_grad**2\n",
    "        #update parameters\n",
    "        b -= lr/np.sqrt(lr_b)*b_grad\n",
    "        w -= lr/np.sqrt(lr_w)*w_grad\n",
    "        \n",
    "    #store\n",
    "    b_history2.append(b)\n",
    "    w_history2.append(w)\n",
    "    j=j+1\n",
    "    if time()-starttime>timerange:\n",
    "        break\n",
    "timerange=time()-starttime        \n",
    "print('總共跑了',j,'回，總共費時：',timerange)  "
   ]
  },
  {
   "cell_type": "code",
   "execution_count": 12,
   "metadata": {},
   "outputs": [
    {
     "data": {
      "image/png": "[encoded data removed]",
      "text/plain": [
       "<matplotlib.figure.Figure at 0x7f7c408545f8>"
      ]
     },
     "metadata": {},
     "output_type": "display_data"
    }
   ],
   "source": [
    "#plot the figure\n",
    "plt.contourf(x, y, Z, 50, alpha=0.5, cmap = plt.get_cmap('jet'))\n",
    "plt.plot([-188.4], [2.67], 'x', ms =12, markeredgewidth=3, color = 'orange')\n",
    "plt.plot(b_history2, w_history2, 'o-', ms =3, lw= 1.5, color = 'black')\n",
    "plt.xlim(-200,-100)\n",
    "plt.ylim(-5,5)\n",
    "plt.xlabel(r'$b$', fontsize = 16)\n",
    "plt.ylabel(r'$w$', fontsize = 16)\n",
    "plt.show()"
   ]
  },
  {
   "cell_type": "code",
   "execution_count": null,
   "metadata": {},
   "outputs": [],
   "source": []
  }
 ],
 "metadata": {
  "kernelspec": {
   "display_name": "Python 3",
   "language": "python",
   "name": "python3"
  },
  "language_info": {
   "codemirror_mode": {
    "name": "ipython",
    "version": 3
   },
   "file_extension": ".py",
   "mimetype": "text/x-python",
   "name": "python",
   "nbconvert_exporter": "python",
   "pygments_lexer": "ipython3",
   "version": "3.6.3"
  }
 },
 "nbformat": 4,
 "nbformat_minor": 2
}
