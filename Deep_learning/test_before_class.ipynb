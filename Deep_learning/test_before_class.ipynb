{
 "cells": [
  {
   "cell_type": "markdown",
   "metadata": {},
   "source": [
    "# Here, we decide to learn tensorflow from a simple example directly!"
   ]
  },
  {
   "cell_type": "markdown",
   "metadata": {},
   "source": [
    "## General writing flow\n",
    "1. import required libraries\n",
    "2. load data and do some data pre-processing\n",
    "3. split your data into training and validation set\n",
    "4. build the network\n",
    "5. train the model and record/monitoring the performance"
   ]
  },
  {
   "cell_type": "markdown",
   "metadata": {},
   "source": [
    "## 1. Import required libries and set some parameters "
   ]
  },
  {
   "cell_type": "code",
   "execution_count": 1,
   "metadata": {},
   "outputs": [],
   "source": [
    "from sklearn.model_selection import train_test_split\n",
    "from sklearn.utils import shuffle\n",
    "import numpy as np\n",
    "import os\n",
    "\n",
    "from tqdm import tqdm\n",
    "import matplotlib.pyplot as plt"
   ]
  },
  {
   "cell_type": "code",
   "execution_count": 2,
   "metadata": {},
   "outputs": [
    {
     "data": {
      "text/plain": [
       "'或者你可以將以上參數換成下面的呈現方式'"
      ]
     },
     "execution_count": 2,
     "metadata": {},
     "output_type": "execute_result"
    }
   ],
   "source": [
    "'''設定參數'''\n",
    "batch_size =32\n",
    "epochs = 100\n",
    "lr = 0.001\n",
    "train_ratio= 0.9\n",
    "\n",
    "'''或者你可以將以上參數換成下面的呈現方式'''\n",
    "# import argparse\n",
    "# parser = argparse.ArgumentParser()\n",
    "# parser.add_argument('--batch_size', default = 32, type = int)\n",
    "# parser.add_argument('--epochs', default = 100, type = int)\n",
    "# parser.add_argument('--lr', default = 0.001, type = float)\n",
    "# parser.add_argument('--train_ratio', default = 0.9, type = float)\n",
    "# FLAGS = parser.parse_args([]) # if not jupyter notebook, remove []"
   ]
  },
  {
   "cell_type": "code",
   "execution_count": 3,
   "metadata": {},
   "outputs": [],
   "source": [
    "# You should always set visible devices before importing tensorflow\n",
    "#os.environ['CUDA_VISIBLE_DEVICES'] = str(FLAGS.gpu_id)\n",
    "import tensorflow as tf"
   ]
  },
  {
   "cell_type": "markdown",
   "metadata": {},
   "source": [
    "## 2. Load data and do some pre-processing\n",
    "We use MNIST HERE (with sklearn 8x8 version rather than use tensorflow 28x28 version)"
   ]
  },
  {
   "cell_type": "markdown",
   "metadata": {},
   "source": [
    "讓我們先來寫一個one hot encoding function"
   ]
  },
  {
   "cell_type": "code",
   "execution_count": 12,
   "metadata": {},
   "outputs": [],
   "source": [
    "def one_hot_target(y_, all_kind_target_list=None):\n",
    "    if  all_kind_target_list==None:\n",
    "        all_kind_target_list=np.unique(y_)\n",
    "    all_kind_target_number=len(all_kind_target_list)\n",
    "    y_one_hot = np.zeros((len(y_), all_kind_target_number))  \n",
    "    for i ,data_val in enumerate(y_):\n",
    "        yindex = all_kind_target_list.index(data_val)\n",
    "        y_one_hot[i, yindex] = 1\n",
    "    return y_one_hot, all_kind_target_list"
   ]
  },
  {
   "cell_type": "markdown",
   "metadata": {},
   "source": [
    "# 我們只在這裡修改x,y和所有可能的y值的list(targetlist)!!\n",
    "## 請嘗試各種資料集做測試!!"
   ]
  },
  {
   "cell_type": "code",
   "execution_count": 14,
   "metadata": {},
   "outputs": [],
   "source": [
    "from sklearn import datasets\n",
    "# -----------------------------load data----------------------------------------\n",
    "#只改這邊\n",
    "iris = datasets.load_iris()\n",
    "x_, y_ =iris.data, iris.target\n",
    "targetlist=range(3) #比如手寫數字辨識就是[0,1,2,3,4,5,6,7,8,9]，iris只有三個類別[0,1,2]\n",
    "#到這邊你已經改完拉\n",
    "# -----------------------do data pre-processing--------------------------------- \n",
    "#---------one way of normalization--------\n",
    "# x_ = x_ / x_.max() \n"
   ]
  },
  {
   "cell_type": "code",
   "execution_count": null,
   "metadata": {},
   "outputs": [],
   "source": [
    "#---------將資料做One-Hot Encoding--------- \n",
    "def one_hot_target(y_, all_kind_target_list=None):\n",
    "    if  all_kind_target_list==None:\n",
    "        all_kind_target_list=np.unique(y_)\n",
    "    all_kind_target_number=len(all_kind_target_list)\n",
    "    y_one_hot = np.zeros((len(y_), all_kind_target_number))  \n",
    "    for i ,data_val in enumerate(y_):\n",
    "        yindex = all_kind_target_list.index(data_val)\n",
    "        y_one_hot[i, yindex] = 1\n",
    "    return y_one_hot, all_kind_target_list\n",
    "\n",
    "y_one_hot,targetlist=one_hot_target(y_, all_kind_target_list=targetlist)"
   ]
  },
  {
   "cell_type": "markdown",
   "metadata": {},
   "source": [
    "## 3. Split your data into training and validation sets"
   ]
  },
  {
   "cell_type": "code",
   "execution_count": 8,
   "metadata": {},
   "outputs": [
    {
     "name": "stdout",
     "output_type": "stream",
     "text": [
      "training set data dimension\n",
      "(127, 4)\n",
      "(127, 3)\n",
      "-----------\n",
      "training set: 127\n",
      "validation set: 15\n",
      "testing set: 8\n"
     ]
    }
   ],
   "source": [
    "#----------------------------資料training set, testing set 分割---------------------------------------\n",
    "x_train, x_test, y_train, y_test = train_test_split(x_, \n",
    "                                                    y_one_hot, \n",
    "                                                    test_size = 0.05, \n",
    "                                                    stratify  = y_)\n",
    "#資料training set, validation set 分割\n",
    "x_train, x_valid, y_train, y_valid = train_test_split(x_train, \n",
    "                                                      y_train, \n",
    "                                                      test_size = 1.0 - train_ratio,\n",
    "                                                      stratify = y_train.argmax(axis = 1))\n",
    "#------------------------------------檢查資料---------------------------------------------------------\n",
    "print(\"training set data dimension\")\n",
    "print(x_train.shape)\n",
    "print(y_train.shape)\n",
    "print(\"-----------\")\n",
    "print(\"training set: %i\" % len(x_train))\n",
    "print(\"validation set: %i\" % len(x_valid))\n",
    "print(\"testing set: %i\" % len(x_test))"
   ]
  },
  {
   "cell_type": "markdown",
   "metadata": {},
   "source": [
    "## 4. build graph"
   ]
  },
  {
   "cell_type": "code",
   "execution_count": 15,
   "metadata": {},
   "outputs": [],
   "source": [
    "# ------------------------------------graph-----------------------------------------\n",
    "tf.reset_default_graph() # clean graph\n",
    "# Declare the input node\n",
    "with tf.name_scope('input'):\n",
    "    x_input = tf.placeholder(shape = (None,x_train.shape[1]), \n",
    "                             name = 'x_input',\n",
    "                             dtype=tf.float32)\n",
    "    y_out = tf.placeholder(shape = (None, y_train.shape[1]), \n",
    "                           name = 'y_label',\n",
    "                           dtype=tf.float32)\n",
    "\n",
    "# --------------------Declare the network structure----------------------------\n",
    "\n",
    "with tf.variable_scope('hidden_layer'):\n",
    "    x_h1 = tf.layers.dense(inputs= x_input, units= 25, activation=tf.nn.sigmoid)\n",
    "\n",
    "\n",
    "with tf.variable_scope('output_layer'):\n",
    "    output = tf.layers.dense(x_h1, len(targetlist))\n",
    "'''---------------------------------------------------------------------------'''\n",
    "with tf.name_scope('predict_ans'):\n",
    "    predict_ans=tf.argmax(tf.nn.softmax(output),1)\n",
    "with tf.name_scope('cross_entropy'):\n",
    "    loss = tf.reduce_mean(tf.nn.softmax_cross_entropy_with_logits(logits=output, labels=y_out))\n",
    "    \n",
    "with tf.name_scope('accuracy'):\n",
    "    correct_prediction = tf.equal(tf.argmax(tf.nn.softmax(output),1), tf.argmax(y_out,1))\n",
    "    compute_acc = tf.reduce_mean(tf.cast(correct_prediction, tf.float32))\n",
    "\n",
    "with tf.name_scope('train'):\n",
    "    train_step = tf.train.AdamOptimizer(learning_rate=lr).minimize(loss)"
   ]
  },
  {
   "cell_type": "markdown",
   "metadata": {},
   "source": [
    "## 5b. Train the model and collect the performance"
   ]
  },
  {
   "cell_type": "code",
   "execution_count": 16,
   "metadata": {},
   "outputs": [
    {
     "name": "stderr",
     "output_type": "stream",
     "text": [
      "100%|██████████| 100/100 [00:00<00:00, 116.36it/s]\n"
     ]
    },
    {
     "name": "stdout",
     "output_type": "stream",
     "text": [
      "--- training done ---\n",
      "testing accuracy: 0.88\n"
     ]
    },
    {
     "data": {
      "image/png": "[encoded data removed]",
      "text/plain": [
       "<matplotlib.figure.Figure at 0x7fccfb1fbcf8>"
      ]
     },
     "metadata": {},
     "output_type": "display_data"
    },
    {
     "data": {
      "image/png": "[encoded data removed]",
      "text/plain": [
       "<matplotlib.figure.Figure at 0x7fcc80250048>"
      ]
     },
     "metadata": {},
     "output_type": "display_data"
    }
   ],
   "source": [
    "train_loss_list, valid_loss_list = [], []\n",
    "train_acc_list, valid_acc_list = [], []\n",
    "#--------------------------------------sess--------------------------------------------\n",
    "sess = tf.InteractiveSession()\n",
    "# we have to initalize all variables (e.g. weights/biases) at the begin\n",
    "sess.run([tf.global_variables_initializer()])\n",
    "\n",
    "for i in tqdm(range(epochs)):\n",
    "    # get batch \n",
    "    total_batch = int(np.floor(len(x_train) / batch_size)) # just drop out last few samples...\n",
    "\n",
    "    train_loss_collector, train_acc_collector = [], []\n",
    "    for j in np.arange(total_batch):\n",
    "        batch_idx_start = j * batch_size\n",
    "        batch_idx_stop = (j+1) * batch_size\n",
    "\n",
    "        x_batch = x_train[batch_idx_start : batch_idx_stop]\n",
    "        y_batch = y_train[batch_idx_start : batch_idx_stop]\n",
    "\n",
    "        this_loss, this_acc, _ = sess.run([loss, compute_acc,train_step],\n",
    "                                feed_dict = {x_input: x_batch,\n",
    "                                             y_out: y_batch})\n",
    "        train_loss_collector.append(this_loss)\n",
    "        train_acc_collector.append(this_acc)\n",
    "\n",
    "    # do validation at the end of each epoch\n",
    "    valid_acc, valid_loss = sess.run([compute_acc, loss],\n",
    "                                     feed_dict = {x_input: x_valid,\n",
    "                                                  y_out : y_valid})\n",
    "    valid_loss_list.append(valid_loss)\n",
    "    valid_acc_list.append(valid_acc)\n",
    "    train_loss_list.append(np.mean(train_loss_collector))\n",
    "    train_acc_list.append(np.mean(train_acc_collector))\n",
    "\n",
    "    # at the end of each epoch, shuffle the data\n",
    "    x_train, y_train = shuffle(x_train, y_train)\n",
    "# At the end of the training, do testing set\n",
    "test_acc, test_loss = sess.run([compute_acc, loss],\n",
    "                                feed_dict = {x_input: x_test,\n",
    "                                             y_out : y_test})\n",
    "print('--- training done ---')\n",
    "print('testing accuracy: %.2f' % test_acc)\n",
    "#--------------------------------------plot---------------------------------------------\n",
    "plt.plot(np.arange(len(train_loss_list)), train_loss_list, 'b', label = 'train')\n",
    "plt.plot(np.arange(len(valid_loss_list)), valid_loss_list, 'r', label = 'valid')\n",
    "plt.legend()\n",
    "plt.show()\n",
    "\n",
    "plt.plot(np.arange(len(train_acc_list)), train_acc_list, 'b', label = 'train')\n",
    "plt.plot(np.arange(len(valid_acc_list)), valid_acc_list, 'r', label = 'valid')\n",
    "plt.legend(loc = 4)\n",
    "plt.show()"
   ]
  },
  {
   "cell_type": "code",
   "execution_count": 17,
   "metadata": {},
   "outputs": [],
   "source": [
    "def predict(x):\n",
    "    if np.ndim(x)==1:\n",
    "        x=x.reshape([1,-1])\n",
    "#     with tf.Session() as sess:\n",
    "        # we have to initalize all variables (e.g. weights/biases) at the begin\n",
    "#         sess.run([tf.global_variables_initializer()])\n",
    "    \n",
    "    \n",
    "    return sess.run(predict_ans,feed_dict = {x_input:x})"
   ]
  },
  {
   "cell_type": "code",
   "execution_count": null,
   "metadata": {},
   "outputs": [],
   "source": [
    "import random"
   ]
  },
  {
   "cell_type": "code",
   "execution_count": 65,
   "metadata": {},
   "outputs": [
    {
     "name": "stdout",
     "output_type": "stream",
     "text": [
      "for the example 127 , prediction is [2] , and answer is 2\n"
     ]
    }
   ],
   "source": [
    "i=random.randint(0,len(y_))\n",
    "\n",
    "print('for the example',i,', prediction is',predict(x_[i]),', and answer is',y_[i])\n"
   ]
  },
  {
   "cell_type": "code",
   "execution_count": null,
   "metadata": {},
   "outputs": [],
   "source": []
  }
 ],
 "metadata": {
  "anaconda-cloud": {},
  "kernelspec": {
   "display_name": "Python 3",
   "language": "python",
   "name": "python3"
  },
  "language_info": {
   "codemirror_mode": {
    "name": "ipython",
    "version": 3
   },
   "file_extension": ".py",
   "mimetype": "text/x-python",
   "name": "python",
   "nbconvert_exporter": "python",
   "pygments_lexer": "ipython3",
   "version": "3.6.3"
  }
 },
 "nbformat": 4,
 "nbformat_minor": 2
}
