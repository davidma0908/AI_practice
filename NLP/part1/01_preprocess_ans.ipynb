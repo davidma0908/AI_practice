{
 "cells": [
  {
   "cell_type": "markdown",
   "metadata": {},
   "source": [
    "# data preprocess and words cut"
   ]
  },
  {
   "cell_type": "code",
   "execution_count": 1,
   "metadata": {},
   "outputs": [],
   "source": [
    "import pandas as pd\n",
    "import re\n",
    "import os\n",
    "import jieba\n",
    "import jieba.posseg as pseg\n",
    "import pickle\n",
    "import numpy as np"
   ]
  },
  {
   "cell_type": "code",
   "execution_count": 2,
   "metadata": {},
   "outputs": [
    {
     "data": {
      "text/plain": [
       "'/home/kyoyachuan/class_text_mining'"
      ]
     },
     "execution_count": 2,
     "metadata": {},
     "output_type": "execute_result"
    }
   ],
   "source": [
    "## turn back to main directory\n",
    "os.chdir(\"../\")\n",
    "os.getcwd()"
   ]
  },
  {
   "cell_type": "markdown",
   "metadata": {},
   "source": [
    "## data overview"
   ]
  },
  {
   "cell_type": "code",
   "execution_count": 2,
   "metadata": {},
   "outputs": [],
   "source": [
    "article = pd.read_csv('data/article_practice.csv')"
   ]
  },
  {
   "cell_type": "code",
   "execution_count": 3,
   "metadata": {},
   "outputs": [
    {
     "data": {
      "text/html": [
       "<div>\n",
       "<style scoped>\n",
       "    .dataframe tbody tr th:only-of-type {\n",
       "        vertical-align: middle;\n",
       "    }\n",
       "\n",
       "    .dataframe tbody tr th {\n",
       "        vertical-align: top;\n",
       "    }\n",
       "\n",
       "    .dataframe thead th {\n",
       "        text-align: right;\n",
       "    }\n",
       "</style>\n",
       "<table border=\"1\" class=\"dataframe\">\n",
       "  <thead>\n",
       "    <tr style=\"text-align: right;\">\n",
       "      <th></th>\n",
       "      <th>id</th>\n",
       "      <th>title</th>\n",
       "      <th>content</th>\n",
       "      <th>date</th>\n",
       "      <th>push</th>\n",
       "      <th>boo</th>\n",
       "    </tr>\n",
       "  </thead>\n",
       "  <tbody>\n",
       "    <tr>\n",
       "      <th>0</th>\n",
       "      <td>M.1502380736.A.AC4</td>\n",
       "      <td>[問卦] 韓瑜 跟 周子瑜 怎麼選?</td>\n",
       "      <td>韓瑜是協志的前妻 也是很正的女演員 周子瑜是TWICE團裡裡面的台灣人 也是很正 這兩個要當...</td>\n",
       "      <td>Thu Aug 10 23:58:53 2017</td>\n",
       "      <td>4</td>\n",
       "      <td>4</td>\n",
       "    </tr>\n",
       "    <tr>\n",
       "      <th>1</th>\n",
       "      <td>M.1502380714.A.3B4</td>\n",
       "      <td>[問卦] 逢甲碟仙說兩岸統一到底是真是假！？</td>\n",
       "      <td>dear all 逢甲碟仙發生在民國七十五年三月中的事情， 一堆大學生玩碟仙然後發bbs 成...</td>\n",
       "      <td>Thu Aug 10 23:58:30 2017</td>\n",
       "      <td>14</td>\n",
       "      <td>3</td>\n",
       "    </tr>\n",
       "    <tr>\n",
       "      <th>2</th>\n",
       "      <td>M.1502380707.A.6A6</td>\n",
       "      <td>[問卦] 風雲起山河動</td>\n",
       "      <td>晚上好啊 各位 預備唱 風雲起 山河動 為什麼國軍早上都要唱這個啊 有沒有相關的八卦？？ S...</td>\n",
       "      <td>Thu Aug 10 23:58:22 2017</td>\n",
       "      <td>13</td>\n",
       "      <td>0</td>\n",
       "    </tr>\n",
       "    <tr>\n",
       "      <th>3</th>\n",
       "      <td>M.1502380681.A.18F</td>\n",
       "      <td>[問卦] 男朋友不睡覺怎麼辦</td>\n",
       "      <td>明天要早起 可是他不睡覺 在旁邊看Youtube這樣眼睛會壞掉 有沒有方法可以讓他早點睡 掛...</td>\n",
       "      <td>Thu Aug 10 23:57:58 2017</td>\n",
       "      <td>1</td>\n",
       "      <td>4</td>\n",
       "    </tr>\n",
       "    <tr>\n",
       "      <th>4</th>\n",
       "      <td>M.1502380627.A.383</td>\n",
       "      <td>[問卦] 英雄聯盟是不是已經漸漸過氣了?</td>\n",
       "      <td>一段時間沒在注意LOL了 結果發現各大LOL討論區人數有在明顯下降的趨勢 這實在令人滿驚訝的...</td>\n",
       "      <td>Thu Aug 10 23:57:04 2017</td>\n",
       "      <td>10</td>\n",
       "      <td>1</td>\n",
       "    </tr>\n",
       "  </tbody>\n",
       "</table>\n",
       "</div>"
      ],
      "text/plain": [
       "                   id                   title  \\\n",
       "0  M.1502380736.A.AC4      [問卦] 韓瑜 跟 周子瑜 怎麼選?   \n",
       "1  M.1502380714.A.3B4  [問卦] 逢甲碟仙說兩岸統一到底是真是假！？   \n",
       "2  M.1502380707.A.6A6             [問卦] 風雲起山河動   \n",
       "3  M.1502380681.A.18F          [問卦] 男朋友不睡覺怎麼辦   \n",
       "4  M.1502380627.A.383    [問卦] 英雄聯盟是不是已經漸漸過氣了?   \n",
       "\n",
       "                                             content  \\\n",
       "0  韓瑜是協志的前妻 也是很正的女演員 周子瑜是TWICE團裡裡面的台灣人 也是很正 這兩個要當...   \n",
       "1  dear all 逢甲碟仙發生在民國七十五年三月中的事情， 一堆大學生玩碟仙然後發bbs 成...   \n",
       "2  晚上好啊 各位 預備唱 風雲起 山河動 為什麼國軍早上都要唱這個啊 有沒有相關的八卦？？ S...   \n",
       "3  明天要早起 可是他不睡覺 在旁邊看Youtube這樣眼睛會壞掉 有沒有方法可以讓他早點睡 掛...   \n",
       "4  一段時間沒在注意LOL了 結果發現各大LOL討論區人數有在明顯下降的趨勢 這實在令人滿驚訝的...   \n",
       "\n",
       "                       date  push  boo  \n",
       "0  Thu Aug 10 23:58:53 2017     4    4  \n",
       "1  Thu Aug 10 23:58:30 2017    14    3  \n",
       "2  Thu Aug 10 23:58:22 2017    13    0  \n",
       "3  Thu Aug 10 23:57:58 2017     1    4  \n",
       "4  Thu Aug 10 23:57:04 2017    10    1  "
      ]
     },
     "execution_count": 3,
     "metadata": {},
     "output_type": "execute_result"
    }
   ],
   "source": [
    "article.head()"
   ]
  },
  {
   "cell_type": "code",
   "execution_count": 4,
   "metadata": {},
   "outputs": [],
   "source": [
    "## filter rules\n",
    "article['content'] = article['content'].str.replace('https?:\\/\\/\\S*', '')\n",
    "article['content'] = article['content'].replace('', np.nan)"
   ]
  },
  {
   "cell_type": "code",
   "execution_count": 5,
   "metadata": {},
   "outputs": [],
   "source": [
    "## remove data\n",
    "article = article.dropna()\n",
    "article = article.reset_index(drop=True)\n",
    "article['idx'] = article.index"
   ]
  },
  {
   "cell_type": "code",
   "execution_count": 6,
   "metadata": {},
   "outputs": [],
   "source": [
    "article.to_csv('data/article_preprocessed.csv', index=False)"
   ]
  },
  {
   "cell_type": "markdown",
   "metadata": {},
   "source": [
    "# jieba"
   ]
  },
  {
   "cell_type": "markdown",
   "metadata": {},
   "source": [
    "## cut word"
   ]
  },
  {
   "cell_type": "code",
   "execution_count": 7,
   "metadata": {},
   "outputs": [],
   "source": [
    "## set dictionary (can define yourself)\n",
    "jieba.set_dictionary('jieba/dict.txt.big')\n",
    "stop_words = open('jieba/stop_words.txt').read().splitlines()"
   ]
  },
  {
   "cell_type": "code",
   "execution_count": 8,
   "metadata": {},
   "outputs": [
    {
     "name": "stdout",
     "output_type": "stream",
     "text": [
      "['\\ufeff,', '?', '、', '。', '“']\n"
     ]
    }
   ],
   "source": [
    "print(stop_words[:5])"
   ]
  },
  {
   "cell_type": "code",
   "execution_count": 9,
   "metadata": {},
   "outputs": [],
   "source": [
    "data = pd.read_csv('data/article_preprocessed.csv')\n",
    "data = data['content'].tolist()"
   ]
  },
  {
   "cell_type": "code",
   "execution_count": 12,
   "metadata": {},
   "outputs": [
    {
     "name": "stdout",
     "output_type": "stream",
     "text": [
      "['韓瑜是協志的前妻 也是很正的女演員 周子瑜是TWICE團裡裡面的台灣人 也是很正 這兩個要當鄉民的老婆，你要怎麼選呢?? 五樓你真有勇氣', 'dear all 逢甲碟仙發生在民國七十五年三月中的事情， 一堆大學生玩碟仙然後發bbs 成功預測921大地震，小弟預言都還沒出生呢。 後面說預言一百一十六年兩岸統一， 是我們統一對岸，還是對岸統一我們...... 應該是不用猜了。 只是真的存在預言這種事情嗎？ 倒底會不會在116被統？ 我知道資料庫發文日期可以被輕鬆改變， 沒有拍照的狀況下...... 碟仙到底是真的假的？ 到底有沒有科學或是經驗法則來破解， 這到底是謠言還是真實的八卦？ ', '晚上好啊 各位 預備唱 風雲起 山河動 為什麼國軍早上都要唱這個啊 有沒有相關的八卦？？ Sent from JPTT on my Xiaomi Redmi Note 4. ', '明天要早起 可是他不睡覺 在旁邊看Youtube這樣眼睛會壞掉 有沒有方法可以讓他早點睡 掛？ Sent from JPTT on my HTC_D10i. ', '一段時間沒在注意LOL了 結果發現各大LOL討論區人數有在明顯下降的趨勢 這實在令人滿驚訝的 曾經一時的遊戲霸主 難道也要漸漸過氣了嗎 不過LOL確實也撐很久了 能到現在也算厲害了 只是遊戲玩久了還是會膩吧? ']\n"
     ]
    }
   ],
   "source": [
    "print(data[:5])"
   ]
  },
  {
   "cell_type": "code",
   "execution_count": 27,
   "metadata": {},
   "outputs": [
    {
     "name": "stdout",
     "output_type": "stream",
     "text": [
      "0 / 252229\n",
      "10000 / 252229\n",
      "20000 / 252229\n",
      "30000 / 252229\n",
      "40000 / 252229\n",
      "50000 / 252229\n",
      "60000 / 252229\n",
      "70000 / 252229\n",
      "80000 / 252229\n",
      "90000 / 252229\n",
      "100000 / 252229\n",
      "110000 / 252229\n",
      "120000 / 252229\n",
      "130000 / 252229\n",
      "140000 / 252229\n",
      "150000 / 252229\n",
      "160000 / 252229\n",
      "170000 / 252229\n",
      "180000 / 252229\n",
      "190000 / 252229\n",
      "200000 / 252229\n",
      "210000 / 252229\n",
      "220000 / 252229\n",
      "230000 / 252229\n",
      "240000 / 252229\n",
      "250000 / 252229\n"
     ]
    }
   ],
   "source": [
    "sentences = []\n",
    "\n",
    "for i, text in enumerate(data):\n",
    "    line = []\n",
    "\n",
    "    for w in jieba.cut(text, cut_all=False):\n",
    "        \n",
    "        ## remove stopwords and digits\n",
    "        ## can define your own rules\n",
    "        if w not in stop_words and not bool(re.match('[0-9]+', w)):\n",
    "            line.append(w)\n",
    "\n",
    "    sentences.append(line)\n",
    "\n",
    "    if i%10000==0:\n",
    "        print(i, '/', len(data))"
   ]
  },
  {
   "cell_type": "code",
   "execution_count": 28,
   "metadata": {},
   "outputs": [
    {
     "name": "stdout",
     "output_type": "stream",
     "text": [
      "[['韓瑜', '協志', '前妻', '正', '女演員', '周子', '瑜', 'TWICE', '團裡裡面', '台灣', '人', '正', '兩個', '要當', '鄉民', '老婆', '選', '五樓', '真', '勇氣'], ['dear', 'all', '逢甲', '碟仙', '發生', '民國', '七十五年', '三月中', '事情', '一堆', '大學生', '玩', '碟仙', '後發', 'bbs', '成功', '預測', '地震', '小弟', '預言', '都還沒', '出生', '後面', '說', '預言', '一百', '一十六年', '兩岸', '統一', '統一', '對岸', '對岸', '統一', '應該', '不用', '猜', '真的', '存在', '預言', '這種', '事情', '倒底', '被統', '知道', '資料庫', '發文', '日期', '輕鬆', '改變', '拍照', '狀況', '下', '碟仙', '真的假', '有沒有', '科學', '經驗', '法則', '破解', '謠言', '真實', '八卦'], ['晚上', '好', '預備', '唱', '風雲', '山河', '動', '國軍', '早上', '唱', '有沒有', '相關', '八卦', 'Sent', 'from', 'JPTT', 'on', 'my', 'Xiaomi', 'Redmi', 'Note'], ['明天', '早起', '睡覺', '旁邊', 'Youtube', '眼睛', '壞掉', '有沒有', '方法', '早點', '睡', '掛', 'Sent', 'from', 'JPTT', 'on', 'my', 'HTC', 'D10i'], ['一段時間', '注意', 'LOL', '發現', '各大', 'LOL', '討論區', '人數', '明顯', '下降', '趨勢', '實在', '令人', '驚訝', '曾經', '一時', '遊戲', '霸主', '漸漸', '過氣', 'LOL', '確實', '撐', '久', '現在', '算', '厲害', '遊戲', '玩久', '會膩']]\n"
     ]
    }
   ],
   "source": [
    "print(sentences[0:5])"
   ]
  },
  {
   "cell_type": "code",
   "execution_count": 29,
   "metadata": {
    "scrolled": true
   },
   "outputs": [],
   "source": [
    "## save data as pickle format\n",
    "with open(\"article_cutted\", \"wb\") as file:\n",
    "    pickle.dump(sentences, file)"
   ]
  },
  {
   "cell_type": "markdown",
   "metadata": {},
   "source": [
    "## posseg (詞性)"
   ]
  },
  {
   "cell_type": "code",
   "execution_count": 30,
   "metadata": {},
   "outputs": [],
   "source": [
    "import jieba.posseg as pseg"
   ]
  },
  {
   "cell_type": "code",
   "execution_count": 31,
   "metadata": {
    "scrolled": true
   },
   "outputs": [
    {
     "name": "stdout",
     "output_type": "stream",
     "text": [
      "韓瑜   nr\n",
      "是   v\n",
      "協志   n\n",
      "的   uj\n",
      "前妻   n\n",
      "    x\n",
      "也   d\n",
      "是   v\n",
      "很正   a\n",
      "的   uj\n",
      "女演員   x\n",
      "    x\n",
      "周子瑜   nr\n",
      "是   v\n",
      "TWICE   eng\n",
      "團裡   q\n",
      "裡面   f\n",
      "的   uj\n",
      "台灣   ns\n",
      "人   n\n",
      "    x\n",
      "也   d\n",
      "是   v\n",
      "很正   d\n",
      "    x\n",
      "這   zg\n",
      "兩個   x\n",
      "要   v\n",
      "當   p\n",
      "鄉民   x\n",
      "的   uj\n",
      "老婆   n\n",
      "，   x\n",
      "你   r\n",
      "要   v\n",
      "怎麼   x\n",
      "選   v\n",
      "呢   y\n",
      "?   x\n",
      "?   x\n",
      "    x\n",
      "五   m\n",
      "樓   n\n",
      "你   r\n",
      "真   d\n",
      "有   v\n",
      "勇氣   x\n"
     ]
    }
   ],
   "source": [
    "for w, f in pseg.cut(data[0]):\n",
    "    print(w, ' ', f)"
   ]
  },
  {
   "cell_type": "code",
   "execution_count": null,
   "metadata": {},
   "outputs": [],
   "source": []
  }
 ],
 "metadata": {
  "kernelspec": {
   "display_name": "Python 3",
   "language": "python",
   "name": "python3"
  },
  "language_info": {
   "codemirror_mode": {
    "name": "ipython",
    "version": 3
   },
   "file_extension": ".py",
   "mimetype": "text/x-python",
   "name": "python",
   "nbconvert_exporter": "python",
   "pygments_lexer": "ipython3",
   "version": "3.5.2"
  }
 },
 "nbformat": 4,
 "nbformat_minor": 2
}
