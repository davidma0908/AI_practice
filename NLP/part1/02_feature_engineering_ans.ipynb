{
 "cells": [
  {
   "cell_type": "markdown",
   "metadata": {},
   "source": [
    "# text's feature engineering: turn unstructure to  structure"
   ]
  },
  {
   "cell_type": "code",
   "execution_count": 1,
   "metadata": {},
   "outputs": [
    {
     "data": {
      "text/plain": [
       "'/home/kyoyachuan/class_text_mining'"
      ]
     },
     "execution_count": 1,
     "metadata": {},
     "output_type": "execute_result"
    }
   ],
   "source": [
    "import re\n",
    "import pandas as pd\n",
    "import numpy as np\n",
    "import pickle\n",
    "import os\n",
    "\n",
    "## turn back to main directory\n",
    "os.chdir(\"../\")\n",
    "os.getcwd()"
   ]
  },
  {
   "cell_type": "code",
   "execution_count": 2,
   "metadata": {},
   "outputs": [],
   "source": [
    "df = pd.read_csv('data/article_preprocessed.csv')"
   ]
  },
  {
   "cell_type": "code",
   "execution_count": 74,
   "metadata": {},
   "outputs": [],
   "source": [
    "## load 'article_cutted'\n",
    "with open(\"article_cutted\", \"rb\") as file:\n",
    "    sentences = pickle.load(file)"
   ]
  },
  {
   "cell_type": "markdown",
   "metadata": {},
   "source": [
    "## define y (push > boo)"
   ]
  },
  {
   "cell_type": "code",
   "execution_count": 4,
   "metadata": {},
   "outputs": [],
   "source": [
    "## drop data\n",
    "diff_threshold = 20\n",
    "df = df[abs(df['push']-df['boo']) > diff_threshold].copy()"
   ]
  },
  {
   "cell_type": "code",
   "execution_count": 5,
   "metadata": {},
   "outputs": [],
   "source": [
    "## define y\n",
    "df['type'] = np.clip(df['push']-df['boo'], 0, 1)\n",
    "df = df.reset_index(drop=True)"
   ]
  },
  {
   "cell_type": "code",
   "execution_count": 6,
   "metadata": {},
   "outputs": [
    {
     "data": {
      "text/plain": [
       "1    17318\n",
       "0     1134\n",
       "Name: type, dtype: int64"
      ]
     },
     "execution_count": 6,
     "metadata": {},
     "output_type": "execute_result"
    }
   ],
   "source": [
    "df['type'].value_counts()"
   ]
  },
  {
   "cell_type": "markdown",
   "metadata": {},
   "source": [
    "## simple feature"
   ]
  },
  {
   "cell_type": "code",
   "execution_count": 7,
   "metadata": {},
   "outputs": [],
   "source": [
    "## word count\n",
    "## http://blog.csdn.net/gatieme/article/details/43235791 (中文正則表達式)\n",
    "df['word_count'] = df['content'].str.count('[a-zA-Z0-9]+') + df['content'].str.count('[\\u4e00-\\u9fff]')"
   ]
  },
  {
   "cell_type": "code",
   "execution_count": 8,
   "metadata": {},
   "outputs": [],
   "source": [
    "## punctuation count\n",
    "df['punctuation'] = df['content'].str.replace('[\\w\\s]', '')\n",
    "df['punctuation_count'] = df['punctuation'].str.len()"
   ]
  },
  {
   "cell_type": "code",
   "execution_count": 9,
   "metadata": {},
   "outputs": [],
   "source": [
    "## question mark count\n",
    "df['question_count'] = df['punctuation'].str.count('[?？]')"
   ]
  },
  {
   "cell_type": "code",
   "execution_count": 10,
   "metadata": {},
   "outputs": [],
   "source": [
    "## drop punctuation column\n",
    "df = df.drop(['punctuation'],axis=1)"
   ]
  },
  {
   "cell_type": "code",
   "execution_count": 11,
   "metadata": {},
   "outputs": [
    {
     "data": {
      "text/html": [
       "<div>\n",
       "<style scoped>\n",
       "    .dataframe tbody tr th:only-of-type {\n",
       "        vertical-align: middle;\n",
       "    }\n",
       "\n",
       "    .dataframe tbody tr th {\n",
       "        vertical-align: top;\n",
       "    }\n",
       "\n",
       "    .dataframe thead th {\n",
       "        text-align: right;\n",
       "    }\n",
       "</style>\n",
       "<table border=\"1\" class=\"dataframe\">\n",
       "  <thead>\n",
       "    <tr style=\"text-align: right;\">\n",
       "      <th></th>\n",
       "      <th>type</th>\n",
       "      <th>word_count</th>\n",
       "      <th>punctuation_count</th>\n",
       "      <th>question_count</th>\n",
       "    </tr>\n",
       "  </thead>\n",
       "  <tbody>\n",
       "    <tr>\n",
       "      <th>0</th>\n",
       "      <td>1</td>\n",
       "      <td>175</td>\n",
       "      <td>0</td>\n",
       "      <td>0</td>\n",
       "    </tr>\n",
       "    <tr>\n",
       "      <th>1</th>\n",
       "      <td>1</td>\n",
       "      <td>145</td>\n",
       "      <td>4</td>\n",
       "      <td>1</td>\n",
       "    </tr>\n",
       "    <tr>\n",
       "      <th>2</th>\n",
       "      <td>1</td>\n",
       "      <td>393</td>\n",
       "      <td>17</td>\n",
       "      <td>8</td>\n",
       "    </tr>\n",
       "    <tr>\n",
       "      <th>3</th>\n",
       "      <td>1</td>\n",
       "      <td>295</td>\n",
       "      <td>15</td>\n",
       "      <td>6</td>\n",
       "    </tr>\n",
       "    <tr>\n",
       "      <th>4</th>\n",
       "      <td>1</td>\n",
       "      <td>41</td>\n",
       "      <td>4</td>\n",
       "      <td>0</td>\n",
       "    </tr>\n",
       "  </tbody>\n",
       "</table>\n",
       "</div>"
      ],
      "text/plain": [
       "   type  word_count  punctuation_count  question_count\n",
       "0     1         175                  0               0\n",
       "1     1         145                  4               1\n",
       "2     1         393                 17               8\n",
       "3     1         295                 15               6\n",
       "4     1          41                  4               0"
      ]
     },
     "execution_count": 11,
     "metadata": {},
     "output_type": "execute_result"
    }
   ],
   "source": [
    "df.iloc[:5, -4:]"
   ]
  },
  {
   "cell_type": "code",
   "execution_count": 12,
   "metadata": {},
   "outputs": [
    {
     "data": {
      "text/html": [
       "<div>\n",
       "<style scoped>\n",
       "    .dataframe tbody tr th:only-of-type {\n",
       "        vertical-align: middle;\n",
       "    }\n",
       "\n",
       "    .dataframe tbody tr th {\n",
       "        vertical-align: top;\n",
       "    }\n",
       "\n",
       "    .dataframe thead th {\n",
       "        text-align: right;\n",
       "    }\n",
       "</style>\n",
       "<table border=\"1\" class=\"dataframe\">\n",
       "  <thead>\n",
       "    <tr style=\"text-align: right;\">\n",
       "      <th></th>\n",
       "      <th>type</th>\n",
       "      <th>word_count</th>\n",
       "      <th>punctuation_count</th>\n",
       "      <th>question_count</th>\n",
       "    </tr>\n",
       "  </thead>\n",
       "  <tbody>\n",
       "    <tr>\n",
       "      <th>type</th>\n",
       "      <td>1.000000</td>\n",
       "      <td>-0.045100</td>\n",
       "      <td>-0.024124</td>\n",
       "      <td>-0.056966</td>\n",
       "    </tr>\n",
       "    <tr>\n",
       "      <th>word_count</th>\n",
       "      <td>-0.045100</td>\n",
       "      <td>1.000000</td>\n",
       "      <td>0.738419</td>\n",
       "      <td>0.534900</td>\n",
       "    </tr>\n",
       "    <tr>\n",
       "      <th>punctuation_count</th>\n",
       "      <td>-0.024124</td>\n",
       "      <td>0.738419</td>\n",
       "      <td>1.000000</td>\n",
       "      <td>0.342150</td>\n",
       "    </tr>\n",
       "    <tr>\n",
       "      <th>question_count</th>\n",
       "      <td>-0.056966</td>\n",
       "      <td>0.534900</td>\n",
       "      <td>0.342150</td>\n",
       "      <td>1.000000</td>\n",
       "    </tr>\n",
       "  </tbody>\n",
       "</table>\n",
       "</div>"
      ],
      "text/plain": [
       "                       type  word_count  punctuation_count  question_count\n",
       "type               1.000000   -0.045100          -0.024124       -0.056966\n",
       "word_count        -0.045100    1.000000           0.738419        0.534900\n",
       "punctuation_count -0.024124    0.738419           1.000000        0.342150\n",
       "question_count    -0.056966    0.534900           0.342150        1.000000"
      ]
     },
     "execution_count": 12,
     "metadata": {},
     "output_type": "execute_result"
    }
   ],
   "source": [
    "## compute correlation\n",
    "df.iloc[:, -4:].corr()"
   ]
  },
  {
   "cell_type": "markdown",
   "metadata": {},
   "source": [
    "## bag of words"
   ]
  },
  {
   "cell_type": "code",
   "execution_count": 75,
   "metadata": {},
   "outputs": [],
   "source": [
    "from sklearn.feature_extraction.text import CountVectorizer"
   ]
  },
  {
   "cell_type": "code",
   "execution_count": 76,
   "metadata": {},
   "outputs": [],
   "source": [
    "## define transformer (轉換器)\n",
    "vectorizer = CountVectorizer()\n",
    "count = vectorizer.fit_transform([' '.join(x) for x in sentences])"
   ]
  },
  {
   "cell_type": "code",
   "execution_count": 77,
   "metadata": {},
   "outputs": [
    {
     "data": {
      "text/plain": [
       "<252229x372654 sparse matrix of type '<class 'numpy.int64'>'\n",
       "\twith 7700068 stored elements in Compressed Sparse Row format>"
      ]
     },
     "execution_count": 77,
     "metadata": {},
     "output_type": "execute_result"
    }
   ],
   "source": [
    "count"
   ]
  },
  {
   "cell_type": "code",
   "execution_count": 78,
   "metadata": {},
   "outputs": [],
   "source": [
    "## save data as pickle format\n",
    "with open(\"article_count\", \"wb\") as file:\n",
    "    pickle.dump([vectorizer, count], file)"
   ]
  },
  {
   "cell_type": "markdown",
   "metadata": {},
   "source": [
    "### select top 10 frequency of words"
   ]
  },
  {
   "cell_type": "code",
   "execution_count": 79,
   "metadata": {},
   "outputs": [],
   "source": [
    "## create a dictionary: id as key ; word as values\n",
    "id2word = {v:k for k, v in vectorizer.vocabulary_.items()}"
   ]
  },
  {
   "cell_type": "code",
   "execution_count": 80,
   "metadata": {},
   "outputs": [],
   "source": [
    "## columnwise sum: words frequency\n",
    "sum_ = np.array(count.sum(axis=0))[0]"
   ]
  },
  {
   "cell_type": "code",
   "execution_count": 81,
   "metadata": {},
   "outputs": [
    {
     "data": {
      "text/plain": [
       "[73627, 198934, 95899, 37001, 243708, 258736, 257519, 305714, 256024, 283981]"
      ]
     },
     "execution_count": 81,
     "metadata": {},
     "output_type": "execute_result"
    }
   ],
   "source": [
    "## top 10 frequency's wordID\n",
    "most_sum_id = sum_.argsort()[::-1][:10].tolist()\n",
    "most_sum_id"
   ]
  },
  {
   "cell_type": "code",
   "execution_count": 82,
   "metadata": {},
   "outputs": [
    {
     "data": {
      "text/plain": [
       "['八卦', '有沒有', '台灣', '一個', '現在', '知道', '真的', '覺得', '看到', '肥宅']"
      ]
     },
     "execution_count": 82,
     "metadata": {},
     "output_type": "execute_result"
    }
   ],
   "source": [
    "## print top 10 frequency's words\n",
    "features = [id2word[i] for i in most_sum_id]\n",
    "features"
   ]
  },
  {
   "cell_type": "code",
   "execution_count": 106,
   "metadata": {},
   "outputs": [
    {
     "data": {
      "text/html": [
       "<div>\n",
       "<style scoped>\n",
       "    .dataframe tbody tr th:only-of-type {\n",
       "        vertical-align: middle;\n",
       "    }\n",
       "\n",
       "    .dataframe tbody tr th {\n",
       "        vertical-align: top;\n",
       "    }\n",
       "\n",
       "    .dataframe thead th {\n",
       "        text-align: right;\n",
       "    }\n",
       "</style>\n",
       "<table border=\"1\" class=\"dataframe\">\n",
       "  <thead>\n",
       "    <tr style=\"text-align: right;\">\n",
       "      <th></th>\n",
       "      <th>八卦</th>\n",
       "      <th>有沒有</th>\n",
       "      <th>台灣</th>\n",
       "      <th>一個</th>\n",
       "      <th>現在</th>\n",
       "      <th>知道</th>\n",
       "      <th>真的</th>\n",
       "      <th>覺得</th>\n",
       "      <th>看到</th>\n",
       "      <th>肥宅</th>\n",
       "    </tr>\n",
       "  </thead>\n",
       "  <tbody>\n",
       "    <tr>\n",
       "      <th>0</th>\n",
       "      <td>1</td>\n",
       "      <td>1</td>\n",
       "      <td>1</td>\n",
       "      <td>0</td>\n",
       "      <td>2</td>\n",
       "      <td>0</td>\n",
       "      <td>0</td>\n",
       "      <td>1</td>\n",
       "      <td>0</td>\n",
       "      <td>1</td>\n",
       "    </tr>\n",
       "    <tr>\n",
       "      <th>1</th>\n",
       "      <td>1</td>\n",
       "      <td>1</td>\n",
       "      <td>0</td>\n",
       "      <td>0</td>\n",
       "      <td>0</td>\n",
       "      <td>0</td>\n",
       "      <td>0</td>\n",
       "      <td>0</td>\n",
       "      <td>0</td>\n",
       "      <td>0</td>\n",
       "    </tr>\n",
       "    <tr>\n",
       "      <th>2</th>\n",
       "      <td>0</td>\n",
       "      <td>0</td>\n",
       "      <td>0</td>\n",
       "      <td>1</td>\n",
       "      <td>1</td>\n",
       "      <td>0</td>\n",
       "      <td>0</td>\n",
       "      <td>1</td>\n",
       "      <td>0</td>\n",
       "      <td>0</td>\n",
       "    </tr>\n",
       "    <tr>\n",
       "      <th>3</th>\n",
       "      <td>1</td>\n",
       "      <td>2</td>\n",
       "      <td>0</td>\n",
       "      <td>2</td>\n",
       "      <td>0</td>\n",
       "      <td>2</td>\n",
       "      <td>0</td>\n",
       "      <td>0</td>\n",
       "      <td>0</td>\n",
       "      <td>0</td>\n",
       "    </tr>\n",
       "    <tr>\n",
       "      <th>4</th>\n",
       "      <td>0</td>\n",
       "      <td>0</td>\n",
       "      <td>0</td>\n",
       "      <td>1</td>\n",
       "      <td>0</td>\n",
       "      <td>0</td>\n",
       "      <td>0</td>\n",
       "      <td>0</td>\n",
       "      <td>1</td>\n",
       "      <td>0</td>\n",
       "    </tr>\n",
       "  </tbody>\n",
       "</table>\n",
       "</div>"
      ],
      "text/plain": [
       "   八卦  有沒有  台灣  一個  現在  知道  真的  覺得  看到  肥宅\n",
       "0   1    1   1   0   2   0   0   1   0   1\n",
       "1   1    1   0   0   0   0   0   0   0   0\n",
       "2   0    0   0   1   1   0   0   1   0   0\n",
       "3   1    2   0   2   0   2   0   0   0   0\n",
       "4   0    0   0   1   0   0   0   0   1   0"
      ]
     },
     "execution_count": 106,
     "metadata": {},
     "output_type": "execute_result"
    }
   ],
   "source": [
    "## print the data\n",
    "data = pd.DataFrame(count[df.idx.as_matrix(),:][:,most_sum_id].toarray(), columns=features)\n",
    "data[:5]"
   ]
  },
  {
   "cell_type": "code",
   "execution_count": 107,
   "metadata": {},
   "outputs": [
    {
     "data": {
      "text/plain": [
       "'反核覺青現在最強招式就是 不然燃料棒放你家 肥宅我覺得 把燃料棒放到其他國家不就好了 一定會有缺錢的國家 台灣塞錢給他們 買他們國家的空間放 一來燃料棒問題解決 核電重啟 台灣缺點問題解決 大家有冷氣吹 台積電不出走 繼續救台灣 二來有買賣就有貪污空間 政客也有賺頭 不會像現在沒糖吃該該叫 送錢出去 邦交國搞不好也會多幾個 簡直是雙贏 核電燃料棒 跟其他國家買空間放不就好了 有沒有相關八卦 '"
      ]
     },
     "execution_count": 107,
     "metadata": {},
     "output_type": "execute_result"
    }
   ],
   "source": [
    "df.iloc[0].content"
   ]
  },
  {
   "cell_type": "code",
   "execution_count": 108,
   "metadata": {},
   "outputs": [
    {
     "data": {
      "text/html": [
       "<div>\n",
       "<style scoped>\n",
       "    .dataframe tbody tr th:only-of-type {\n",
       "        vertical-align: middle;\n",
       "    }\n",
       "\n",
       "    .dataframe tbody tr th {\n",
       "        vertical-align: top;\n",
       "    }\n",
       "\n",
       "    .dataframe thead th {\n",
       "        text-align: right;\n",
       "    }\n",
       "</style>\n",
       "<table border=\"1\" class=\"dataframe\">\n",
       "  <thead>\n",
       "    <tr style=\"text-align: right;\">\n",
       "      <th></th>\n",
       "      <th>type</th>\n",
       "      <th>八卦</th>\n",
       "      <th>有沒有</th>\n",
       "      <th>台灣</th>\n",
       "      <th>一個</th>\n",
       "      <th>現在</th>\n",
       "      <th>知道</th>\n",
       "      <th>真的</th>\n",
       "      <th>覺得</th>\n",
       "      <th>看到</th>\n",
       "      <th>肥宅</th>\n",
       "    </tr>\n",
       "  </thead>\n",
       "  <tbody>\n",
       "    <tr>\n",
       "      <th>type</th>\n",
       "      <td>1.000000</td>\n",
       "      <td>-0.056491</td>\n",
       "      <td>0.000898</td>\n",
       "      <td>-0.048109</td>\n",
       "      <td>-0.032585</td>\n",
       "      <td>-0.018120</td>\n",
       "      <td>-0.019432</td>\n",
       "      <td>-0.021593</td>\n",
       "      <td>-0.012116</td>\n",
       "      <td>-0.048172</td>\n",
       "      <td>-0.013955</td>\n",
       "    </tr>\n",
       "    <tr>\n",
       "      <th>八卦</th>\n",
       "      <td>-0.056491</td>\n",
       "      <td>1.000000</td>\n",
       "      <td>0.431786</td>\n",
       "      <td>-0.001901</td>\n",
       "      <td>0.062416</td>\n",
       "      <td>0.052670</td>\n",
       "      <td>0.091136</td>\n",
       "      <td>0.084516</td>\n",
       "      <td>0.066589</td>\n",
       "      <td>0.066047</td>\n",
       "      <td>0.077210</td>\n",
       "    </tr>\n",
       "    <tr>\n",
       "      <th>有沒有</th>\n",
       "      <td>0.000898</td>\n",
       "      <td>0.431786</td>\n",
       "      <td>1.000000</td>\n",
       "      <td>0.032712</td>\n",
       "      <td>0.094241</td>\n",
       "      <td>0.105734</td>\n",
       "      <td>0.144891</td>\n",
       "      <td>0.105919</td>\n",
       "      <td>0.095098</td>\n",
       "      <td>0.089291</td>\n",
       "      <td>0.043573</td>\n",
       "    </tr>\n",
       "    <tr>\n",
       "      <th>台灣</th>\n",
       "      <td>-0.048109</td>\n",
       "      <td>-0.001901</td>\n",
       "      <td>0.032712</td>\n",
       "      <td>1.000000</td>\n",
       "      <td>0.194281</td>\n",
       "      <td>0.188974</td>\n",
       "      <td>0.166716</td>\n",
       "      <td>0.162471</td>\n",
       "      <td>0.125782</td>\n",
       "      <td>0.137087</td>\n",
       "      <td>-0.033735</td>\n",
       "    </tr>\n",
       "    <tr>\n",
       "      <th>一個</th>\n",
       "      <td>-0.032585</td>\n",
       "      <td>0.062416</td>\n",
       "      <td>0.094241</td>\n",
       "      <td>0.194281</td>\n",
       "      <td>1.000000</td>\n",
       "      <td>0.400985</td>\n",
       "      <td>0.523627</td>\n",
       "      <td>0.398092</td>\n",
       "      <td>0.370977</td>\n",
       "      <td>0.327872</td>\n",
       "      <td>0.026330</td>\n",
       "    </tr>\n",
       "    <tr>\n",
       "      <th>現在</th>\n",
       "      <td>-0.018120</td>\n",
       "      <td>0.052670</td>\n",
       "      <td>0.105734</td>\n",
       "      <td>0.188974</td>\n",
       "      <td>0.400985</td>\n",
       "      <td>1.000000</td>\n",
       "      <td>0.418126</td>\n",
       "      <td>0.348470</td>\n",
       "      <td>0.306070</td>\n",
       "      <td>0.230148</td>\n",
       "      <td>0.009126</td>\n",
       "    </tr>\n",
       "    <tr>\n",
       "      <th>知道</th>\n",
       "      <td>-0.019432</td>\n",
       "      <td>0.091136</td>\n",
       "      <td>0.144891</td>\n",
       "      <td>0.166716</td>\n",
       "      <td>0.523627</td>\n",
       "      <td>0.418126</td>\n",
       "      <td>1.000000</td>\n",
       "      <td>0.486961</td>\n",
       "      <td>0.391520</td>\n",
       "      <td>0.336525</td>\n",
       "      <td>0.037975</td>\n",
       "    </tr>\n",
       "    <tr>\n",
       "      <th>真的</th>\n",
       "      <td>-0.021593</td>\n",
       "      <td>0.084516</td>\n",
       "      <td>0.105919</td>\n",
       "      <td>0.162471</td>\n",
       "      <td>0.398092</td>\n",
       "      <td>0.348470</td>\n",
       "      <td>0.486961</td>\n",
       "      <td>1.000000</td>\n",
       "      <td>0.461401</td>\n",
       "      <td>0.331108</td>\n",
       "      <td>0.039239</td>\n",
       "    </tr>\n",
       "    <tr>\n",
       "      <th>覺得</th>\n",
       "      <td>-0.012116</td>\n",
       "      <td>0.066589</td>\n",
       "      <td>0.095098</td>\n",
       "      <td>0.125782</td>\n",
       "      <td>0.370977</td>\n",
       "      <td>0.306070</td>\n",
       "      <td>0.391520</td>\n",
       "      <td>0.461401</td>\n",
       "      <td>1.000000</td>\n",
       "      <td>0.270267</td>\n",
       "      <td>0.026513</td>\n",
       "    </tr>\n",
       "    <tr>\n",
       "      <th>看到</th>\n",
       "      <td>-0.048172</td>\n",
       "      <td>0.066047</td>\n",
       "      <td>0.089291</td>\n",
       "      <td>0.137087</td>\n",
       "      <td>0.327872</td>\n",
       "      <td>0.230148</td>\n",
       "      <td>0.336525</td>\n",
       "      <td>0.331108</td>\n",
       "      <td>0.270267</td>\n",
       "      <td>1.000000</td>\n",
       "      <td>0.020214</td>\n",
       "    </tr>\n",
       "    <tr>\n",
       "      <th>肥宅</th>\n",
       "      <td>-0.013955</td>\n",
       "      <td>0.077210</td>\n",
       "      <td>0.043573</td>\n",
       "      <td>-0.033735</td>\n",
       "      <td>0.026330</td>\n",
       "      <td>0.009126</td>\n",
       "      <td>0.037975</td>\n",
       "      <td>0.039239</td>\n",
       "      <td>0.026513</td>\n",
       "      <td>0.020214</td>\n",
       "      <td>1.000000</td>\n",
       "    </tr>\n",
       "  </tbody>\n",
       "</table>\n",
       "</div>"
      ],
      "text/plain": [
       "          type        八卦       有沒有        台灣        一個        現在        知道  \\\n",
       "type  1.000000 -0.056491  0.000898 -0.048109 -0.032585 -0.018120 -0.019432   \n",
       "八卦   -0.056491  1.000000  0.431786 -0.001901  0.062416  0.052670  0.091136   \n",
       "有沒有   0.000898  0.431786  1.000000  0.032712  0.094241  0.105734  0.144891   \n",
       "台灣   -0.048109 -0.001901  0.032712  1.000000  0.194281  0.188974  0.166716   \n",
       "一個   -0.032585  0.062416  0.094241  0.194281  1.000000  0.400985  0.523627   \n",
       "現在   -0.018120  0.052670  0.105734  0.188974  0.400985  1.000000  0.418126   \n",
       "知道   -0.019432  0.091136  0.144891  0.166716  0.523627  0.418126  1.000000   \n",
       "真的   -0.021593  0.084516  0.105919  0.162471  0.398092  0.348470  0.486961   \n",
       "覺得   -0.012116  0.066589  0.095098  0.125782  0.370977  0.306070  0.391520   \n",
       "看到   -0.048172  0.066047  0.089291  0.137087  0.327872  0.230148  0.336525   \n",
       "肥宅   -0.013955  0.077210  0.043573 -0.033735  0.026330  0.009126  0.037975   \n",
       "\n",
       "            真的        覺得        看到        肥宅  \n",
       "type -0.021593 -0.012116 -0.048172 -0.013955  \n",
       "八卦    0.084516  0.066589  0.066047  0.077210  \n",
       "有沒有   0.105919  0.095098  0.089291  0.043573  \n",
       "台灣    0.162471  0.125782  0.137087 -0.033735  \n",
       "一個    0.398092  0.370977  0.327872  0.026330  \n",
       "現在    0.348470  0.306070  0.230148  0.009126  \n",
       "知道    0.486961  0.391520  0.336525  0.037975  \n",
       "真的    1.000000  0.461401  0.331108  0.039239  \n",
       "覺得    0.461401  1.000000  0.270267  0.026513  \n",
       "看到    0.331108  0.270267  1.000000  0.020214  \n",
       "肥宅    0.039239  0.026513  0.020214  1.000000  "
      ]
     },
     "execution_count": 108,
     "metadata": {},
     "output_type": "execute_result"
    }
   ],
   "source": [
    "## compute correlation\n",
    "data = pd.concat([df.type, data], axis=1)\n",
    "data.corr()"
   ]
  },
  {
   "cell_type": "markdown",
   "metadata": {},
   "source": [
    "# TF-IDF"
   ]
  },
  {
   "cell_type": "code",
   "execution_count": 109,
   "metadata": {},
   "outputs": [],
   "source": [
    "from sklearn.feature_extraction.text import TfidfVectorizer"
   ]
  },
  {
   "cell_type": "code",
   "execution_count": 110,
   "metadata": {},
   "outputs": [],
   "source": [
    "## define transformer (轉換器)\n",
    "vectorizer = TfidfVectorizer(norm=None) ## do not do normalize\n",
    "tfidf = vectorizer.fit_transform([' '.join(x) for x in sentences])"
   ]
  },
  {
   "cell_type": "code",
   "execution_count": 111,
   "metadata": {},
   "outputs": [],
   "source": [
    "## save data as pickle format\n",
    "with open(\"article_tfidf\", \"wb\") as file:\n",
    "    pickle.dump([vectorizer, tfidf], file)"
   ]
  },
  {
   "cell_type": "markdown",
   "metadata": {},
   "source": [
    "### select top 10 average tf-idf of words"
   ]
  },
  {
   "cell_type": "code",
   "execution_count": 112,
   "metadata": {},
   "outputs": [],
   "source": [
    "## create a dictionary: id as key ; word as values\n",
    "id2word = {v:k for k, v in vectorizer.vocabulary_.items()}"
   ]
  },
  {
   "cell_type": "code",
   "execution_count": 115,
   "metadata": {},
   "outputs": [],
   "source": [
    "## columnwise average: words tf-idf\n",
    "avg = tfidf.sum(axis=0) / (tfidf!=0).sum(axis=0)\n",
    "\n",
    "## set df < 20 as 0\n",
    "avg[(tfidf!=0).sum(axis=0)<20] = 0"
   ]
  },
  {
   "cell_type": "code",
   "execution_count": 126,
   "metadata": {},
   "outputs": [],
   "source": [
    "avg = np.array(avg)[0]"
   ]
  },
  {
   "cell_type": "code",
   "execution_count": 127,
   "metadata": {},
   "outputs": [
    {
     "data": {
      "text/plain": [
       "[90835, 325364, 157970, 263428, 357411, 5490, 47011, 33207, 51405, 183683]"
      ]
     },
     "execution_count": 127,
     "metadata": {},
     "output_type": "execute_result"
    }
   ],
   "source": [
    "## top 10 tfidf's wordID\n",
    "most_avg_id = avg.argsort()[::-1][:10].tolist()\n",
    "most_avg_id"
   ]
  },
  {
   "cell_type": "code",
   "execution_count": 128,
   "metadata": {},
   "outputs": [
    {
     "data": {
      "text/plain": [
       "['原告', '轉帳', '忍術', '稅後', '震度', 'charlie', '中山路', 'united', '二段', '支出']"
      ]
     },
     "execution_count": 128,
     "metadata": {},
     "output_type": "execute_result"
    }
   ],
   "source": [
    "## print top 10 tf-idf's words\n",
    "features = [id2word[i] for i in most_avg_id]\n",
    "features"
   ]
  },
  {
   "cell_type": "code",
   "execution_count": 129,
   "metadata": {},
   "outputs": [
    {
     "data": {
      "text/html": [
       "<div>\n",
       "<style scoped>\n",
       "    .dataframe tbody tr th:only-of-type {\n",
       "        vertical-align: middle;\n",
       "    }\n",
       "\n",
       "    .dataframe tbody tr th {\n",
       "        vertical-align: top;\n",
       "    }\n",
       "\n",
       "    .dataframe thead th {\n",
       "        text-align: right;\n",
       "    }\n",
       "</style>\n",
       "<table border=\"1\" class=\"dataframe\">\n",
       "  <thead>\n",
       "    <tr style=\"text-align: right;\">\n",
       "      <th></th>\n",
       "      <th>原告</th>\n",
       "      <th>轉帳</th>\n",
       "      <th>忍術</th>\n",
       "      <th>稅後</th>\n",
       "      <th>震度</th>\n",
       "      <th>charlie</th>\n",
       "      <th>中山路</th>\n",
       "      <th>united</th>\n",
       "      <th>二段</th>\n",
       "      <th>支出</th>\n",
       "    </tr>\n",
       "  </thead>\n",
       "  <tbody>\n",
       "    <tr>\n",
       "      <th>0</th>\n",
       "      <td>0.0</td>\n",
       "      <td>0.0</td>\n",
       "      <td>0.0</td>\n",
       "      <td>0.0</td>\n",
       "      <td>0.0</td>\n",
       "      <td>0.0</td>\n",
       "      <td>0.0</td>\n",
       "      <td>0.0</td>\n",
       "      <td>0.000000</td>\n",
       "      <td>0.0</td>\n",
       "    </tr>\n",
       "    <tr>\n",
       "      <th>1</th>\n",
       "      <td>0.0</td>\n",
       "      <td>0.0</td>\n",
       "      <td>0.0</td>\n",
       "      <td>0.0</td>\n",
       "      <td>0.0</td>\n",
       "      <td>0.0</td>\n",
       "      <td>0.0</td>\n",
       "      <td>0.0</td>\n",
       "      <td>0.000000</td>\n",
       "      <td>0.0</td>\n",
       "    </tr>\n",
       "    <tr>\n",
       "      <th>2</th>\n",
       "      <td>0.0</td>\n",
       "      <td>0.0</td>\n",
       "      <td>0.0</td>\n",
       "      <td>0.0</td>\n",
       "      <td>0.0</td>\n",
       "      <td>0.0</td>\n",
       "      <td>0.0</td>\n",
       "      <td>0.0</td>\n",
       "      <td>0.000000</td>\n",
       "      <td>0.0</td>\n",
       "    </tr>\n",
       "    <tr>\n",
       "      <th>3</th>\n",
       "      <td>0.0</td>\n",
       "      <td>0.0</td>\n",
       "      <td>0.0</td>\n",
       "      <td>0.0</td>\n",
       "      <td>0.0</td>\n",
       "      <td>0.0</td>\n",
       "      <td>0.0</td>\n",
       "      <td>0.0</td>\n",
       "      <td>0.000000</td>\n",
       "      <td>0.0</td>\n",
       "    </tr>\n",
       "    <tr>\n",
       "      <th>4</th>\n",
       "      <td>0.0</td>\n",
       "      <td>0.0</td>\n",
       "      <td>0.0</td>\n",
       "      <td>0.0</td>\n",
       "      <td>0.0</td>\n",
       "      <td>0.0</td>\n",
       "      <td>0.0</td>\n",
       "      <td>0.0</td>\n",
       "      <td>9.395045</td>\n",
       "      <td>0.0</td>\n",
       "    </tr>\n",
       "  </tbody>\n",
       "</table>\n",
       "</div>"
      ],
      "text/plain": [
       "    原告   轉帳   忍術   稅後   震度  charlie  中山路  united        二段   支出\n",
       "0  0.0  0.0  0.0  0.0  0.0      0.0  0.0     0.0  0.000000  0.0\n",
       "1  0.0  0.0  0.0  0.0  0.0      0.0  0.0     0.0  0.000000  0.0\n",
       "2  0.0  0.0  0.0  0.0  0.0      0.0  0.0     0.0  0.000000  0.0\n",
       "3  0.0  0.0  0.0  0.0  0.0      0.0  0.0     0.0  0.000000  0.0\n",
       "4  0.0  0.0  0.0  0.0  0.0      0.0  0.0     0.0  9.395045  0.0"
      ]
     },
     "execution_count": 129,
     "metadata": {},
     "output_type": "execute_result"
    }
   ],
   "source": [
    "## print the data\n",
    "data = pd.DataFrame(tfidf[df.idx.as_matrix(),:][:,most_avg_id].toarray(), columns=features)\n",
    "data[:5]"
   ]
  },
  {
   "cell_type": "code",
   "execution_count": 130,
   "metadata": {},
   "outputs": [
    {
     "data": {
      "text/html": [
       "<div>\n",
       "<style scoped>\n",
       "    .dataframe tbody tr th:only-of-type {\n",
       "        vertical-align: middle;\n",
       "    }\n",
       "\n",
       "    .dataframe tbody tr th {\n",
       "        vertical-align: top;\n",
       "    }\n",
       "\n",
       "    .dataframe thead th {\n",
       "        text-align: right;\n",
       "    }\n",
       "</style>\n",
       "<table border=\"1\" class=\"dataframe\">\n",
       "  <thead>\n",
       "    <tr style=\"text-align: right;\">\n",
       "      <th></th>\n",
       "      <th>type</th>\n",
       "      <th>原告</th>\n",
       "      <th>轉帳</th>\n",
       "      <th>忍術</th>\n",
       "      <th>稅後</th>\n",
       "      <th>震度</th>\n",
       "      <th>charlie</th>\n",
       "      <th>中山路</th>\n",
       "      <th>united</th>\n",
       "      <th>二段</th>\n",
       "      <th>支出</th>\n",
       "    </tr>\n",
       "  </thead>\n",
       "  <tbody>\n",
       "    <tr>\n",
       "      <th>type</th>\n",
       "      <td>1.000000</td>\n",
       "      <td>-0.004499</td>\n",
       "      <td>0.002090</td>\n",
       "      <td>0.002664</td>\n",
       "      <td>0.001970</td>\n",
       "      <td>0.007263</td>\n",
       "      <td>0.002013</td>\n",
       "      <td>0.001974</td>\n",
       "      <td>0.003889</td>\n",
       "      <td>0.001882</td>\n",
       "      <td>0.002063</td>\n",
       "    </tr>\n",
       "    <tr>\n",
       "      <th>原告</th>\n",
       "      <td>-0.004499</td>\n",
       "      <td>1.000000</td>\n",
       "      <td>-0.000221</td>\n",
       "      <td>-0.000177</td>\n",
       "      <td>-0.000238</td>\n",
       "      <td>-0.000483</td>\n",
       "      <td>-0.000134</td>\n",
       "      <td>-0.000131</td>\n",
       "      <td>-0.000258</td>\n",
       "      <td>-0.000132</td>\n",
       "      <td>-0.000226</td>\n",
       "    </tr>\n",
       "    <tr>\n",
       "      <th>轉帳</th>\n",
       "      <td>0.002090</td>\n",
       "      <td>-0.000221</td>\n",
       "      <td>1.000000</td>\n",
       "      <td>-0.000136</td>\n",
       "      <td>0.999764</td>\n",
       "      <td>-0.000370</td>\n",
       "      <td>-0.000102</td>\n",
       "      <td>-0.000100</td>\n",
       "      <td>-0.000198</td>\n",
       "      <td>-0.000101</td>\n",
       "      <td>0.999931</td>\n",
       "    </tr>\n",
       "    <tr>\n",
       "      <th>忍術</th>\n",
       "      <td>0.002664</td>\n",
       "      <td>-0.000177</td>\n",
       "      <td>-0.000136</td>\n",
       "      <td>1.000000</td>\n",
       "      <td>-0.000146</td>\n",
       "      <td>-0.000296</td>\n",
       "      <td>-0.000082</td>\n",
       "      <td>-0.000080</td>\n",
       "      <td>-0.000158</td>\n",
       "      <td>-0.000081</td>\n",
       "      <td>-0.000138</td>\n",
       "    </tr>\n",
       "    <tr>\n",
       "      <th>稅後</th>\n",
       "      <td>0.001970</td>\n",
       "      <td>-0.000238</td>\n",
       "      <td>0.999764</td>\n",
       "      <td>-0.000146</td>\n",
       "      <td>1.000000</td>\n",
       "      <td>-0.000397</td>\n",
       "      <td>-0.000110</td>\n",
       "      <td>-0.000108</td>\n",
       "      <td>-0.000213</td>\n",
       "      <td>-0.000109</td>\n",
       "      <td>0.999715</td>\n",
       "    </tr>\n",
       "    <tr>\n",
       "      <th>震度</th>\n",
       "      <td>0.007263</td>\n",
       "      <td>-0.000483</td>\n",
       "      <td>-0.000370</td>\n",
       "      <td>-0.000296</td>\n",
       "      <td>-0.000397</td>\n",
       "      <td>1.000000</td>\n",
       "      <td>-0.000223</td>\n",
       "      <td>-0.000219</td>\n",
       "      <td>-0.000431</td>\n",
       "      <td>-0.000221</td>\n",
       "      <td>-0.000377</td>\n",
       "    </tr>\n",
       "    <tr>\n",
       "      <th>charlie</th>\n",
       "      <td>0.002013</td>\n",
       "      <td>-0.000134</td>\n",
       "      <td>-0.000102</td>\n",
       "      <td>-0.000082</td>\n",
       "      <td>-0.000110</td>\n",
       "      <td>-0.000223</td>\n",
       "      <td>1.000000</td>\n",
       "      <td>-0.000061</td>\n",
       "      <td>-0.000120</td>\n",
       "      <td>-0.000061</td>\n",
       "      <td>-0.000104</td>\n",
       "    </tr>\n",
       "    <tr>\n",
       "      <th>中山路</th>\n",
       "      <td>0.001974</td>\n",
       "      <td>-0.000131</td>\n",
       "      <td>-0.000100</td>\n",
       "      <td>-0.000080</td>\n",
       "      <td>-0.000108</td>\n",
       "      <td>-0.000219</td>\n",
       "      <td>-0.000061</td>\n",
       "      <td>1.000000</td>\n",
       "      <td>-0.000117</td>\n",
       "      <td>0.999799</td>\n",
       "      <td>-0.000102</td>\n",
       "    </tr>\n",
       "    <tr>\n",
       "      <th>united</th>\n",
       "      <td>0.003889</td>\n",
       "      <td>-0.000258</td>\n",
       "      <td>-0.000198</td>\n",
       "      <td>-0.000158</td>\n",
       "      <td>-0.000213</td>\n",
       "      <td>-0.000431</td>\n",
       "      <td>-0.000120</td>\n",
       "      <td>-0.000117</td>\n",
       "      <td>1.000000</td>\n",
       "      <td>-0.000118</td>\n",
       "      <td>-0.000202</td>\n",
       "    </tr>\n",
       "    <tr>\n",
       "      <th>二段</th>\n",
       "      <td>0.001882</td>\n",
       "      <td>-0.000132</td>\n",
       "      <td>-0.000101</td>\n",
       "      <td>-0.000081</td>\n",
       "      <td>-0.000109</td>\n",
       "      <td>-0.000221</td>\n",
       "      <td>-0.000061</td>\n",
       "      <td>0.999799</td>\n",
       "      <td>-0.000118</td>\n",
       "      <td>1.000000</td>\n",
       "      <td>-0.000103</td>\n",
       "    </tr>\n",
       "    <tr>\n",
       "      <th>支出</th>\n",
       "      <td>0.002063</td>\n",
       "      <td>-0.000226</td>\n",
       "      <td>0.999931</td>\n",
       "      <td>-0.000138</td>\n",
       "      <td>0.999715</td>\n",
       "      <td>-0.000377</td>\n",
       "      <td>-0.000104</td>\n",
       "      <td>-0.000102</td>\n",
       "      <td>-0.000202</td>\n",
       "      <td>-0.000103</td>\n",
       "      <td>1.000000</td>\n",
       "    </tr>\n",
       "  </tbody>\n",
       "</table>\n",
       "</div>"
      ],
      "text/plain": [
       "             type        原告        轉帳        忍術        稅後        震度   charlie  \\\n",
       "type     1.000000 -0.004499  0.002090  0.002664  0.001970  0.007263  0.002013   \n",
       "原告      -0.004499  1.000000 -0.000221 -0.000177 -0.000238 -0.000483 -0.000134   \n",
       "轉帳       0.002090 -0.000221  1.000000 -0.000136  0.999764 -0.000370 -0.000102   \n",
       "忍術       0.002664 -0.000177 -0.000136  1.000000 -0.000146 -0.000296 -0.000082   \n",
       "稅後       0.001970 -0.000238  0.999764 -0.000146  1.000000 -0.000397 -0.000110   \n",
       "震度       0.007263 -0.000483 -0.000370 -0.000296 -0.000397  1.000000 -0.000223   \n",
       "charlie  0.002013 -0.000134 -0.000102 -0.000082 -0.000110 -0.000223  1.000000   \n",
       "中山路      0.001974 -0.000131 -0.000100 -0.000080 -0.000108 -0.000219 -0.000061   \n",
       "united   0.003889 -0.000258 -0.000198 -0.000158 -0.000213 -0.000431 -0.000120   \n",
       "二段       0.001882 -0.000132 -0.000101 -0.000081 -0.000109 -0.000221 -0.000061   \n",
       "支出       0.002063 -0.000226  0.999931 -0.000138  0.999715 -0.000377 -0.000104   \n",
       "\n",
       "              中山路    united        二段        支出  \n",
       "type     0.001974  0.003889  0.001882  0.002063  \n",
       "原告      -0.000131 -0.000258 -0.000132 -0.000226  \n",
       "轉帳      -0.000100 -0.000198 -0.000101  0.999931  \n",
       "忍術      -0.000080 -0.000158 -0.000081 -0.000138  \n",
       "稅後      -0.000108 -0.000213 -0.000109  0.999715  \n",
       "震度      -0.000219 -0.000431 -0.000221 -0.000377  \n",
       "charlie -0.000061 -0.000120 -0.000061 -0.000104  \n",
       "中山路      1.000000 -0.000117  0.999799 -0.000102  \n",
       "united  -0.000117  1.000000 -0.000118 -0.000202  \n",
       "二段       0.999799 -0.000118  1.000000 -0.000103  \n",
       "支出      -0.000102 -0.000202 -0.000103  1.000000  "
      ]
     },
     "execution_count": 130,
     "metadata": {},
     "output_type": "execute_result"
    }
   ],
   "source": [
    "## compute correlation\n",
    "data = pd.concat([df.type, data], axis=1)\n",
    "data.corr()"
   ]
  },
  {
   "cell_type": "code",
   "execution_count": null,
   "metadata": {},
   "outputs": [],
   "source": []
  }
 ],
 "metadata": {
  "kernelspec": {
   "display_name": "Python 3",
   "language": "python",
   "name": "python3"
  },
  "language_info": {
   "codemirror_mode": {
    "name": "ipython",
    "version": 3
   },
   "file_extension": ".py",
   "mimetype": "text/x-python",
   "name": "python",
   "nbconvert_exporter": "python",
   "pygments_lexer": "ipython3",
   "version": "3.5.2"
  }
 },
 "nbformat": 4,
 "nbformat_minor": 2
}
