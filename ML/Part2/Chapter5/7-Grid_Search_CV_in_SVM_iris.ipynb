{
 "cells": [
  {
   "cell_type": "code",
   "execution_count": 1,
   "metadata": {
    "collapsed": true
   },
   "outputs": [],
   "source": [
    "import numpy as np\n",
    "import matplotlib.pyplot as plt\n",
    "from sklearn import svm, datasets\n",
    "%matplotlib inline\n",
    "from matplotlib.pylab import rcParams\n",
    "rcParams['figure.figsize'] = 10, 5\n",
    "iris = datasets.load_iris()\n",
    "X = iris.data\n",
    "y= iris.target"
   ]
  },
  {
   "cell_type": "markdown",
   "metadata": {},
   "source": [
    "# Grid Search for SVM Parameters"
   ]
  },
  {
   "cell_type": "code",
   "execution_count": 2,
   "metadata": {},
   "outputs": [
    {
     "data": {
      "text/plain": [
       "GridSearchCV(cv=5, error_score='raise',\n",
       "       estimator=SVC(C=1.0, cache_size=200, class_weight=None, coef0=0.0,\n",
       "  decision_function_shape='ovr', degree=3, gamma='auto', kernel='rbf',\n",
       "  max_iter=-1, probability=False, random_state=None, shrinking=True,\n",
       "  tol=0.001, verbose=False),\n",
       "       fit_params=None, iid=True, n_jobs=1,\n",
       "       param_grid={'kernel': ['linear', 'rbf'], 'gamma': [0.01, 0.1, 1, 10], 'C': [0.01, 0.1, 1, 10]},\n",
       "       pre_dispatch='2*n_jobs', refit=True, return_train_score=True,\n",
       "       scoring='accuracy', verbose=0)"
      ]
     },
     "execution_count": 2,
     "metadata": {},
     "output_type": "execute_result"
    }
   ],
   "source": [
    "from sklearn.model_selection import GridSearchCV\n",
    "parameters= {'kernel':['linear', 'rbf'], 'C':[0.01,0.1,1,10], 'gamma':[0.01,0.1,1,10]}\n",
    "model = svm.SVC()\n",
    "model.fit(X, y)\n",
    "best_model = GridSearchCV(model, parameters, cv=5, scoring='accuracy')\n",
    "best_model.fit(X, y)"
   ]
  },
  {
   "cell_type": "code",
   "execution_count": 3,
   "metadata": {},
   "outputs": [
    {
     "name": "stdout",
     "output_type": "stream",
     "text": [
      "accuracy before Grid Search CV:0.9867\n",
      "accuracy after Grid Search CV:0.9933\n"
     ]
    }
   ],
   "source": [
    "print('accuracy before Grid Search CV:%.4f'%model.score(X, y))\n",
    "print('accuracy after Grid Search CV:%.4f'%best_model.score(X,y))"
   ]
  },
  {
   "cell_type": "markdown",
   "metadata": {},
   "source": [
    "# Best Parameter"
   ]
  },
  {
   "cell_type": "code",
   "execution_count": 4,
   "metadata": {},
   "outputs": [
    {
     "data": {
      "text/plain": [
       "SVC(C=1, cache_size=200, class_weight=None, coef0=0.0,\n",
       "  decision_function_shape='ovr', degree=3, gamma=0.01, kernel='linear',\n",
       "  max_iter=-1, probability=False, random_state=None, shrinking=True,\n",
       "  tol=0.001, verbose=False)"
      ]
     },
     "execution_count": 4,
     "metadata": {},
     "output_type": "execute_result"
    }
   ],
   "source": [
    "best_model.best_estimator_"
   ]
  },
  {
   "cell_type": "code",
   "execution_count": 5,
   "metadata": {},
   "outputs": [
    {
     "data": {
      "text/plain": [
       "{'mean_fit_time': array([ 0.0010015 ,  0.00158825,  0.00084214,  0.00087943,  0.00051064,\n",
       "         0.00087037,  0.0007236 ,  0.0011416 ,  0.00041556,  0.00085244,\n",
       "         0.00041318,  0.00066442,  0.00041142,  0.0007194 ,  0.00041375,\n",
       "         0.00096326,  0.0004066 ,  0.00060282,  0.00040102,  0.00049205,\n",
       "         0.00041676,  0.00064945,  0.00049739,  0.00156198,  0.00044937,\n",
       "         0.00052109,  0.00045023,  0.00044956,  0.00050759,  0.00060573,\n",
       "         0.0008286 ,  0.00150805]),\n",
       " 'mean_score_time': array([ 0.00052958,  0.00058994,  0.00042868,  0.00030704,  0.00026317,\n",
       "         0.00030241,  0.00034776,  0.00040803,  0.00025024,  0.00030255,\n",
       "         0.00024962,  0.00029354,  0.00025015,  0.00028996,  0.00025139,\n",
       "         0.00033994,  0.00024409,  0.00028739,  0.00024242,  0.00026455,\n",
       "         0.00025363,  0.00029078,  0.00028119,  0.00035148,  0.00025163,\n",
       "         0.00029635,  0.00025954,  0.00025325,  0.00030513,  0.00027127,\n",
       "         0.0005228 ,  0.00041156]),\n",
       " 'mean_test_score': array([ 0.92      ,  0.91333333,  0.92      ,  0.91333333,  0.92      ,\n",
       "         0.96      ,  0.92      ,  0.76666667,  0.97333333,  0.91333333,\n",
       "         0.97333333,  0.92      ,  0.97333333,  0.96      ,  0.97333333,\n",
       "         0.76666667,  0.98      ,  0.93333333,  0.98      ,  0.98      ,\n",
       "         0.98      ,  0.96666667,  0.98      ,  0.94      ,  0.97333333,\n",
       "         0.98      ,  0.97333333,  0.98      ,  0.97333333,  0.95333333,\n",
       "         0.97333333,  0.93333333]),\n",
       " 'mean_train_score': array([ 0.92666667,  0.92      ,  0.92666667,  0.93      ,  0.92666667,\n",
       "         0.96166667,  0.92666667,  0.89333333,  0.96333333,  0.92      ,\n",
       "         0.96333333,  0.94      ,  0.96333333,  0.96833333,  0.96333333,\n",
       "         0.89333333,  0.98166667,  0.945     ,  0.98166667,  0.97333333,\n",
       "         0.98166667,  0.98666667,  0.98166667,  1.        ,  0.97833333,\n",
       "         0.975     ,  0.97833333,  0.985     ,  0.97833333,  0.985     ,\n",
       "         0.97833333,  1.        ]),\n",
       " 'param_C': masked_array(data = [0.01 0.01 0.01 0.01 0.01 0.01 0.01 0.01 0.1 0.1 0.1 0.1 0.1 0.1 0.1 0.1 1\n",
       "  1 1 1 1 1 1 1 10 10 10 10 10 10 10 10],\n",
       "              mask = [False False False False False False False False False False False False\n",
       "  False False False False False False False False False False False False\n",
       "  False False False False False False False False],\n",
       "        fill_value = ?),\n",
       " 'param_gamma': masked_array(data = [0.01 0.01 0.1 0.1 1 1 10 10 0.01 0.01 0.1 0.1 1 1 10 10 0.01 0.01 0.1 0.1\n",
       "  1 1 10 10 0.01 0.01 0.1 0.1 1 1 10 10],\n",
       "              mask = [False False False False False False False False False False False False\n",
       "  False False False False False False False False False False False False\n",
       "  False False False False False False False False],\n",
       "        fill_value = ?),\n",
       " 'param_kernel': masked_array(data = ['linear' 'rbf' 'linear' 'rbf' 'linear' 'rbf' 'linear' 'rbf' 'linear' 'rbf'\n",
       "  'linear' 'rbf' 'linear' 'rbf' 'linear' 'rbf' 'linear' 'rbf' 'linear' 'rbf'\n",
       "  'linear' 'rbf' 'linear' 'rbf' 'linear' 'rbf' 'linear' 'rbf' 'linear' 'rbf'\n",
       "  'linear' 'rbf'],\n",
       "              mask = [False False False False False False False False False False False False\n",
       "  False False False False False False False False False False False False\n",
       "  False False False False False False False False],\n",
       "        fill_value = ?),\n",
       " 'params': [{'C': 0.01, 'gamma': 0.01, 'kernel': 'linear'},\n",
       "  {'C': 0.01, 'gamma': 0.01, 'kernel': 'rbf'},\n",
       "  {'C': 0.01, 'gamma': 0.1, 'kernel': 'linear'},\n",
       "  {'C': 0.01, 'gamma': 0.1, 'kernel': 'rbf'},\n",
       "  {'C': 0.01, 'gamma': 1, 'kernel': 'linear'},\n",
       "  {'C': 0.01, 'gamma': 1, 'kernel': 'rbf'},\n",
       "  {'C': 0.01, 'gamma': 10, 'kernel': 'linear'},\n",
       "  {'C': 0.01, 'gamma': 10, 'kernel': 'rbf'},\n",
       "  {'C': 0.1, 'gamma': 0.01, 'kernel': 'linear'},\n",
       "  {'C': 0.1, 'gamma': 0.01, 'kernel': 'rbf'},\n",
       "  {'C': 0.1, 'gamma': 0.1, 'kernel': 'linear'},\n",
       "  {'C': 0.1, 'gamma': 0.1, 'kernel': 'rbf'},\n",
       "  {'C': 0.1, 'gamma': 1, 'kernel': 'linear'},\n",
       "  {'C': 0.1, 'gamma': 1, 'kernel': 'rbf'},\n",
       "  {'C': 0.1, 'gamma': 10, 'kernel': 'linear'},\n",
       "  {'C': 0.1, 'gamma': 10, 'kernel': 'rbf'},\n",
       "  {'C': 1, 'gamma': 0.01, 'kernel': 'linear'},\n",
       "  {'C': 1, 'gamma': 0.01, 'kernel': 'rbf'},\n",
       "  {'C': 1, 'gamma': 0.1, 'kernel': 'linear'},\n",
       "  {'C': 1, 'gamma': 0.1, 'kernel': 'rbf'},\n",
       "  {'C': 1, 'gamma': 1, 'kernel': 'linear'},\n",
       "  {'C': 1, 'gamma': 1, 'kernel': 'rbf'},\n",
       "  {'C': 1, 'gamma': 10, 'kernel': 'linear'},\n",
       "  {'C': 1, 'gamma': 10, 'kernel': 'rbf'},\n",
       "  {'C': 10, 'gamma': 0.01, 'kernel': 'linear'},\n",
       "  {'C': 10, 'gamma': 0.01, 'kernel': 'rbf'},\n",
       "  {'C': 10, 'gamma': 0.1, 'kernel': 'linear'},\n",
       "  {'C': 10, 'gamma': 0.1, 'kernel': 'rbf'},\n",
       "  {'C': 10, 'gamma': 1, 'kernel': 'linear'},\n",
       "  {'C': 10, 'gamma': 1, 'kernel': 'rbf'},\n",
       "  {'C': 10, 'gamma': 10, 'kernel': 'linear'},\n",
       "  {'C': 10, 'gamma': 10, 'kernel': 'rbf'}],\n",
       " 'rank_test_score': array([23, 28, 23, 28, 23, 17, 23, 31,  8, 28,  8, 23,  8, 17,  8, 31,  1,\n",
       "        21,  1,  1,  1, 16,  1, 20,  8,  1,  8,  1,  8, 19,  8, 21], dtype=int32),\n",
       " 'split0_test_score': array([ 0.9       ,  0.86666667,  0.9       ,  0.9       ,  0.9       ,\n",
       "         0.93333333,  0.9       ,  0.76666667,  0.96666667,  0.86666667,\n",
       "         0.96666667,  0.9       ,  0.96666667,  0.93333333,  0.96666667,\n",
       "         0.76666667,  0.96666667,  0.9       ,  0.96666667,  0.96666667,\n",
       "         0.96666667,  0.96666667,  0.96666667,  1.        ,  1.        ,\n",
       "         0.96666667,  1.        ,  0.96666667,  1.        ,  0.96666667,\n",
       "         1.        ,  1.        ]),\n",
       " 'split0_train_score': array([ 0.9       ,  0.925     ,  0.9       ,  0.925     ,  0.9       ,\n",
       "         0.975     ,  0.9       ,  0.875     ,  0.975     ,  0.925     ,\n",
       "         0.975     ,  0.95      ,  0.975     ,  0.975     ,  0.975     ,\n",
       "         0.875     ,  0.975     ,  0.95833333,  0.975     ,  0.975     ,\n",
       "         0.975     ,  0.975     ,  0.975     ,  1.        ,  0.96666667,\n",
       "         0.975     ,  0.96666667,  0.975     ,  0.96666667,  0.975     ,\n",
       "         0.96666667,  1.        ]),\n",
       " 'split1_test_score': array([ 0.96666667,  0.96666667,  0.96666667,  0.93333333,  0.96666667,\n",
       "         0.96666667,  0.96666667,  0.7       ,  0.96666667,  0.96666667,\n",
       "         0.96666667,  0.93333333,  0.96666667,  0.96666667,  0.96666667,\n",
       "         0.7       ,  1.        ,  0.96666667,  1.        ,  1.        ,\n",
       "         1.        ,  1.        ,  1.        ,  0.9       ,  1.        ,\n",
       "         1.        ,  1.        ,  1.        ,  1.        ,  0.96666667,\n",
       "         1.        ,  0.9       ]),\n",
       " 'split1_train_score': array([ 0.925     ,  0.91666667,  0.925     ,  0.94166667,  0.925     ,\n",
       "         0.95833333,  0.925     ,  0.90833333,  0.95      ,  0.91666667,\n",
       "         0.95      ,  0.94166667,  0.95      ,  0.95833333,  0.95      ,\n",
       "         0.90833333,  0.975     ,  0.93333333,  0.975     ,  0.95833333,\n",
       "         0.975     ,  0.98333333,  0.975     ,  1.        ,  0.96666667,\n",
       "         0.975     ,  0.96666667,  0.98333333,  0.96666667,  0.98333333,\n",
       "         0.96666667,  1.        ]),\n",
       " 'split2_test_score': array([ 0.86666667,  0.83333333,  0.86666667,  0.86666667,  0.86666667,\n",
       "         0.96666667,  0.86666667,  0.7       ,  0.96666667,  0.83333333,\n",
       "         0.96666667,  0.9       ,  0.96666667,  0.93333333,  0.96666667,\n",
       "         0.7       ,  0.96666667,  0.86666667,  0.96666667,  0.96666667,\n",
       "         0.96666667,  0.9       ,  0.96666667,  0.86666667,  0.9       ,\n",
       "         0.96666667,  0.9       ,  0.96666667,  0.9       ,  0.9       ,\n",
       "         0.9       ,  0.86666667]),\n",
       " 'split2_train_score': array([ 0.95833333,  0.93333333,  0.95833333,  0.94166667,  0.95833333,\n",
       "         0.96666667,  0.95833333,  0.88333333,  0.98333333,  0.93333333,\n",
       "         0.98333333,  0.95833333,  0.98333333,  0.98333333,  0.98333333,\n",
       "         0.88333333,  0.99166667,  0.96666667,  0.99166667,  0.975     ,\n",
       "         0.99166667,  0.99166667,  0.99166667,  1.        ,  0.99166667,\n",
       "         0.98333333,  0.99166667,  0.99166667,  0.99166667,  0.99166667,\n",
       "         0.99166667,  1.        ]),\n",
       " 'split3_test_score': array([ 0.96666667,  0.96666667,  0.96666667,  0.93333333,  0.96666667,\n",
       "         0.93333333,  0.96666667,  0.83333333,  0.96666667,  0.96666667,\n",
       "         0.96666667,  0.93333333,  0.96666667,  0.96666667,  0.96666667,\n",
       "         0.83333333,  0.96666667,  0.93333333,  0.96666667,  0.96666667,\n",
       "         0.96666667,  0.96666667,  0.96666667,  0.96666667,  0.96666667,\n",
       "         0.96666667,  0.96666667,  0.96666667,  0.96666667,  0.93333333,\n",
       "         0.96666667,  0.93333333]),\n",
       " 'split3_train_score': array([ 0.94166667,  0.925     ,  0.94166667,  0.94166667,  0.94166667,\n",
       "         0.96666667,  0.94166667,  0.9       ,  0.975     ,  0.925     ,\n",
       "         0.975     ,  0.94166667,  0.975     ,  0.975     ,  0.975     ,\n",
       "         0.9       ,  0.98333333,  0.95      ,  0.98333333,  1.        ,\n",
       "         0.98333333,  0.99166667,  0.98333333,  1.        ,  0.99166667,\n",
       "         0.98333333,  0.99166667,  0.99166667,  0.99166667,  0.99166667,\n",
       "         0.99166667,  1.        ]),\n",
       " 'split4_test_score': array([ 0.9       ,  0.93333333,  0.9       ,  0.93333333,  0.9       ,\n",
       "         1.        ,  0.9       ,  0.83333333,  1.        ,  0.93333333,\n",
       "         1.        ,  0.93333333,  1.        ,  1.        ,  1.        ,\n",
       "         0.83333333,  1.        ,  1.        ,  1.        ,  1.        ,\n",
       "         1.        ,  1.        ,  1.        ,  0.96666667,  1.        ,\n",
       "         1.        ,  1.        ,  1.        ,  1.        ,  1.        ,\n",
       "         1.        ,  0.96666667]),\n",
       " 'split4_train_score': array([ 0.90833333,  0.9       ,  0.90833333,  0.9       ,  0.90833333,\n",
       "         0.94166667,  0.90833333,  0.9       ,  0.93333333,  0.9       ,\n",
       "         0.93333333,  0.90833333,  0.93333333,  0.95      ,  0.93333333,\n",
       "         0.9       ,  0.98333333,  0.91666667,  0.98333333,  0.95833333,\n",
       "         0.98333333,  0.99166667,  0.98333333,  1.        ,  0.975     ,\n",
       "         0.95833333,  0.975     ,  0.98333333,  0.975     ,  0.98333333,\n",
       "         0.975     ,  1.        ]),\n",
       " 'std_fit_time': array([  1.27558405e-04,   5.79569715e-04,   2.39779707e-04,\n",
       "          2.40316466e-05,   3.87794983e-06,   7.91262379e-06,\n",
       "          2.13764189e-04,   2.24081778e-04,   7.07745863e-06,\n",
       "          3.40062129e-06,   3.20227306e-06,   6.55785460e-06,\n",
       "          4.48226929e-06,   1.47153523e-05,   5.11484263e-06,\n",
       "          3.02140971e-05,   2.21067384e-05,   1.54752576e-05,\n",
       "          1.59223631e-05,   1.82095614e-05,   5.03899796e-05,\n",
       "          9.14686284e-05,   1.96616700e-04,   4.50076149e-04,\n",
       "          5.06133837e-05,   5.84720970e-05,   9.27111238e-05,\n",
       "          3.38734324e-05,   1.11358782e-04,   6.89664799e-05,\n",
       "          7.20503313e-05,   3.37376203e-04]),\n",
       " 'std_score_time': array([  1.16934569e-04,   2.79334390e-04,   1.27204747e-04,\n",
       "          6.62168706e-06,   7.13664510e-07,   9.95665217e-07,\n",
       "          8.02840855e-05,   1.22848985e-04,   1.88093976e-06,\n",
       "          1.07684992e-06,   5.00111031e-07,   1.00475824e-06,\n",
       "          7.59953377e-07,   4.47668580e-06,   2.87924369e-06,\n",
       "          6.36154027e-05,   2.65234642e-06,   3.45369701e-06,\n",
       "          1.48050067e-06,   7.92181383e-07,   2.23917571e-05,\n",
       "          4.23053195e-05,   7.63952953e-05,   5.32965309e-05,\n",
       "          1.36633609e-05,   4.57721450e-05,   3.92827006e-05,\n",
       "          7.10055201e-06,   8.34063570e-05,   2.14287245e-05,\n",
       "          9.16253984e-05,   1.06805286e-04]),\n",
       " 'std_test_score': array([ 0.04      ,  0.05416026,  0.04      ,  0.02666667,  0.04      ,\n",
       "         0.02494438,  0.04      ,  0.05962848,  0.01333333,  0.05416026,\n",
       "         0.01333333,  0.01632993,  0.01333333,  0.02494438,  0.01333333,\n",
       "         0.05962848,  0.01632993,  0.04714045,  0.01632993,  0.01632993,\n",
       "         0.01632993,  0.03651484,  0.01632993,  0.04898979,  0.03887301,\n",
       "         0.01632993,  0.03887301,  0.01632993,  0.03887301,  0.03399346,\n",
       "         0.03887301,  0.04714045]),\n",
       " 'std_train_score': array([ 0.02134375,  0.01130388,  0.02134375,  0.01632993,  0.02134375,\n",
       "         0.01130388,  0.02134375,  0.01224745,  0.01870829,  0.01130388,\n",
       "         0.01870829,  0.01699673,  0.01870829,  0.01224745,  0.01870829,\n",
       "         0.01224745,  0.0062361 ,  0.01795055,  0.0062361 ,  0.01527525,\n",
       "         0.0062361 ,  0.00666667,  0.0062361 ,  0.        ,  0.01130388,\n",
       "         0.00912871,  0.01130388,  0.0062361 ,  0.01130388,  0.0062361 ,\n",
       "         0.01130388,  0.        ])}"
      ]
     },
     "execution_count": 5,
     "metadata": {},
     "output_type": "execute_result"
    }
   ],
   "source": [
    "best_model.cv_results_"
   ]
  },
  {
   "cell_type": "code",
   "execution_count": null,
   "metadata": {
    "collapsed": true
   },
   "outputs": [],
   "source": []
  }
 ],
 "metadata": {
  "kernelspec": {
   "display_name": "Python 3",
   "language": "python",
   "name": "python3"
  },
  "language_info": {
   "codemirror_mode": {
    "name": "ipython",
    "version": 3
   },
   "file_extension": ".py",
   "mimetype": "text/x-python",
   "name": "python",
   "nbconvert_exporter": "python",
   "pygments_lexer": "ipython3",
   "version": "3.5.4"
  }
 },
 "nbformat": 4,
 "nbformat_minor": 2
}
