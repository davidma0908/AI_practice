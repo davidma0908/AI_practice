{
 "cells": [
  {
   "cell_type": "code",
   "execution_count": 1,
   "metadata": {
    "collapsed": true
   },
   "outputs": [],
   "source": [
    "from sklearn import preprocessing\n",
    "import numpy as np"
   ]
  },
  {
   "cell_type": "code",
   "execution_count": 2,
   "metadata": {},
   "outputs": [
    {
     "name": "stdout",
     "output_type": "stream",
     "text": [
      "[[  10.     2.7    3.6    5. ]\n",
      " [-100.     5.    -2.    10. ]\n",
      " [ 120.    20.    40.    50. ]]\n"
     ]
    }
   ],
   "source": [
    "a = np.array([[10, 2.7, 3.6, 5],\n",
    "              [-100, 5, -2, 10],\n",
    "              [120, 20, 40, 50]], dtype=np.float64)\n",
    "print(a)"
   ]
  },
  {
   "cell_type": "code",
   "execution_count": 3,
   "metadata": {
    "collapsed": true
   },
   "outputs": [],
   "source": [
    "def normalize(x, axis, method, minmax_range =(0,1)):\n",
    "    if method == 'z-score':\n",
    "        scale_a = preprocessing.scale(x, axis=axis)\n",
    "    elif method== 'minmax':    \n",
    "        scale_a = preprocessing.minmax_scale(x, axis=axis, feature_range=minmax_range) #default feature range 0~1\n",
    "    return scale_a"
   ]
  },
  {
   "cell_type": "markdown",
   "metadata": {},
   "source": [
    "# Z-Score"
   ]
  },
  {
   "cell_type": "code",
   "execution_count": 4,
   "metadata": {},
   "outputs": [
    {
     "name": "stdout",
     "output_type": "stream",
     "text": [
      "[[ 0.         -0.85170713 -0.55138018 -0.82760589]\n",
      " [-1.22474487 -0.55187146 -0.852133   -0.57932412]\n",
      " [ 1.22474487  1.40357859  1.40351318  1.40693001]]\n"
     ]
    }
   ],
   "source": [
    "# 改變axis，看看結果如何變化\n",
    "axis =0\n",
    "scale_a = normalize(a, axis, method = 'z-score')\n",
    "print(scale_a)"
   ]
  },
  {
   "cell_type": "code",
   "execution_count": 5,
   "metadata": {},
   "outputs": [
    {
     "name": "stdout",
     "output_type": "stream",
     "text": [
      "[ 1.  1.  1.  1.]\n",
      "[  0.00000000e+00   1.48029737e-16   0.00000000e+00  -7.40148683e-17]\n"
     ]
    }
   ],
   "source": [
    "print(scale_a.std(axis =axis))\n",
    "print(scale_a.mean(axis =axis))"
   ]
  },
  {
   "cell_type": "markdown",
   "metadata": {},
   "source": [
    "# Maxmin Scale"
   ]
  },
  {
   "cell_type": "code",
   "execution_count": 6,
   "metadata": {},
   "outputs": [
    {
     "name": "stdout",
     "output_type": "stream",
     "text": [
      "[[ 0.5         0.          0.13333333  0.        ]\n",
      " [ 0.          0.13294798  0.          0.11111111]\n",
      " [ 1.          1.          1.          1.        ]]\n"
     ]
    }
   ],
   "source": [
    "# 改變axis，看看結果如何變化\n",
    "axis =0\n",
    "# 改變minmax_range看看結果如何變化\n",
    "scale_a = normalize(a, axis, method = 'minmax', minmax_range=(0,1))\n",
    "print(scale_a)"
   ]
  },
  {
   "cell_type": "code",
   "execution_count": 7,
   "metadata": {},
   "outputs": [
    {
     "name": "stdout",
     "output_type": "stream",
     "text": [
      "[ 1.  1.  1.  1.]\n",
      "[ 0.  0.  0.  0.]\n"
     ]
    }
   ],
   "source": [
    "print(scale_a.max(axis =axis))\n",
    "print(scale_a.min(axis =axis))"
   ]
  },
  {
   "cell_type": "code",
   "execution_count": null,
   "metadata": {
    "collapsed": true
   },
   "outputs": [],
   "source": []
  }
 ],
 "metadata": {
  "kernelspec": {
   "display_name": "Python 3",
   "language": "python",
   "name": "python3"
  },
  "language_info": {
   "codemirror_mode": {
    "name": "ipython",
    "version": 3
   },
   "file_extension": ".py",
   "mimetype": "text/x-python",
   "name": "python",
   "nbconvert_exporter": "python",
   "pygments_lexer": "ipython3",
   "version": "3.6.3"
  }
 },
 "nbformat": 4,
 "nbformat_minor": 2
}
